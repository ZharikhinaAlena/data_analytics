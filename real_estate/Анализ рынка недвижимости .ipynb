{
 "cells": [
  {
   "cell_type": "markdown",
   "metadata": {},
   "source": [
    "# Исследование объявлений о продаже квартир.\n",
    "\n",
    "В вашем распоряжении данные сервиса Яндекс.Недвижимость — архив объявлений о продаже квартир в Санкт-Петербурге и соседних населённых пунктов за несколько лет. Нужно научиться определять рыночную стоимость объектов недвижимости. Наша задача — установить параметры. Это позволит построить автоматизированную систему: она отследит аномалии и мошенническую деятельность. \n",
    "\n",
    "По каждой квартире на продажу доступны два вида данных. Первые вписаны пользователем, вторые — получены автоматически на основе картографических данных. Например, расстояние до центра, аэропорта, ближайшего парка и водоёма. "
   ]
  },
  {
   "cell_type": "markdown",
   "metadata": {},
   "source": [
    "### Откроем файл с данными и изучим общую информацию. "
   ]
  },
  {
   "cell_type": "code",
   "execution_count": 152,
   "metadata": {},
   "outputs": [
    {
     "data": {
      "text/html": [
       "<div>\n",
       "<style scoped>\n",
       "    .dataframe tbody tr th:only-of-type {\n",
       "        vertical-align: middle;\n",
       "    }\n",
       "\n",
       "    .dataframe tbody tr th {\n",
       "        vertical-align: top;\n",
       "    }\n",
       "\n",
       "    .dataframe thead th {\n",
       "        text-align: right;\n",
       "    }\n",
       "</style>\n",
       "<table border=\"1\" class=\"dataframe\">\n",
       "  <thead>\n",
       "    <tr style=\"text-align: right;\">\n",
       "      <th></th>\n",
       "      <th>total_images</th>\n",
       "      <th>last_price</th>\n",
       "      <th>total_area</th>\n",
       "      <th>first_day_exposition</th>\n",
       "      <th>rooms</th>\n",
       "      <th>ceiling_height</th>\n",
       "      <th>floors_total</th>\n",
       "      <th>living_area</th>\n",
       "      <th>floor</th>\n",
       "      <th>is_apartment</th>\n",
       "      <th>...</th>\n",
       "      <th>kitchen_area</th>\n",
       "      <th>balcony</th>\n",
       "      <th>locality_name</th>\n",
       "      <th>airports_nearest</th>\n",
       "      <th>cityCenters_nearest</th>\n",
       "      <th>parks_around3000</th>\n",
       "      <th>parks_nearest</th>\n",
       "      <th>ponds_around3000</th>\n",
       "      <th>ponds_nearest</th>\n",
       "      <th>days_exposition</th>\n",
       "    </tr>\n",
       "  </thead>\n",
       "  <tbody>\n",
       "    <tr>\n",
       "      <th>0</th>\n",
       "      <td>20</td>\n",
       "      <td>13000000.0</td>\n",
       "      <td>108.00</td>\n",
       "      <td>2019-03-07T00:00:00</td>\n",
       "      <td>3</td>\n",
       "      <td>2.70</td>\n",
       "      <td>16.0</td>\n",
       "      <td>51.00</td>\n",
       "      <td>8</td>\n",
       "      <td>NaN</td>\n",
       "      <td>...</td>\n",
       "      <td>25.00</td>\n",
       "      <td>NaN</td>\n",
       "      <td>Санкт-Петербург</td>\n",
       "      <td>18863.0</td>\n",
       "      <td>16028.0</td>\n",
       "      <td>1.0</td>\n",
       "      <td>482.0</td>\n",
       "      <td>2.0</td>\n",
       "      <td>755.0</td>\n",
       "      <td>NaN</td>\n",
       "    </tr>\n",
       "    <tr>\n",
       "      <th>1</th>\n",
       "      <td>7</td>\n",
       "      <td>3350000.0</td>\n",
       "      <td>40.40</td>\n",
       "      <td>2018-12-04T00:00:00</td>\n",
       "      <td>1</td>\n",
       "      <td>NaN</td>\n",
       "      <td>11.0</td>\n",
       "      <td>18.60</td>\n",
       "      <td>1</td>\n",
       "      <td>NaN</td>\n",
       "      <td>...</td>\n",
       "      <td>11.00</td>\n",
       "      <td>2.0</td>\n",
       "      <td>посёлок Шушары</td>\n",
       "      <td>12817.0</td>\n",
       "      <td>18603.0</td>\n",
       "      <td>0.0</td>\n",
       "      <td>NaN</td>\n",
       "      <td>0.0</td>\n",
       "      <td>NaN</td>\n",
       "      <td>81.0</td>\n",
       "    </tr>\n",
       "    <tr>\n",
       "      <th>2</th>\n",
       "      <td>10</td>\n",
       "      <td>5196000.0</td>\n",
       "      <td>56.00</td>\n",
       "      <td>2015-08-20T00:00:00</td>\n",
       "      <td>2</td>\n",
       "      <td>NaN</td>\n",
       "      <td>5.0</td>\n",
       "      <td>34.30</td>\n",
       "      <td>4</td>\n",
       "      <td>NaN</td>\n",
       "      <td>...</td>\n",
       "      <td>8.30</td>\n",
       "      <td>0.0</td>\n",
       "      <td>Санкт-Петербург</td>\n",
       "      <td>21741.0</td>\n",
       "      <td>13933.0</td>\n",
       "      <td>1.0</td>\n",
       "      <td>90.0</td>\n",
       "      <td>2.0</td>\n",
       "      <td>574.0</td>\n",
       "      <td>558.0</td>\n",
       "    </tr>\n",
       "    <tr>\n",
       "      <th>3</th>\n",
       "      <td>0</td>\n",
       "      <td>64900000.0</td>\n",
       "      <td>159.00</td>\n",
       "      <td>2015-07-24T00:00:00</td>\n",
       "      <td>3</td>\n",
       "      <td>NaN</td>\n",
       "      <td>14.0</td>\n",
       "      <td>NaN</td>\n",
       "      <td>9</td>\n",
       "      <td>NaN</td>\n",
       "      <td>...</td>\n",
       "      <td>NaN</td>\n",
       "      <td>0.0</td>\n",
       "      <td>Санкт-Петербург</td>\n",
       "      <td>28098.0</td>\n",
       "      <td>6800.0</td>\n",
       "      <td>2.0</td>\n",
       "      <td>84.0</td>\n",
       "      <td>3.0</td>\n",
       "      <td>234.0</td>\n",
       "      <td>424.0</td>\n",
       "    </tr>\n",
       "    <tr>\n",
       "      <th>4</th>\n",
       "      <td>2</td>\n",
       "      <td>10000000.0</td>\n",
       "      <td>100.00</td>\n",
       "      <td>2018-06-19T00:00:00</td>\n",
       "      <td>2</td>\n",
       "      <td>3.03</td>\n",
       "      <td>14.0</td>\n",
       "      <td>32.00</td>\n",
       "      <td>13</td>\n",
       "      <td>NaN</td>\n",
       "      <td>...</td>\n",
       "      <td>41.00</td>\n",
       "      <td>NaN</td>\n",
       "      <td>Санкт-Петербург</td>\n",
       "      <td>31856.0</td>\n",
       "      <td>8098.0</td>\n",
       "      <td>2.0</td>\n",
       "      <td>112.0</td>\n",
       "      <td>1.0</td>\n",
       "      <td>48.0</td>\n",
       "      <td>121.0</td>\n",
       "    </tr>\n",
       "    <tr>\n",
       "      <th>5</th>\n",
       "      <td>10</td>\n",
       "      <td>2890000.0</td>\n",
       "      <td>30.40</td>\n",
       "      <td>2018-09-10T00:00:00</td>\n",
       "      <td>1</td>\n",
       "      <td>NaN</td>\n",
       "      <td>12.0</td>\n",
       "      <td>14.40</td>\n",
       "      <td>5</td>\n",
       "      <td>NaN</td>\n",
       "      <td>...</td>\n",
       "      <td>9.10</td>\n",
       "      <td>NaN</td>\n",
       "      <td>городской посёлок Янино-1</td>\n",
       "      <td>NaN</td>\n",
       "      <td>NaN</td>\n",
       "      <td>NaN</td>\n",
       "      <td>NaN</td>\n",
       "      <td>NaN</td>\n",
       "      <td>NaN</td>\n",
       "      <td>55.0</td>\n",
       "    </tr>\n",
       "    <tr>\n",
       "      <th>6</th>\n",
       "      <td>6</td>\n",
       "      <td>3700000.0</td>\n",
       "      <td>37.30</td>\n",
       "      <td>2017-11-02T00:00:00</td>\n",
       "      <td>1</td>\n",
       "      <td>NaN</td>\n",
       "      <td>26.0</td>\n",
       "      <td>10.60</td>\n",
       "      <td>6</td>\n",
       "      <td>NaN</td>\n",
       "      <td>...</td>\n",
       "      <td>14.40</td>\n",
       "      <td>1.0</td>\n",
       "      <td>посёлок Парголово</td>\n",
       "      <td>52996.0</td>\n",
       "      <td>19143.0</td>\n",
       "      <td>0.0</td>\n",
       "      <td>NaN</td>\n",
       "      <td>0.0</td>\n",
       "      <td>NaN</td>\n",
       "      <td>155.0</td>\n",
       "    </tr>\n",
       "    <tr>\n",
       "      <th>7</th>\n",
       "      <td>5</td>\n",
       "      <td>7915000.0</td>\n",
       "      <td>71.60</td>\n",
       "      <td>2019-04-18T00:00:00</td>\n",
       "      <td>2</td>\n",
       "      <td>NaN</td>\n",
       "      <td>24.0</td>\n",
       "      <td>NaN</td>\n",
       "      <td>22</td>\n",
       "      <td>NaN</td>\n",
       "      <td>...</td>\n",
       "      <td>18.90</td>\n",
       "      <td>2.0</td>\n",
       "      <td>Санкт-Петербург</td>\n",
       "      <td>23982.0</td>\n",
       "      <td>11634.0</td>\n",
       "      <td>0.0</td>\n",
       "      <td>NaN</td>\n",
       "      <td>0.0</td>\n",
       "      <td>NaN</td>\n",
       "      <td>NaN</td>\n",
       "    </tr>\n",
       "    <tr>\n",
       "      <th>8</th>\n",
       "      <td>20</td>\n",
       "      <td>2900000.0</td>\n",
       "      <td>33.16</td>\n",
       "      <td>2018-05-23T00:00:00</td>\n",
       "      <td>1</td>\n",
       "      <td>NaN</td>\n",
       "      <td>27.0</td>\n",
       "      <td>15.43</td>\n",
       "      <td>26</td>\n",
       "      <td>NaN</td>\n",
       "      <td>...</td>\n",
       "      <td>8.81</td>\n",
       "      <td>NaN</td>\n",
       "      <td>посёлок Мурино</td>\n",
       "      <td>NaN</td>\n",
       "      <td>NaN</td>\n",
       "      <td>NaN</td>\n",
       "      <td>NaN</td>\n",
       "      <td>NaN</td>\n",
       "      <td>NaN</td>\n",
       "      <td>189.0</td>\n",
       "    </tr>\n",
       "    <tr>\n",
       "      <th>9</th>\n",
       "      <td>18</td>\n",
       "      <td>5400000.0</td>\n",
       "      <td>61.00</td>\n",
       "      <td>2017-02-26T00:00:00</td>\n",
       "      <td>3</td>\n",
       "      <td>2.50</td>\n",
       "      <td>9.0</td>\n",
       "      <td>43.60</td>\n",
       "      <td>7</td>\n",
       "      <td>NaN</td>\n",
       "      <td>...</td>\n",
       "      <td>6.50</td>\n",
       "      <td>2.0</td>\n",
       "      <td>Санкт-Петербург</td>\n",
       "      <td>50898.0</td>\n",
       "      <td>15008.0</td>\n",
       "      <td>0.0</td>\n",
       "      <td>NaN</td>\n",
       "      <td>0.0</td>\n",
       "      <td>NaN</td>\n",
       "      <td>289.0</td>\n",
       "    </tr>\n",
       "  </tbody>\n",
       "</table>\n",
       "<p>10 rows × 22 columns</p>\n",
       "</div>"
      ],
      "text/plain": [
       "   total_images  last_price  total_area first_day_exposition  rooms  \\\n",
       "0            20  13000000.0      108.00  2019-03-07T00:00:00      3   \n",
       "1             7   3350000.0       40.40  2018-12-04T00:00:00      1   \n",
       "2            10   5196000.0       56.00  2015-08-20T00:00:00      2   \n",
       "3             0  64900000.0      159.00  2015-07-24T00:00:00      3   \n",
       "4             2  10000000.0      100.00  2018-06-19T00:00:00      2   \n",
       "5            10   2890000.0       30.40  2018-09-10T00:00:00      1   \n",
       "6             6   3700000.0       37.30  2017-11-02T00:00:00      1   \n",
       "7             5   7915000.0       71.60  2019-04-18T00:00:00      2   \n",
       "8            20   2900000.0       33.16  2018-05-23T00:00:00      1   \n",
       "9            18   5400000.0       61.00  2017-02-26T00:00:00      3   \n",
       "\n",
       "   ceiling_height  floors_total  living_area  floor is_apartment  ...  \\\n",
       "0            2.70          16.0        51.00      8          NaN  ...   \n",
       "1             NaN          11.0        18.60      1          NaN  ...   \n",
       "2             NaN           5.0        34.30      4          NaN  ...   \n",
       "3             NaN          14.0          NaN      9          NaN  ...   \n",
       "4            3.03          14.0        32.00     13          NaN  ...   \n",
       "5             NaN          12.0        14.40      5          NaN  ...   \n",
       "6             NaN          26.0        10.60      6          NaN  ...   \n",
       "7             NaN          24.0          NaN     22          NaN  ...   \n",
       "8             NaN          27.0        15.43     26          NaN  ...   \n",
       "9            2.50           9.0        43.60      7          NaN  ...   \n",
       "\n",
       "   kitchen_area  balcony              locality_name  airports_nearest  \\\n",
       "0         25.00      NaN            Санкт-Петербург           18863.0   \n",
       "1         11.00      2.0             посёлок Шушары           12817.0   \n",
       "2          8.30      0.0            Санкт-Петербург           21741.0   \n",
       "3           NaN      0.0            Санкт-Петербург           28098.0   \n",
       "4         41.00      NaN            Санкт-Петербург           31856.0   \n",
       "5          9.10      NaN  городской посёлок Янино-1               NaN   \n",
       "6         14.40      1.0          посёлок Парголово           52996.0   \n",
       "7         18.90      2.0            Санкт-Петербург           23982.0   \n",
       "8          8.81      NaN             посёлок Мурино               NaN   \n",
       "9          6.50      2.0            Санкт-Петербург           50898.0   \n",
       "\n",
       "  cityCenters_nearest  parks_around3000  parks_nearest  ponds_around3000  \\\n",
       "0             16028.0               1.0          482.0               2.0   \n",
       "1             18603.0               0.0            NaN               0.0   \n",
       "2             13933.0               1.0           90.0               2.0   \n",
       "3              6800.0               2.0           84.0               3.0   \n",
       "4              8098.0               2.0          112.0               1.0   \n",
       "5                 NaN               NaN            NaN               NaN   \n",
       "6             19143.0               0.0            NaN               0.0   \n",
       "7             11634.0               0.0            NaN               0.0   \n",
       "8                 NaN               NaN            NaN               NaN   \n",
       "9             15008.0               0.0            NaN               0.0   \n",
       "\n",
       "   ponds_nearest  days_exposition  \n",
       "0          755.0              NaN  \n",
       "1            NaN             81.0  \n",
       "2          574.0            558.0  \n",
       "3          234.0            424.0  \n",
       "4           48.0            121.0  \n",
       "5            NaN             55.0  \n",
       "6            NaN            155.0  \n",
       "7            NaN              NaN  \n",
       "8            NaN            189.0  \n",
       "9            NaN            289.0  \n",
       "\n",
       "[10 rows x 22 columns]"
      ]
     },
     "execution_count": 152,
     "metadata": {},
     "output_type": "execute_result"
    }
   ],
   "source": [
    "import pandas as pd #импортируем библиотеку pandas\n",
    "import matplotlib.pyplot as plt #импортируем библиотеку matplotlib\n",
    "data = pd.read_csv('/datasets/real_estate_data.csv', sep = '\\t') #прочитаем csv-файл и сохраним в переменную data\n",
    "data.head(10) #выведем первые 10 строк датафрейма data на экран"
   ]
  },
  {
   "cell_type": "markdown",
   "metadata": {},
   "source": [
    "**Изучим общую информацию о полученном датафрейме методом info() и используем метод describe( ) для получения сводки числовых значений в вашем наборе данных:**"
   ]
  },
  {
   "cell_type": "code",
   "execution_count": 153,
   "metadata": {},
   "outputs": [
    {
     "name": "stdout",
     "output_type": "stream",
     "text": [
      "<class 'pandas.core.frame.DataFrame'>\n",
      "RangeIndex: 23699 entries, 0 to 23698\n",
      "Data columns (total 22 columns):\n",
      " #   Column                Non-Null Count  Dtype  \n",
      "---  ------                --------------  -----  \n",
      " 0   total_images          23699 non-null  int64  \n",
      " 1   last_price            23699 non-null  float64\n",
      " 2   total_area            23699 non-null  float64\n",
      " 3   first_day_exposition  23699 non-null  object \n",
      " 4   rooms                 23699 non-null  int64  \n",
      " 5   ceiling_height        14504 non-null  float64\n",
      " 6   floors_total          23613 non-null  float64\n",
      " 7   living_area           21796 non-null  float64\n",
      " 8   floor                 23699 non-null  int64  \n",
      " 9   is_apartment          2775 non-null   object \n",
      " 10  studio                23699 non-null  bool   \n",
      " 11  open_plan             23699 non-null  bool   \n",
      " 12  kitchen_area          21421 non-null  float64\n",
      " 13  balcony               12180 non-null  float64\n",
      " 14  locality_name         23650 non-null  object \n",
      " 15  airports_nearest      18157 non-null  float64\n",
      " 16  cityCenters_nearest   18180 non-null  float64\n",
      " 17  parks_around3000      18181 non-null  float64\n",
      " 18  parks_nearest         8079 non-null   float64\n",
      " 19  ponds_around3000      18181 non-null  float64\n",
      " 20  ponds_nearest         9110 non-null   float64\n",
      " 21  days_exposition       20518 non-null  float64\n",
      "dtypes: bool(2), float64(14), int64(3), object(3)\n",
      "memory usage: 3.7+ MB\n"
     ]
    },
    {
     "data": {
      "text/html": [
       "<div>\n",
       "<style scoped>\n",
       "    .dataframe tbody tr th:only-of-type {\n",
       "        vertical-align: middle;\n",
       "    }\n",
       "\n",
       "    .dataframe tbody tr th {\n",
       "        vertical-align: top;\n",
       "    }\n",
       "\n",
       "    .dataframe thead th {\n",
       "        text-align: right;\n",
       "    }\n",
       "</style>\n",
       "<table border=\"1\" class=\"dataframe\">\n",
       "  <thead>\n",
       "    <tr style=\"text-align: right;\">\n",
       "      <th></th>\n",
       "      <th>total_images</th>\n",
       "      <th>last_price</th>\n",
       "      <th>total_area</th>\n",
       "      <th>rooms</th>\n",
       "      <th>ceiling_height</th>\n",
       "      <th>floors_total</th>\n",
       "      <th>living_area</th>\n",
       "      <th>floor</th>\n",
       "      <th>kitchen_area</th>\n",
       "      <th>balcony</th>\n",
       "      <th>airports_nearest</th>\n",
       "      <th>cityCenters_nearest</th>\n",
       "      <th>parks_around3000</th>\n",
       "      <th>parks_nearest</th>\n",
       "      <th>ponds_around3000</th>\n",
       "      <th>ponds_nearest</th>\n",
       "      <th>days_exposition</th>\n",
       "    </tr>\n",
       "  </thead>\n",
       "  <tbody>\n",
       "    <tr>\n",
       "      <th>count</th>\n",
       "      <td>23699.0</td>\n",
       "      <td>23699.0</td>\n",
       "      <td>23699.0</td>\n",
       "      <td>23699.0</td>\n",
       "      <td>14504.0</td>\n",
       "      <td>23613.0</td>\n",
       "      <td>21796.0</td>\n",
       "      <td>23699.0</td>\n",
       "      <td>21421.0</td>\n",
       "      <td>12180.0</td>\n",
       "      <td>18157.0</td>\n",
       "      <td>18180.0</td>\n",
       "      <td>18181.0</td>\n",
       "      <td>8079.0</td>\n",
       "      <td>18181.0</td>\n",
       "      <td>9110.0</td>\n",
       "      <td>20518.0</td>\n",
       "    </tr>\n",
       "    <tr>\n",
       "      <th>mean</th>\n",
       "      <td>10.0</td>\n",
       "      <td>6541549.0</td>\n",
       "      <td>60.0</td>\n",
       "      <td>2.0</td>\n",
       "      <td>3.0</td>\n",
       "      <td>11.0</td>\n",
       "      <td>34.0</td>\n",
       "      <td>6.0</td>\n",
       "      <td>11.0</td>\n",
       "      <td>1.0</td>\n",
       "      <td>28794.0</td>\n",
       "      <td>14191.0</td>\n",
       "      <td>1.0</td>\n",
       "      <td>491.0</td>\n",
       "      <td>1.0</td>\n",
       "      <td>518.0</td>\n",
       "      <td>181.0</td>\n",
       "    </tr>\n",
       "    <tr>\n",
       "      <th>std</th>\n",
       "      <td>6.0</td>\n",
       "      <td>10887013.0</td>\n",
       "      <td>36.0</td>\n",
       "      <td>1.0</td>\n",
       "      <td>1.0</td>\n",
       "      <td>7.0</td>\n",
       "      <td>22.0</td>\n",
       "      <td>5.0</td>\n",
       "      <td>6.0</td>\n",
       "      <td>1.0</td>\n",
       "      <td>12631.0</td>\n",
       "      <td>8608.0</td>\n",
       "      <td>1.0</td>\n",
       "      <td>342.0</td>\n",
       "      <td>1.0</td>\n",
       "      <td>278.0</td>\n",
       "      <td>220.0</td>\n",
       "    </tr>\n",
       "    <tr>\n",
       "      <th>min</th>\n",
       "      <td>0.0</td>\n",
       "      <td>12190.0</td>\n",
       "      <td>12.0</td>\n",
       "      <td>0.0</td>\n",
       "      <td>1.0</td>\n",
       "      <td>1.0</td>\n",
       "      <td>2.0</td>\n",
       "      <td>1.0</td>\n",
       "      <td>1.0</td>\n",
       "      <td>0.0</td>\n",
       "      <td>0.0</td>\n",
       "      <td>181.0</td>\n",
       "      <td>0.0</td>\n",
       "      <td>1.0</td>\n",
       "      <td>0.0</td>\n",
       "      <td>13.0</td>\n",
       "      <td>1.0</td>\n",
       "    </tr>\n",
       "    <tr>\n",
       "      <th>25%</th>\n",
       "      <td>6.0</td>\n",
       "      <td>3400000.0</td>\n",
       "      <td>40.0</td>\n",
       "      <td>1.0</td>\n",
       "      <td>3.0</td>\n",
       "      <td>5.0</td>\n",
       "      <td>19.0</td>\n",
       "      <td>2.0</td>\n",
       "      <td>7.0</td>\n",
       "      <td>0.0</td>\n",
       "      <td>18585.0</td>\n",
       "      <td>9238.0</td>\n",
       "      <td>0.0</td>\n",
       "      <td>288.0</td>\n",
       "      <td>0.0</td>\n",
       "      <td>294.0</td>\n",
       "      <td>45.0</td>\n",
       "    </tr>\n",
       "    <tr>\n",
       "      <th>50%</th>\n",
       "      <td>9.0</td>\n",
       "      <td>4650000.0</td>\n",
       "      <td>52.0</td>\n",
       "      <td>2.0</td>\n",
       "      <td>3.0</td>\n",
       "      <td>9.0</td>\n",
       "      <td>30.0</td>\n",
       "      <td>4.0</td>\n",
       "      <td>9.0</td>\n",
       "      <td>1.0</td>\n",
       "      <td>26726.0</td>\n",
       "      <td>13098.0</td>\n",
       "      <td>0.0</td>\n",
       "      <td>455.0</td>\n",
       "      <td>1.0</td>\n",
       "      <td>502.0</td>\n",
       "      <td>95.0</td>\n",
       "    </tr>\n",
       "    <tr>\n",
       "      <th>75%</th>\n",
       "      <td>14.0</td>\n",
       "      <td>6800000.0</td>\n",
       "      <td>70.0</td>\n",
       "      <td>3.0</td>\n",
       "      <td>3.0</td>\n",
       "      <td>16.0</td>\n",
       "      <td>42.0</td>\n",
       "      <td>8.0</td>\n",
       "      <td>12.0</td>\n",
       "      <td>2.0</td>\n",
       "      <td>37273.0</td>\n",
       "      <td>16293.0</td>\n",
       "      <td>1.0</td>\n",
       "      <td>612.0</td>\n",
       "      <td>1.0</td>\n",
       "      <td>729.0</td>\n",
       "      <td>232.0</td>\n",
       "    </tr>\n",
       "    <tr>\n",
       "      <th>max</th>\n",
       "      <td>50.0</td>\n",
       "      <td>763000000.0</td>\n",
       "      <td>900.0</td>\n",
       "      <td>19.0</td>\n",
       "      <td>100.0</td>\n",
       "      <td>60.0</td>\n",
       "      <td>410.0</td>\n",
       "      <td>33.0</td>\n",
       "      <td>112.0</td>\n",
       "      <td>5.0</td>\n",
       "      <td>84869.0</td>\n",
       "      <td>65968.0</td>\n",
       "      <td>3.0</td>\n",
       "      <td>3190.0</td>\n",
       "      <td>3.0</td>\n",
       "      <td>1344.0</td>\n",
       "      <td>1580.0</td>\n",
       "    </tr>\n",
       "  </tbody>\n",
       "</table>\n",
       "</div>"
      ],
      "text/plain": [
       "       total_images   last_price  total_area    rooms  ceiling_height  \\\n",
       "count       23699.0      23699.0     23699.0  23699.0         14504.0   \n",
       "mean           10.0    6541549.0        60.0      2.0             3.0   \n",
       "std             6.0   10887013.0        36.0      1.0             1.0   \n",
       "min             0.0      12190.0        12.0      0.0             1.0   \n",
       "25%             6.0    3400000.0        40.0      1.0             3.0   \n",
       "50%             9.0    4650000.0        52.0      2.0             3.0   \n",
       "75%            14.0    6800000.0        70.0      3.0             3.0   \n",
       "max            50.0  763000000.0       900.0     19.0           100.0   \n",
       "\n",
       "       floors_total  living_area    floor  kitchen_area  balcony  \\\n",
       "count       23613.0      21796.0  23699.0       21421.0  12180.0   \n",
       "mean           11.0         34.0      6.0          11.0      1.0   \n",
       "std             7.0         22.0      5.0           6.0      1.0   \n",
       "min             1.0          2.0      1.0           1.0      0.0   \n",
       "25%             5.0         19.0      2.0           7.0      0.0   \n",
       "50%             9.0         30.0      4.0           9.0      1.0   \n",
       "75%            16.0         42.0      8.0          12.0      2.0   \n",
       "max            60.0        410.0     33.0         112.0      5.0   \n",
       "\n",
       "       airports_nearest  cityCenters_nearest  parks_around3000  parks_nearest  \\\n",
       "count           18157.0              18180.0           18181.0         8079.0   \n",
       "mean            28794.0              14191.0               1.0          491.0   \n",
       "std             12631.0               8608.0               1.0          342.0   \n",
       "min                 0.0                181.0               0.0            1.0   \n",
       "25%             18585.0               9238.0               0.0          288.0   \n",
       "50%             26726.0              13098.0               0.0          455.0   \n",
       "75%             37273.0              16293.0               1.0          612.0   \n",
       "max             84869.0              65968.0               3.0         3190.0   \n",
       "\n",
       "       ponds_around3000  ponds_nearest  days_exposition  \n",
       "count           18181.0         9110.0          20518.0  \n",
       "mean                1.0          518.0            181.0  \n",
       "std                 1.0          278.0            220.0  \n",
       "min                 0.0           13.0              1.0  \n",
       "25%                 0.0          294.0             45.0  \n",
       "50%                 1.0          502.0             95.0  \n",
       "75%                 1.0          729.0            232.0  \n",
       "max                 3.0         1344.0           1580.0  "
      ]
     },
     "execution_count": 153,
     "metadata": {},
     "output_type": "execute_result"
    }
   ],
   "source": [
    "data.info()\n",
    "data.describe().round()"
   ]
  },
  {
   "cell_type": "markdown",
   "metadata": {},
   "source": [
    "**Построим общую гистограмму для всех столбцов таблицы:**"
   ]
  },
  {
   "cell_type": "code",
   "execution_count": 154,
   "metadata": {},
   "outputs": [
    {
     "data": {
      "image/png": "[encoded data removed]",
      "text/plain": [
       "<Figure size 1080x1440 with 20 Axes>"
      ]
     },
     "metadata": {
      "needs_background": "light"
     },
     "output_type": "display_data"
    }
   ],
   "source": [
    "data.hist(figsize=(15, 20))\n",
    "plt.show()"
   ]
  },
  {
   "cell_type": "markdown",
   "metadata": {},
   "source": [
    "**Вывод:**"
   ]
  },
  {
   "cell_type": "markdown",
   "metadata": {},
   "source": [
    "Изучив общую информацию в датафрейме, мы видим несколько проблем в исходных данных, а именно: \n",
    "\n",
    "- пропущенные значения в большинстве столбцов;\n",
    "- некорректный тип данных в некоторых столбцах\n",
    "- присутсвуют аномальные значения, которые могут исказить результаты исследования \n",
    "\n",
    "Подробно на этих проблемах оставновимся в разделе по предобработке данных, выясним причины их возникновения и обработаем там, где это будет корректно сделать и в зависимости от наших дальнейших задач."
   ]
  },
  {
   "cell_type": "markdown",
   "metadata": {},
   "source": [
    "### Предобработка данных."
   ]
  },
  {
   "cell_type": "markdown",
   "metadata": {},
   "source": [
    "#### Удаление пропусков."
   ]
  },
  {
   "cell_type": "code",
   "execution_count": 155,
   "metadata": {},
   "outputs": [
    {
     "data": {
      "text/plain": [
       "total_images                0\n",
       "last_price                  0\n",
       "total_area                  0\n",
       "first_day_exposition        0\n",
       "rooms                       0\n",
       "ceiling_height           9195\n",
       "floors_total               86\n",
       "living_area              1903\n",
       "floor                       0\n",
       "is_apartment            20924\n",
       "studio                      0\n",
       "open_plan                   0\n",
       "kitchen_area             2278\n",
       "balcony                 11519\n",
       "locality_name              49\n",
       "airports_nearest         5542\n",
       "cityCenters_nearest      5519\n",
       "parks_around3000         5518\n",
       "parks_nearest           15620\n",
       "ponds_around3000         5518\n",
       "ponds_nearest           14589\n",
       "days_exposition          3181\n",
       "dtype: int64"
      ]
     },
     "execution_count": 155,
     "metadata": {},
     "output_type": "execute_result"
    }
   ],
   "source": [
    "data.isna().sum() #Выведем количество пропущенных значений для каждого столбца"
   ]
  },
  {
   "cell_type": "markdown",
   "metadata": {},
   "source": [
    "**Найдены пропуски во многих столбцах. Что мы будем с ними делать?**\n",
    "\n",
    "*Заменим медианным значением пропуски в следующих столбцах:*\n",
    "- ceiling_height - высота потолков (м) \n",
    "- living_area - жилая площадь в квадратных метрах (м²)\n",
    "- kitchen_area -  площадь кухни в квадратных метрах (м²)\n",
    "- cityCenters_nearest - расстояние до центра города (м\n",
    "\n",
    "*Заменим пропущенные значения на 0:*\n",
    "- balcony - число балконов (если продавец не указал число балконов, то, скорее всего, в его квартире их нет)\n",
    "\n",
    "*Удалим строки с пропущенными значениями:*\n",
    "- locality_name - название населённого пункта\n",
    "- floors_total - всего этажей в доме\n",
    "\n",
    "*Заменим пропушенные значения на False:*\n",
    "- is_apartment - апартаменты (булев тип)\n",
    "\n",
    "*Оставим без изменений:*                                       \n",
    "- airports_nearest - расстояние до ближайшего аэропорта в метрах (м)                      \n",
    "- parks_nearest - расстояние до ближайшего парка (м)                \n",
    "- ponds_nearest - расстояние до ближайшего водоёма (м)          \n",
    "- days_exposition - сколько дней было размещено объявление \n",
    "- parks_around3000 - число парков в радиусе 3 км\n",
    "- ponds_around3000 - число водоёмов в радиусе 3 км\n"
   ]
  },
  {
   "cell_type": "markdown",
   "metadata": {},
   "source": [
    "*Пропуски в столбце ceiling_height заменим на медианное значение по всему датасету после обработки аномальных значений, так как в данном столбце почти половина пропусков и если мы их заменим на медианное значение до удаления выбросов, это может исказить наши данные.*"
   ]
  },
  {
   "cell_type": "markdown",
   "metadata": {},
   "source": [
    "**Жилая площадь объекта недвижимости в большей степени зависит от количества комнат, поэтому заполнять пропуски в столбце living_area мы будем медианным значением по каждому типу из столбца rooms.**"
   ]
  },
  {
   "cell_type": "code",
   "execution_count": 156,
   "metadata": {},
   "outputs": [],
   "source": [
    "for d in data['rooms'].unique():\n",
    "    data.loc[(data['rooms'] == d) & (data['living_area'].isna()), 'living_area'] = data.loc[(data['rooms'] == d), 'living_area'].median()\n"
   ]
  },
  {
   "cell_type": "markdown",
   "metadata": {},
   "source": [
    "**Несмотря на то, что площадь кухни не всегда зависит от количества комнат, у нас есть объекты свободной планировки и студии, поэтому медианное значение kitchen_area тоже будем рассчитывать по каждому типу из столбца rooms и заполнять им пропущенные значения. Оставшиеся пропуски в объектах, где кухня не предусмотрена, как отдельное помещение (студия, свободная планировка), заменим на 0.**"
   ]
  },
  {
   "cell_type": "code",
   "execution_count": 157,
   "metadata": {},
   "outputs": [
    {
     "name": "stderr",
     "output_type": "stream",
     "text": [
      "/opt/conda/lib/python3.9/site-packages/numpy/lib/nanfunctions.py:1117: RuntimeWarning: Mean of empty slice\n",
      "  return np.nanmean(a, axis, out=out, keepdims=keepdims)\n"
     ]
    }
   ],
   "source": [
    "for a in data['rooms'].unique():\n",
    "    data.loc[(data['rooms'] == a) & (data['kitchen_area'].isna()), 'kitchen_area'] = data.loc[(data['rooms'] == a), 'kitchen_area'].median()\n",
    "data['kitchen_area'] = data['kitchen_area'].fillna(0)"
   ]
  },
  {
   "cell_type": "markdown",
   "metadata": {},
   "source": [
    "**Пропуски в столбце cityCenters_nearest заполним медианой по населенным пунктам, разделив значения на Санкт-Петербургу и другим населенным пунктам.**"
   ]
  },
  {
   "cell_type": "code",
   "execution_count": 158,
   "metadata": {},
   "outputs": [
    {
     "data": {
      "text/html": [
       "<div>\n",
       "<style scoped>\n",
       "    .dataframe tbody tr th:only-of-type {\n",
       "        vertical-align: middle;\n",
       "    }\n",
       "\n",
       "    .dataframe tbody tr th {\n",
       "        vertical-align: top;\n",
       "    }\n",
       "\n",
       "    .dataframe thead th {\n",
       "        text-align: right;\n",
       "    }\n",
       "</style>\n",
       "<table border=\"1\" class=\"dataframe\">\n",
       "  <thead>\n",
       "    <tr style=\"text-align: right;\">\n",
       "      <th></th>\n",
       "      <th>total_images</th>\n",
       "      <th>last_price</th>\n",
       "      <th>total_area</th>\n",
       "      <th>first_day_exposition</th>\n",
       "      <th>rooms</th>\n",
       "      <th>ceiling_height</th>\n",
       "      <th>floors_total</th>\n",
       "      <th>living_area</th>\n",
       "      <th>floor</th>\n",
       "      <th>is_apartment</th>\n",
       "      <th>...</th>\n",
       "      <th>balcony</th>\n",
       "      <th>locality_name</th>\n",
       "      <th>airports_nearest</th>\n",
       "      <th>city_centers_nearest</th>\n",
       "      <th>parks_around3000</th>\n",
       "      <th>parks_nearest</th>\n",
       "      <th>ponds_around3000</th>\n",
       "      <th>ponds_nearest</th>\n",
       "      <th>days_exposition</th>\n",
       "      <th>city_name</th>\n",
       "    </tr>\n",
       "  </thead>\n",
       "  <tbody>\n",
       "    <tr>\n",
       "      <th>0</th>\n",
       "      <td>20</td>\n",
       "      <td>13000000.0</td>\n",
       "      <td>108.00</td>\n",
       "      <td>2019-03-07T00:00:00</td>\n",
       "      <td>3</td>\n",
       "      <td>2.70</td>\n",
       "      <td>16.0</td>\n",
       "      <td>51.00</td>\n",
       "      <td>8</td>\n",
       "      <td>NaN</td>\n",
       "      <td>...</td>\n",
       "      <td>NaN</td>\n",
       "      <td>Санкт-Петербург</td>\n",
       "      <td>18863.0</td>\n",
       "      <td>16028.0</td>\n",
       "      <td>1.0</td>\n",
       "      <td>482.0</td>\n",
       "      <td>2.0</td>\n",
       "      <td>755.0</td>\n",
       "      <td>NaN</td>\n",
       "      <td>Санкт-Петербург</td>\n",
       "    </tr>\n",
       "    <tr>\n",
       "      <th>1</th>\n",
       "      <td>7</td>\n",
       "      <td>3350000.0</td>\n",
       "      <td>40.40</td>\n",
       "      <td>2018-12-04T00:00:00</td>\n",
       "      <td>1</td>\n",
       "      <td>NaN</td>\n",
       "      <td>11.0</td>\n",
       "      <td>18.60</td>\n",
       "      <td>1</td>\n",
       "      <td>NaN</td>\n",
       "      <td>...</td>\n",
       "      <td>2.0</td>\n",
       "      <td>посёлок Шушары</td>\n",
       "      <td>12817.0</td>\n",
       "      <td>18603.0</td>\n",
       "      <td>0.0</td>\n",
       "      <td>NaN</td>\n",
       "      <td>0.0</td>\n",
       "      <td>NaN</td>\n",
       "      <td>81.0</td>\n",
       "      <td>другой</td>\n",
       "    </tr>\n",
       "    <tr>\n",
       "      <th>2</th>\n",
       "      <td>10</td>\n",
       "      <td>5196000.0</td>\n",
       "      <td>56.00</td>\n",
       "      <td>2015-08-20T00:00:00</td>\n",
       "      <td>2</td>\n",
       "      <td>NaN</td>\n",
       "      <td>5.0</td>\n",
       "      <td>34.30</td>\n",
       "      <td>4</td>\n",
       "      <td>NaN</td>\n",
       "      <td>...</td>\n",
       "      <td>0.0</td>\n",
       "      <td>Санкт-Петербург</td>\n",
       "      <td>21741.0</td>\n",
       "      <td>13933.0</td>\n",
       "      <td>1.0</td>\n",
       "      <td>90.0</td>\n",
       "      <td>2.0</td>\n",
       "      <td>574.0</td>\n",
       "      <td>558.0</td>\n",
       "      <td>Санкт-Петербург</td>\n",
       "    </tr>\n",
       "    <tr>\n",
       "      <th>3</th>\n",
       "      <td>0</td>\n",
       "      <td>64900000.0</td>\n",
       "      <td>159.00</td>\n",
       "      <td>2015-07-24T00:00:00</td>\n",
       "      <td>3</td>\n",
       "      <td>NaN</td>\n",
       "      <td>14.0</td>\n",
       "      <td>45.00</td>\n",
       "      <td>9</td>\n",
       "      <td>NaN</td>\n",
       "      <td>...</td>\n",
       "      <td>0.0</td>\n",
       "      <td>Санкт-Петербург</td>\n",
       "      <td>28098.0</td>\n",
       "      <td>6800.0</td>\n",
       "      <td>2.0</td>\n",
       "      <td>84.0</td>\n",
       "      <td>3.0</td>\n",
       "      <td>234.0</td>\n",
       "      <td>424.0</td>\n",
       "      <td>Санкт-Петербург</td>\n",
       "    </tr>\n",
       "    <tr>\n",
       "      <th>4</th>\n",
       "      <td>2</td>\n",
       "      <td>10000000.0</td>\n",
       "      <td>100.00</td>\n",
       "      <td>2018-06-19T00:00:00</td>\n",
       "      <td>2</td>\n",
       "      <td>3.03</td>\n",
       "      <td>14.0</td>\n",
       "      <td>32.00</td>\n",
       "      <td>13</td>\n",
       "      <td>NaN</td>\n",
       "      <td>...</td>\n",
       "      <td>NaN</td>\n",
       "      <td>Санкт-Петербург</td>\n",
       "      <td>31856.0</td>\n",
       "      <td>8098.0</td>\n",
       "      <td>2.0</td>\n",
       "      <td>112.0</td>\n",
       "      <td>1.0</td>\n",
       "      <td>48.0</td>\n",
       "      <td>121.0</td>\n",
       "      <td>Санкт-Петербург</td>\n",
       "    </tr>\n",
       "    <tr>\n",
       "      <th>5</th>\n",
       "      <td>10</td>\n",
       "      <td>2890000.0</td>\n",
       "      <td>30.40</td>\n",
       "      <td>2018-09-10T00:00:00</td>\n",
       "      <td>1</td>\n",
       "      <td>NaN</td>\n",
       "      <td>12.0</td>\n",
       "      <td>14.40</td>\n",
       "      <td>5</td>\n",
       "      <td>NaN</td>\n",
       "      <td>...</td>\n",
       "      <td>NaN</td>\n",
       "      <td>городской посёлок Янино-1</td>\n",
       "      <td>NaN</td>\n",
       "      <td>30308.5</td>\n",
       "      <td>NaN</td>\n",
       "      <td>NaN</td>\n",
       "      <td>NaN</td>\n",
       "      <td>NaN</td>\n",
       "      <td>55.0</td>\n",
       "      <td>другой</td>\n",
       "    </tr>\n",
       "    <tr>\n",
       "      <th>6</th>\n",
       "      <td>6</td>\n",
       "      <td>3700000.0</td>\n",
       "      <td>37.30</td>\n",
       "      <td>2017-11-02T00:00:00</td>\n",
       "      <td>1</td>\n",
       "      <td>NaN</td>\n",
       "      <td>26.0</td>\n",
       "      <td>10.60</td>\n",
       "      <td>6</td>\n",
       "      <td>NaN</td>\n",
       "      <td>...</td>\n",
       "      <td>1.0</td>\n",
       "      <td>посёлок Парголово</td>\n",
       "      <td>52996.0</td>\n",
       "      <td>19143.0</td>\n",
       "      <td>0.0</td>\n",
       "      <td>NaN</td>\n",
       "      <td>0.0</td>\n",
       "      <td>NaN</td>\n",
       "      <td>155.0</td>\n",
       "      <td>другой</td>\n",
       "    </tr>\n",
       "    <tr>\n",
       "      <th>7</th>\n",
       "      <td>5</td>\n",
       "      <td>7915000.0</td>\n",
       "      <td>71.60</td>\n",
       "      <td>2019-04-18T00:00:00</td>\n",
       "      <td>2</td>\n",
       "      <td>NaN</td>\n",
       "      <td>24.0</td>\n",
       "      <td>30.50</td>\n",
       "      <td>22</td>\n",
       "      <td>NaN</td>\n",
       "      <td>...</td>\n",
       "      <td>2.0</td>\n",
       "      <td>Санкт-Петербург</td>\n",
       "      <td>23982.0</td>\n",
       "      <td>11634.0</td>\n",
       "      <td>0.0</td>\n",
       "      <td>NaN</td>\n",
       "      <td>0.0</td>\n",
       "      <td>NaN</td>\n",
       "      <td>NaN</td>\n",
       "      <td>Санкт-Петербург</td>\n",
       "    </tr>\n",
       "    <tr>\n",
       "      <th>8</th>\n",
       "      <td>20</td>\n",
       "      <td>2900000.0</td>\n",
       "      <td>33.16</td>\n",
       "      <td>2018-05-23T00:00:00</td>\n",
       "      <td>1</td>\n",
       "      <td>NaN</td>\n",
       "      <td>27.0</td>\n",
       "      <td>15.43</td>\n",
       "      <td>26</td>\n",
       "      <td>NaN</td>\n",
       "      <td>...</td>\n",
       "      <td>NaN</td>\n",
       "      <td>посёлок Мурино</td>\n",
       "      <td>NaN</td>\n",
       "      <td>30308.5</td>\n",
       "      <td>NaN</td>\n",
       "      <td>NaN</td>\n",
       "      <td>NaN</td>\n",
       "      <td>NaN</td>\n",
       "      <td>189.0</td>\n",
       "      <td>другой</td>\n",
       "    </tr>\n",
       "    <tr>\n",
       "      <th>9</th>\n",
       "      <td>18</td>\n",
       "      <td>5400000.0</td>\n",
       "      <td>61.00</td>\n",
       "      <td>2017-02-26T00:00:00</td>\n",
       "      <td>3</td>\n",
       "      <td>2.50</td>\n",
       "      <td>9.0</td>\n",
       "      <td>43.60</td>\n",
       "      <td>7</td>\n",
       "      <td>NaN</td>\n",
       "      <td>...</td>\n",
       "      <td>2.0</td>\n",
       "      <td>Санкт-Петербург</td>\n",
       "      <td>50898.0</td>\n",
       "      <td>15008.0</td>\n",
       "      <td>0.0</td>\n",
       "      <td>NaN</td>\n",
       "      <td>0.0</td>\n",
       "      <td>NaN</td>\n",
       "      <td>289.0</td>\n",
       "      <td>Санкт-Петербург</td>\n",
       "    </tr>\n",
       "  </tbody>\n",
       "</table>\n",
       "<p>10 rows × 23 columns</p>\n",
       "</div>"
      ],
      "text/plain": [
       "   total_images  last_price  total_area first_day_exposition  rooms  \\\n",
       "0            20  13000000.0      108.00  2019-03-07T00:00:00      3   \n",
       "1             7   3350000.0       40.40  2018-12-04T00:00:00      1   \n",
       "2            10   5196000.0       56.00  2015-08-20T00:00:00      2   \n",
       "3             0  64900000.0      159.00  2015-07-24T00:00:00      3   \n",
       "4             2  10000000.0      100.00  2018-06-19T00:00:00      2   \n",
       "5            10   2890000.0       30.40  2018-09-10T00:00:00      1   \n",
       "6             6   3700000.0       37.30  2017-11-02T00:00:00      1   \n",
       "7             5   7915000.0       71.60  2019-04-18T00:00:00      2   \n",
       "8            20   2900000.0       33.16  2018-05-23T00:00:00      1   \n",
       "9            18   5400000.0       61.00  2017-02-26T00:00:00      3   \n",
       "\n",
       "   ceiling_height  floors_total  living_area  floor is_apartment  ...  \\\n",
       "0            2.70          16.0        51.00      8          NaN  ...   \n",
       "1             NaN          11.0        18.60      1          NaN  ...   \n",
       "2             NaN           5.0        34.30      4          NaN  ...   \n",
       "3             NaN          14.0        45.00      9          NaN  ...   \n",
       "4            3.03          14.0        32.00     13          NaN  ...   \n",
       "5             NaN          12.0        14.40      5          NaN  ...   \n",
       "6             NaN          26.0        10.60      6          NaN  ...   \n",
       "7             NaN          24.0        30.50     22          NaN  ...   \n",
       "8             NaN          27.0        15.43     26          NaN  ...   \n",
       "9            2.50           9.0        43.60      7          NaN  ...   \n",
       "\n",
       "   balcony              locality_name  airports_nearest  city_centers_nearest  \\\n",
       "0      NaN            Санкт-Петербург           18863.0               16028.0   \n",
       "1      2.0             посёлок Шушары           12817.0               18603.0   \n",
       "2      0.0            Санкт-Петербург           21741.0               13933.0   \n",
       "3      0.0            Санкт-Петербург           28098.0                6800.0   \n",
       "4      NaN            Санкт-Петербург           31856.0                8098.0   \n",
       "5      NaN  городской посёлок Янино-1               NaN               30308.5   \n",
       "6      1.0          посёлок Парголово           52996.0               19143.0   \n",
       "7      2.0            Санкт-Петербург           23982.0               11634.0   \n",
       "8      NaN             посёлок Мурино               NaN               30308.5   \n",
       "9      2.0            Санкт-Петербург           50898.0               15008.0   \n",
       "\n",
       "  parks_around3000  parks_nearest  ponds_around3000  ponds_nearest  \\\n",
       "0              1.0          482.0               2.0          755.0   \n",
       "1              0.0            NaN               0.0            NaN   \n",
       "2              1.0           90.0               2.0          574.0   \n",
       "3              2.0           84.0               3.0          234.0   \n",
       "4              2.0          112.0               1.0           48.0   \n",
       "5              NaN            NaN               NaN            NaN   \n",
       "6              0.0            NaN               0.0            NaN   \n",
       "7              0.0            NaN               0.0            NaN   \n",
       "8              NaN            NaN               NaN            NaN   \n",
       "9              0.0            NaN               0.0            NaN   \n",
       "\n",
       "   days_exposition        city_name  \n",
       "0              NaN  Санкт-Петербург  \n",
       "1             81.0           другой  \n",
       "2            558.0  Санкт-Петербург  \n",
       "3            424.0  Санкт-Петербург  \n",
       "4            121.0  Санкт-Петербург  \n",
       "5             55.0           другой  \n",
       "6            155.0           другой  \n",
       "7              NaN  Санкт-Петербург  \n",
       "8            189.0           другой  \n",
       "9            289.0  Санкт-Петербург  \n",
       "\n",
       "[10 rows x 23 columns]"
      ]
     },
     "execution_count": 158,
     "metadata": {},
     "output_type": "execute_result"
    }
   ],
   "source": [
    "data = data.rename(columns = {'cityCenters_nearest':'city_centers_nearest'}) #приведем название столбца к змеиному регистру\n",
    "def city_name(row): #с помощью функции разделим все значения на те, что по Санкт-Петербургу и на \"другое\"\n",
    "    if row['locality_name'] == 'Санкт-Петербург':\n",
    "        return 'Санкт-Петербург'\n",
    "    else:\n",
    "        return 'другой'\n",
    "data['city_name'] = data.apply(city_name, axis=1) #добавим новый столбец \n",
    "for с in data['city_name'].unique(): #пропуски  в столбце city_centers_nearest заменим медианой по каждому типу из нового столбца city_name\n",
    "    data.loc[(data['city_name'] == с) & (data['city_centers_nearest'].isna()), 'city_centers_nearest'] = data.loc[(data['city_name'] == с), 'city_centers_nearest'].median()\n",
    "data.head(10)\n"
   ]
  },
  {
   "cell_type": "code",
   "execution_count": 159,
   "metadata": {},
   "outputs": [],
   "source": [
    "#Заменим пропущенные значения balcony на 0\n",
    "data['balcony'] = data['balcony'].fillna(0)\n",
    "\n",
    "#Пропуски в столбцах locality_name и floors_total малочсленны и поэтому удаление данных строк не повлияет на наши данные\n",
    "data.dropna(subset=['locality_name', 'floors_total'], inplace=True) \n",
    "\n",
    "#Пропущенные значения в столбце is_apartment заменим на False\n",
    "data['is_apartment'] = data['is_apartment'].fillna(False)"
   ]
  },
  {
   "cell_type": "markdown",
   "metadata": {},
   "source": [
    "Для того, чтобы понять что делать с пропусками в столбце days_exposition , необходимо понять, есть ли какая-то закономерность в них. Исследуем, как они распределены относительно даты публикации объявления."
   ]
  },
  {
   "cell_type": "code",
   "execution_count": 160,
   "metadata": {},
   "outputs": [
    {
     "data": {
      "text/plain": [
       "<AxesSubplot:xlabel='first_day_exposition'>"
      ]
     },
     "execution_count": 160,
     "metadata": {},
     "output_type": "execute_result"
    },
    {
     "data": {
      "image/png": "[encoded data removed]",
      "text/plain": [
       "<Figure size 720x360 with 1 Axes>"
      ]
     },
     "metadata": {
      "needs_background": "light"
     },
     "output_type": "display_data"
    }
   ],
   "source": [
    "#Для начала переведем данные в столбце first_day_exposition из строкового типа в datetime64\n",
    "data['first_day_exposition'] = pd.to_datetime(data['first_day_exposition'], format='%Y-%m-%dT%H:%M:%S')\n",
    "\n",
    "#создадим столбец с булевым значением, где True=пропуск\n",
    "data['days_exposition_missing_value'] = data['days_exposition'].isna()\n",
    "\n",
    "#с помощью сводной таблицы построим график, отображающий распределение пропусков по дате                                             \n",
    "(data\n",
    "    .pivot_table(index='first_day_exposition', values='days_exposition_missing_value',aggfunc='sum')\n",
    "    .sort_values(by='days_exposition_missing_value')\n",
    "    .plot(ylim=(0,50), grid=True, figsize=(10,5))\n",
    ")"
   ]
  },
  {
   "cell_type": "markdown",
   "metadata": {},
   "source": [
    "Мы видим, что количество пропусков резко возрасло в 2019 году, с чем это связано мы точно сказать не можем, поэтому заполнять пропуски не будем."
   ]
  },
  {
   "cell_type": "markdown",
   "metadata": {},
   "source": [
    "**Вывод**\n",
    "\n",
    "Пропуски в данных могли возникнуть в результате того, что продавец некорректно указал информацию или оставил поле для заполнения пустым (например, если нет балкона, вместо 0 был пропуск). Также данные могли быть выгружены некорректно (например, такая ошибка могла возникнуть в столбцах с картографическими данными, которые выгружаются автоматически).\n",
    "Еще одной причиной появления пропусков могли стать изменения в сервисе Яндекс-недвижимость, которые привели к резкому увеличению пропусков в столбце days_exposition, начиная с 2019 года."
   ]
  },
  {
   "cell_type": "markdown",
   "metadata": {},
   "source": [
    "#### Изменение типов данных."
   ]
  },
  {
   "cell_type": "code",
   "execution_count": 161,
   "metadata": {},
   "outputs": [],
   "source": [
    "#Заменим вещественный тип данных в столбцах last_price, floors_total, balcony на целочисленный с помощью метода astype()\n",
    "data['last_price'] = data['last_price'].astype('int')\n",
    "data['floors_total'] = data['floors_total'].astype('int')\n",
    "data['balcony'] = data['balcony'].astype('int')\n",
    "\n",
    "#Переведем данные в столбце is_apartment из строкового типа в bool\n",
    "data['is_apartment'] = data['is_apartment'].astype('bool')"
   ]
  },
  {
   "cell_type": "markdown",
   "metadata": {},
   "source": [
    "В предыдущем разделе мы привели дату к правильному формату datetime64 для корректного отображения информации на графике. Также изменили тип данных, где это возможно сделать, чтобы в наших дальнейших расчетах не возникало ошибок. "
   ]
  },
  {
   "cell_type": "markdown",
   "metadata": {},
   "source": [
    "#### Обработка дубликатов."
   ]
  },
  {
   "cell_type": "markdown",
   "metadata": {},
   "source": [
    "Изучим уникальные значения в столбце с названиями locality_name и устраним неявные дубликаты."
   ]
  },
  {
   "cell_type": "code",
   "execution_count": 162,
   "metadata": {},
   "outputs": [
    {
     "data": {
      "text/plain": [
       "array(['Бокситогорск', 'Волосово', 'Волхов', 'Всеволожск', 'Выборг',\n",
       "       'Высоцк', 'Гатчина', 'Зеленогорск', 'Ивангород', 'Каменногорск',\n",
       "       'Кингисепп', 'Кириши', 'Кировск', 'Колпино', 'Коммунар',\n",
       "       'Красное Село', 'Кронштадт', 'Кудрово', 'Лодейное Поле',\n",
       "       'Ломоносов', 'Луга', 'Любань', 'Мурино', 'Никольское',\n",
       "       'Новая Ладога', 'Отрадное', 'Павловск', 'Петергоф', 'Пикалёво',\n",
       "       'Подпорожье', 'Приморск', 'Приозерск', 'Пушкин', 'Санкт-Петербург',\n",
       "       'Светогорск', 'Сертолово', 'Сестрорецк', 'Сланцы', 'Сосновый Бор',\n",
       "       'Сясьстрой', 'Тихвин', 'Тосно', 'Шлиссельбург',\n",
       "       'городской поселок Большая Ижора', 'городской поселок Янино-1',\n",
       "       'городской посёлок Будогощь', 'городской посёлок Виллози',\n",
       "       'городской посёлок Лесогорский', 'городской посёлок Мга',\n",
       "       'городской посёлок Назия', 'городской посёлок Новоселье',\n",
       "       'городской посёлок Павлово', 'городской посёлок Рощино',\n",
       "       'городской посёлок Свирьстрой', 'городской посёлок Советский',\n",
       "       'городской посёлок Фёдоровское', 'городской посёлок Янино-1',\n",
       "       'деревня Агалатово', 'деревня Аро', 'деревня Батово',\n",
       "       'деревня Бегуницы', 'деревня Белогорка', 'деревня Большая Вруда',\n",
       "       'деревня Большая Пустомержа', 'деревня Большие Колпаны',\n",
       "       'деревня Большое Рейзино', 'деревня Большой Сабск', 'деревня Бор',\n",
       "       'деревня Борисова Грива', 'деревня Ваганово', 'деревня Вартемяги',\n",
       "       'деревня Вахнова Кара', 'деревня Выскатка', 'деревня Гарболово',\n",
       "       'деревня Глинка', 'деревня Горбунки', 'деревня Гостилицы',\n",
       "       'деревня Заклинье', 'деревня Заневка', 'деревня Зимитицы',\n",
       "       'деревня Извара', 'деревня Иссад', 'деревня Калитино',\n",
       "       'деревня Кальтино', 'деревня Камышовка', 'деревня Каськово',\n",
       "       'деревня Келози', 'деревня Кипень', 'деревня Кисельня',\n",
       "       'деревня Колтуши', 'деревня Коркино', 'деревня Котлы',\n",
       "       'деревня Кривко', 'деревня Кудрово', 'деревня Кузьмолово',\n",
       "       'деревня Курковицы', 'деревня Куровицы', 'деревня Куттузи',\n",
       "       'деревня Лаврики', 'деревня Лаголово', 'деревня Лампово',\n",
       "       'деревня Лесколово', 'деревня Лопухинка', 'деревня Лупполово',\n",
       "       'деревня Малая Романовка', 'деревня Малое Верево',\n",
       "       'деревня Малое Карлино', 'деревня Малые Колпаны',\n",
       "       'деревня Мануйлово', 'деревня Меньково', 'деревня Мины',\n",
       "       'деревня Мистолово', 'деревня Ненимяки', 'деревня Нижние Осельки',\n",
       "       'деревня Нижняя', 'деревня Низино', 'деревня Новое Девяткино',\n",
       "       'деревня Новолисино', 'деревня Нурма', 'деревня Оржицы',\n",
       "       'деревня Парицы', 'деревня Пельгора', 'деревня Пеники',\n",
       "       'деревня Пижма', 'деревня Пикколово', 'деревня Пудомяги',\n",
       "       'деревня Пустынка', 'деревня Пчева', 'деревня Рабитицы',\n",
       "       'деревня Разбегаево', 'деревня Раздолье', 'деревня Разметелево',\n",
       "       'деревня Рапполово', 'деревня Реброво', 'деревня Русско',\n",
       "       'деревня Сижно', 'деревня Снегирёвка', 'деревня Старая',\n",
       "       'деревня Старая Пустошь', 'деревня Старое Хинколово',\n",
       "       'деревня Старополье', 'деревня Старосиверская',\n",
       "       'деревня Старые Бегуницы', 'деревня Суоранда',\n",
       "       'деревня Сяськелево', 'деревня Тарасово', 'деревня Терпилицы',\n",
       "       'деревня Тихковицы', 'деревня Тойворово', 'деревня Торосово',\n",
       "       'деревня Торошковичи', 'деревня Трубников Бор',\n",
       "       'деревня Фалилеево', 'деревня Фёдоровское', 'деревня Хапо-Ое',\n",
       "       'деревня Хязельки', 'деревня Чудской Бор', 'деревня Шпаньково',\n",
       "       'деревня Щеглово', 'деревня Юкки', 'деревня Ялгино',\n",
       "       'деревня Яльгелево', 'деревня Ям-Тесово',\n",
       "       'коттеджный поселок Кивеннапа Север', 'коттеджный поселок Счастье',\n",
       "       'коттеджный посёлок Лесное', 'поселок Аннино', 'поселок Барышево',\n",
       "       'поселок Бугры', 'поселок Возрождение', 'поселок Войсковицы',\n",
       "       'поселок Володарское', 'поселок Гаврилово', 'поселок Гарболово',\n",
       "       'поселок Гладкое', 'поселок Глажево', 'поселок Глебычево',\n",
       "       'поселок Гончарово', 'поселок Громово', 'поселок Дружноселье',\n",
       "       'поселок Елизаветино', 'поселок Жилгородок', 'поселок Жилпосёлок',\n",
       "       'поселок Житково', 'поселок Заводской', 'поселок Запорожское',\n",
       "       'поселок Зимитицы', 'поселок Ильичёво', 'поселок Калитино',\n",
       "       'поселок Каложицы', 'поселок Кингисеппский', 'поселок Кирпичное',\n",
       "       'поселок Кобралово', 'поселок Кобринское', 'поселок Коммунары',\n",
       "       'поселок Коробицыно', 'поселок Котельский',\n",
       "       'поселок Красная Долина', 'поселок Красносельское',\n",
       "       'поселок Лесное', 'поселок Лисий Нос', 'поселок Лукаши',\n",
       "       'поселок Любань', 'поселок Мельниково', 'поселок Мичуринское',\n",
       "       'поселок Молодцово', 'поселок Мурино', 'поселок Новый Свет',\n",
       "       'поселок Новый Учхоз', 'поселок Оредеж',\n",
       "       'поселок Пансионат Зелёный Бор', 'поселок Первомайское',\n",
       "       'поселок Перово', 'поселок Петровское', 'поселок Победа',\n",
       "       'поселок Поляны', 'поселок Почап', 'поселок Починок',\n",
       "       'поселок Пушное', 'поселок Пчевжа', 'поселок Рабитицы',\n",
       "       'поселок Романовка', 'поселок Ромашки', 'поселок Рябово',\n",
       "       'поселок Севастьяново', 'поселок Селезнёво', 'поселок Сельцо',\n",
       "       'поселок Семиозерье', 'поселок Семрино', 'поселок Серебрянский',\n",
       "       'поселок Совхозный', 'поселок Старая Малукса',\n",
       "       'поселок Стеклянный', 'поселок Сумино', 'поселок Суходолье',\n",
       "       'поселок Тельмана', 'поселок Терволово', 'поселок Торковичи',\n",
       "       'поселок Тёсово-4', 'поселок Углово', 'поселок Усть-Луга',\n",
       "       'поселок Ушаки', 'поселок Цвелодубово', 'поселок Цвылёво',\n",
       "       'поселок городского типа Большая Ижора',\n",
       "       'поселок городского типа Вырица',\n",
       "       'поселок городского типа Дружная Горка',\n",
       "       'поселок городского типа Дубровка',\n",
       "       'поселок городского типа Ефимовский',\n",
       "       'поселок городского типа Кондратьево',\n",
       "       'поселок городского типа Красный Бор',\n",
       "       'поселок городского типа Кузьмоловский',\n",
       "       'поселок городского типа Лебяжье',\n",
       "       'поселок городского типа Лесогорский',\n",
       "       'поселок городского типа Назия',\n",
       "       'поселок городского типа Никольский',\n",
       "       'поселок городского типа Приладожский',\n",
       "       'поселок городского типа Рахья', 'поселок городского типа Рощино',\n",
       "       'поселок городского типа Рябово',\n",
       "       'поселок городского типа Синявино',\n",
       "       'поселок городского типа Советский',\n",
       "       'поселок городского типа Токсово',\n",
       "       'поселок городского типа Форносово',\n",
       "       'поселок городского типа имени Свердлова',\n",
       "       'поселок станции Вещево', 'поселок станции Корнево',\n",
       "       'поселок станции Лужайка', 'поселок станции Приветнинское',\n",
       "       'посёлок Александровская', 'посёлок Алексеевка', 'посёлок Аннино',\n",
       "       'посёлок Белоостров', 'посёлок Бугры', 'посёлок Возрождение',\n",
       "       'посёлок Войскорово', 'посёлок Высокоключевой',\n",
       "       'посёлок Гаврилово', 'посёлок Дзержинского', 'посёлок Жилгородок',\n",
       "       'посёлок Ильичёво', 'посёлок Кикерино', 'посёлок Кобралово',\n",
       "       'посёлок Коробицыно', 'посёлок Левашово', 'посёлок Ленинское',\n",
       "       'посёлок Лисий Нос', 'посёлок Мельниково', 'посёлок Металлострой',\n",
       "       'посёлок Мичуринское', 'посёлок Молодёжное', 'посёлок Мурино',\n",
       "       'посёлок Мыза-Ивановка', 'посёлок Новогорелово',\n",
       "       'посёлок Новый Свет', 'посёлок Пансионат Зелёный Бор',\n",
       "       'посёлок Парголово', 'посёлок Перово', 'посёлок Песочный',\n",
       "       'посёлок Петро-Славянка', 'посёлок Петровское',\n",
       "       'посёлок Платформа 69-й километр', 'посёлок Плодовое',\n",
       "       'посёлок Плоское', 'посёлок Победа', 'посёлок Поляны',\n",
       "       'посёлок Понтонный', 'посёлок Пригородный', 'посёлок Пудость',\n",
       "       'посёлок Репино', 'посёлок Ропша', 'посёлок Сапёрное',\n",
       "       'посёлок Сапёрный', 'посёлок Сосново', 'посёлок Старая Малукса',\n",
       "       'посёлок Стеклянный', 'посёлок Стрельна', 'посёлок Суйда',\n",
       "       'посёлок Сумино', 'посёлок Тельмана', 'посёлок Терволово',\n",
       "       'посёлок Торфяное', 'посёлок Усть-Ижора', 'посёлок Усть-Луга',\n",
       "       'посёлок Форт Красная Горка', 'посёлок Шугозеро', 'посёлок Шушары',\n",
       "       'посёлок Щеглово', 'посёлок городского типа Важины',\n",
       "       'посёлок городского типа Вознесенье',\n",
       "       'посёлок городского типа Вырица',\n",
       "       'посёлок городского типа Красный Бор',\n",
       "       'посёлок городского типа Кузнечное',\n",
       "       'посёлок городского типа Кузьмоловский',\n",
       "       'посёлок городского типа Лебяжье', 'посёлок городского типа Мга',\n",
       "       'посёлок городского типа Павлово',\n",
       "       'посёлок городского типа Рощино', 'посёлок городского типа Рябово',\n",
       "       'посёлок городского типа Сиверский',\n",
       "       'посёлок городского типа Тайцы', 'посёлок городского типа Токсово',\n",
       "       'посёлок городского типа Ульяновка',\n",
       "       'посёлок городского типа Форносово',\n",
       "       'посёлок городского типа имени Морозова',\n",
       "       'посёлок городского типа имени Свердлова',\n",
       "       'посёлок при железнодорожной станции Вещево',\n",
       "       'посёлок при железнодорожной станции Приветнинское',\n",
       "       'посёлок станции Громово', 'посёлок станции Свирь',\n",
       "       'садоводческое некоммерческое товарищество Лесная Поляна',\n",
       "       'садовое товарищество Новая Ропша',\n",
       "       'садовое товарищество Приладожский', 'садовое товарищество Рахья',\n",
       "       'садовое товарищество Садко', 'село Копорье', 'село Никольское',\n",
       "       'село Павлово', 'село Паша', 'село Путилово', 'село Рождествено',\n",
       "       'село Русско-Высоцкое', 'село Старая Ладога', 'село Шум'],\n",
       "      dtype=object)"
      ]
     },
     "execution_count": 162,
     "metadata": {},
     "output_type": "execute_result"
    }
   ],
   "source": [
    "#выведем перечень уникальных значений столбца locality_name\n",
    "data['locality_name'].sort_values().unique()"
   ]
  },
  {
   "cell_type": "markdown",
   "metadata": {},
   "source": [
    "Мы видим, что чаще всего дубликаты связаны с буковой 'ё' и 'е', поэтому переименуем посёлки в поселки методом replace( ), объединим городские поселки и поселки городского типа, так как это одно и то же. Мурино и Кудрово являются городами, поэтому 'поселок' и 'деревня' применять некорректно, эти дубликаты так же уберем и оставим только названия городов. Поселок Рябово и деревню Фёдоровское сделаем поселками городского типа, тем самым убрав дубликаты."
   ]
  },
  {
   "cell_type": "code",
   "execution_count": 163,
   "metadata": {},
   "outputs": [],
   "source": [
    "data['locality_name'] = data['locality_name'].str.replace('посёлок', 'поселок')    \n",
    "data['locality_name'] = data['locality_name'].str.replace('городской поселок','поселок городского типа')\n",
    "data['locality_name'] = data['locality_name'].str.replace('поселок Мурино', 'Мурино')\n",
    "data['locality_name'] = data['locality_name'].str.replace('деревня Кудрово', 'Кудрово')\n",
    "data['locality_name'] = data['locality_name'].str.replace('поселок Рябово', 'поселок городского типа Рябово')\n",
    "data['locality_name'] = data['locality_name'].str.replace('деревня Фёдоровское', 'поселок городского типа Фёдоровское')"
   ]
  },
  {
   "cell_type": "code",
   "execution_count": 164,
   "metadata": {},
   "outputs": [
    {
     "data": {
      "text/plain": [
       "array(['Бокситогорск', 'Волосово', 'Волхов', 'Всеволожск', 'Выборг',\n",
       "       'Высоцк', 'Гатчина', 'Зеленогорск', 'Ивангород', 'Каменногорск',\n",
       "       'Кингисепп', 'Кириши', 'Кировск', 'Колпино', 'Коммунар',\n",
       "       'Красное Село', 'Кронштадт', 'Кудрово', 'Лодейное Поле',\n",
       "       'Ломоносов', 'Луга', 'Любань', 'Мурино', 'Никольское',\n",
       "       'Новая Ладога', 'Отрадное', 'Павловск', 'Петергоф', 'Пикалёво',\n",
       "       'Подпорожье', 'Приморск', 'Приозерск', 'Пушкин', 'Санкт-Петербург',\n",
       "       'Светогорск', 'Сертолово', 'Сестрорецк', 'Сланцы', 'Сосновый Бор',\n",
       "       'Сясьстрой', 'Тихвин', 'Тосно', 'Шлиссельбург',\n",
       "       'деревня Агалатово', 'деревня Аро', 'деревня Батово',\n",
       "       'деревня Бегуницы', 'деревня Белогорка', 'деревня Большая Вруда',\n",
       "       'деревня Большая Пустомержа', 'деревня Большие Колпаны',\n",
       "       'деревня Большое Рейзино', 'деревня Большой Сабск', 'деревня Бор',\n",
       "       'деревня Борисова Грива', 'деревня Ваганово', 'деревня Вартемяги',\n",
       "       'деревня Вахнова Кара', 'деревня Выскатка', 'деревня Гарболово',\n",
       "       'деревня Глинка', 'деревня Горбунки', 'деревня Гостилицы',\n",
       "       'деревня Заклинье', 'деревня Заневка', 'деревня Зимитицы',\n",
       "       'деревня Извара', 'деревня Иссад', 'деревня Калитино',\n",
       "       'деревня Кальтино', 'деревня Камышовка', 'деревня Каськово',\n",
       "       'деревня Келози', 'деревня Кипень', 'деревня Кисельня',\n",
       "       'деревня Колтуши', 'деревня Коркино', 'деревня Котлы',\n",
       "       'деревня Кривко', 'деревня Кузьмолово', 'деревня Курковицы',\n",
       "       'деревня Куровицы', 'деревня Куттузи', 'деревня Лаврики',\n",
       "       'деревня Лаголово', 'деревня Лампово', 'деревня Лесколово',\n",
       "       'деревня Лопухинка', 'деревня Лупполово',\n",
       "       'деревня Малая Романовка', 'деревня Малое Верево',\n",
       "       'деревня Малое Карлино', 'деревня Малые Колпаны',\n",
       "       'деревня Мануйлово', 'деревня Меньково', 'деревня Мины',\n",
       "       'деревня Мистолово', 'деревня Ненимяки', 'деревня Нижние Осельки',\n",
       "       'деревня Нижняя', 'деревня Низино', 'деревня Новое Девяткино',\n",
       "       'деревня Новолисино', 'деревня Нурма', 'деревня Оржицы',\n",
       "       'деревня Парицы', 'деревня Пельгора', 'деревня Пеники',\n",
       "       'деревня Пижма', 'деревня Пикколово', 'деревня Пудомяги',\n",
       "       'деревня Пустынка', 'деревня Пчева', 'деревня Рабитицы',\n",
       "       'деревня Разбегаево', 'деревня Раздолье', 'деревня Разметелево',\n",
       "       'деревня Рапполово', 'деревня Реброво', 'деревня Русско',\n",
       "       'деревня Сижно', 'деревня Снегирёвка', 'деревня Старая',\n",
       "       'деревня Старая Пустошь', 'деревня Старое Хинколово',\n",
       "       'деревня Старополье', 'деревня Старосиверская',\n",
       "       'деревня Старые Бегуницы', 'деревня Суоранда',\n",
       "       'деревня Сяськелево', 'деревня Тарасово', 'деревня Терпилицы',\n",
       "       'деревня Тихковицы', 'деревня Тойворово', 'деревня Торосово',\n",
       "       'деревня Торошковичи', 'деревня Трубников Бор',\n",
       "       'деревня Фалилеево', 'деревня Хапо-Ое', 'деревня Хязельки',\n",
       "       'деревня Чудской Бор', 'деревня Шпаньково', 'деревня Щеглово',\n",
       "       'деревня Юкки', 'деревня Ялгино', 'деревня Яльгелево',\n",
       "       'деревня Ям-Тесово', 'коттеджный поселок Кивеннапа Север',\n",
       "       'коттеджный поселок Лесное', 'коттеджный поселок Счастье',\n",
       "       'поселок Александровская', 'поселок Алексеевка', 'поселок Аннино',\n",
       "       'поселок Барышево', 'поселок Белоостров', 'поселок Бугры',\n",
       "       'поселок Возрождение', 'поселок Войсковицы', 'поселок Войскорово',\n",
       "       'поселок Володарское', 'поселок Высокоключевой',\n",
       "       'поселок Гаврилово', 'поселок Гарболово', 'поселок Гладкое',\n",
       "       'поселок Глажево', 'поселок Глебычево', 'поселок Гончарово',\n",
       "       'поселок Громово', 'поселок Дзержинского', 'поселок Дружноселье',\n",
       "       'поселок Елизаветино', 'поселок Жилгородок', 'поселок Жилпоселок',\n",
       "       'поселок Житково', 'поселок Заводской', 'поселок Запорожское',\n",
       "       'поселок Зимитицы', 'поселок Ильичёво', 'поселок Калитино',\n",
       "       'поселок Каложицы', 'поселок Кикерино', 'поселок Кингисеппский',\n",
       "       'поселок Кирпичное', 'поселок Кобралово', 'поселок Кобринское',\n",
       "       'поселок Коммунары', 'поселок Коробицыно', 'поселок Котельский',\n",
       "       'поселок Красная Долина', 'поселок Красносельское',\n",
       "       'поселок Левашово', 'поселок Ленинское', 'поселок Лесное',\n",
       "       'поселок Лисий Нос', 'поселок Лукаши', 'поселок Любань',\n",
       "       'поселок Мельниково', 'поселок Металлострой',\n",
       "       'поселок Мичуринское', 'поселок Молодцово', 'поселок Молодёжное',\n",
       "       'поселок Мыза-Ивановка', 'поселок Новогорелово',\n",
       "       'поселок Новый Свет', 'поселок Новый Учхоз', 'поселок Оредеж',\n",
       "       'поселок Пансионат Зелёный Бор', 'поселок Парголово',\n",
       "       'поселок Первомайское', 'поселок Перово', 'поселок Песочный',\n",
       "       'поселок Петро-Славянка', 'поселок Петровское',\n",
       "       'поселок Платформа 69-й километр', 'поселок Плодовое',\n",
       "       'поселок Плоское', 'поселок Победа', 'поселок Поляны',\n",
       "       'поселок Понтонный', 'поселок Почап', 'поселок Починок',\n",
       "       'поселок Пригородный', 'поселок Пудость', 'поселок Пушное',\n",
       "       'поселок Пчевжа', 'поселок Рабитицы', 'поселок Репино',\n",
       "       'поселок Романовка', 'поселок Ромашки', 'поселок Ропша',\n",
       "       'поселок Сапёрное', 'поселок Сапёрный', 'поселок Севастьяново',\n",
       "       'поселок Селезнёво', 'поселок Сельцо', 'поселок Семиозерье',\n",
       "       'поселок Семрино', 'поселок Серебрянский', 'поселок Совхозный',\n",
       "       'поселок Сосново', 'поселок Старая Малукса', 'поселок Стеклянный',\n",
       "       'поселок Стрельна', 'поселок Суйда', 'поселок Сумино',\n",
       "       'поселок Суходолье', 'поселок Тельмана', 'поселок Терволово',\n",
       "       'поселок Торковичи', 'поселок Торфяное', 'поселок Тёсово-4',\n",
       "       'поселок Углово', 'поселок Усть-Ижора', 'поселок Усть-Луга',\n",
       "       'поселок Ушаки', 'поселок Форт Красная Горка',\n",
       "       'поселок Цвелодубово', 'поселок Цвылёво', 'поселок Шугозеро',\n",
       "       'поселок Шушары', 'поселок Щеглово',\n",
       "       'поселок городского типа Большая Ижора',\n",
       "       'поселок городского типа Будогощь',\n",
       "       'поселок городского типа Важины',\n",
       "       'поселок городского типа Виллози',\n",
       "       'поселок городского типа Вознесенье',\n",
       "       'поселок городского типа Вырица',\n",
       "       'поселок городского типа Дружная Горка',\n",
       "       'поселок городского типа Дубровка',\n",
       "       'поселок городского типа Ефимовский',\n",
       "       'поселок городского типа Кондратьево',\n",
       "       'поселок городского типа Красный Бор',\n",
       "       'поселок городского типа Кузнечное',\n",
       "       'поселок городского типа Кузьмоловский',\n",
       "       'поселок городского типа Лебяжье',\n",
       "       'поселок городского типа Лесогорский',\n",
       "       'поселок городского типа Мга', 'поселок городского типа Назия',\n",
       "       'поселок городского типа Никольский',\n",
       "       'поселок городского типа Новоселье',\n",
       "       'поселок городского типа Павлово',\n",
       "       'поселок городского типа Приладожский',\n",
       "       'поселок городского типа Рахья', 'поселок городского типа Рощино',\n",
       "       'поселок городского типа Рябово',\n",
       "       'поселок городского типа Свирьстрой',\n",
       "       'поселок городского типа Сиверский',\n",
       "       'поселок городского типа Синявино',\n",
       "       'поселок городского типа Советский',\n",
       "       'поселок городского типа Тайцы', 'поселок городского типа Токсово',\n",
       "       'поселок городского типа Ульяновка',\n",
       "       'поселок городского типа Форносово',\n",
       "       'поселок городского типа Фёдоровское',\n",
       "       'поселок городского типа Янино-1',\n",
       "       'поселок городского типа имени Морозова',\n",
       "       'поселок городского типа имени Свердлова',\n",
       "       'поселок при железнодорожной станции Вещево',\n",
       "       'поселок при железнодорожной станции Приветнинское',\n",
       "       'поселок станции Вещево', 'поселок станции Громово',\n",
       "       'поселок станции Корнево', 'поселок станции Лужайка',\n",
       "       'поселок станции Приветнинское', 'поселок станции Свирь',\n",
       "       'садоводческое некоммерческое товарищество Лесная Поляна',\n",
       "       'садовое товарищество Новая Ропша',\n",
       "       'садовое товарищество Приладожский', 'садовое товарищество Рахья',\n",
       "       'садовое товарищество Садко', 'село Копорье', 'село Никольское',\n",
       "       'село Павлово', 'село Паша', 'село Путилово', 'село Рождествено',\n",
       "       'село Русско-Высоцкое', 'село Старая Ладога', 'село Шум'],\n",
       "      dtype=object)"
      ]
     },
     "execution_count": 164,
     "metadata": {},
     "output_type": "execute_result"
    }
   ],
   "source": [
    "#проверяем, от всех ли дубликатов мы избавились\n",
    "data['locality_name'].sort_values().unique()"
   ]
  },
  {
   "cell_type": "markdown",
   "metadata": {},
   "source": [
    "#### Обработка аномальных значений."
   ]
  },
  {
   "cell_type": "markdown",
   "metadata": {},
   "source": [
    "В некоторых столбцах в наших данных встречаются аномальные значения, то есть выбросы. Изменим их там, где нам понятна природа их происхождения или удалим, где это требуется."
   ]
  },
  {
   "cell_type": "code",
   "execution_count": 165,
   "metadata": {},
   "outputs": [
    {
     "data": {
      "text/html": [
       "<div>\n",
       "<style scoped>\n",
       "    .dataframe tbody tr th:only-of-type {\n",
       "        vertical-align: middle;\n",
       "    }\n",
       "\n",
       "    .dataframe tbody tr th {\n",
       "        vertical-align: top;\n",
       "    }\n",
       "\n",
       "    .dataframe thead th {\n",
       "        text-align: right;\n",
       "    }\n",
       "</style>\n",
       "<table border=\"1\" class=\"dataframe\">\n",
       "  <thead>\n",
       "    <tr style=\"text-align: right;\">\n",
       "      <th></th>\n",
       "      <th>total_images</th>\n",
       "      <th>last_price</th>\n",
       "      <th>total_area</th>\n",
       "      <th>rooms</th>\n",
       "      <th>ceiling_height</th>\n",
       "      <th>floors_total</th>\n",
       "      <th>living_area</th>\n",
       "      <th>floor</th>\n",
       "      <th>kitchen_area</th>\n",
       "      <th>balcony</th>\n",
       "      <th>airports_nearest</th>\n",
       "      <th>city_centers_nearest</th>\n",
       "      <th>parks_around3000</th>\n",
       "      <th>parks_nearest</th>\n",
       "      <th>ponds_around3000</th>\n",
       "      <th>ponds_nearest</th>\n",
       "      <th>days_exposition</th>\n",
       "    </tr>\n",
       "  </thead>\n",
       "  <tbody>\n",
       "    <tr>\n",
       "      <th>count</th>\n",
       "      <td>23565.000000</td>\n",
       "      <td>2.356500e+04</td>\n",
       "      <td>23565.000000</td>\n",
       "      <td>23565.000000</td>\n",
       "      <td>14481.000000</td>\n",
       "      <td>23565.000000</td>\n",
       "      <td>23565.000000</td>\n",
       "      <td>23565.000000</td>\n",
       "      <td>23565.000000</td>\n",
       "      <td>23565.000000</td>\n",
       "      <td>18041.000000</td>\n",
       "      <td>23565.000000</td>\n",
       "      <td>18065.000000</td>\n",
       "      <td>8030.000000</td>\n",
       "      <td>18065.000000</td>\n",
       "      <td>9036.000000</td>\n",
       "      <td>20394.000000</td>\n",
       "    </tr>\n",
       "    <tr>\n",
       "      <th>mean</th>\n",
       "      <td>9.878421</td>\n",
       "      <td>6.540058e+06</td>\n",
       "      <td>60.322824</td>\n",
       "      <td>2.070656</td>\n",
       "      <td>2.771283</td>\n",
       "      <td>10.675875</td>\n",
       "      <td>34.324580</td>\n",
       "      <td>5.878124</td>\n",
       "      <td>10.372721</td>\n",
       "      <td>0.593677</td>\n",
       "      <td>28797.082701</td>\n",
       "      <td>17908.735731</td>\n",
       "      <td>0.611569</td>\n",
       "      <td>490.580448</td>\n",
       "      <td>0.769499</td>\n",
       "      <td>518.289509</td>\n",
       "      <td>180.741395</td>\n",
       "    </tr>\n",
       "    <tr>\n",
       "      <th>std</th>\n",
       "      <td>5.681156</td>\n",
       "      <td>1.091093e+07</td>\n",
       "      <td>35.657060</td>\n",
       "      <td>1.078591</td>\n",
       "      <td>1.261983</td>\n",
       "      <td>6.594823</td>\n",
       "      <td>21.721222</td>\n",
       "      <td>4.871485</td>\n",
       "      <td>5.719951</td>\n",
       "      <td>0.960660</td>\n",
       "      <td>12632.499735</td>\n",
       "      <td>10150.876277</td>\n",
       "      <td>0.802088</td>\n",
       "      <td>341.572956</td>\n",
       "      <td>0.938669</td>\n",
       "      <td>278.009558</td>\n",
       "      <td>219.732782</td>\n",
       "    </tr>\n",
       "    <tr>\n",
       "      <th>min</th>\n",
       "      <td>0.000000</td>\n",
       "      <td>1.219000e+04</td>\n",
       "      <td>12.000000</td>\n",
       "      <td>0.000000</td>\n",
       "      <td>1.000000</td>\n",
       "      <td>1.000000</td>\n",
       "      <td>2.000000</td>\n",
       "      <td>1.000000</td>\n",
       "      <td>0.000000</td>\n",
       "      <td>0.000000</td>\n",
       "      <td>0.000000</td>\n",
       "      <td>181.000000</td>\n",
       "      <td>0.000000</td>\n",
       "      <td>1.000000</td>\n",
       "      <td>0.000000</td>\n",
       "      <td>13.000000</td>\n",
       "      <td>1.000000</td>\n",
       "    </tr>\n",
       "    <tr>\n",
       "      <th>25%</th>\n",
       "      <td>6.000000</td>\n",
       "      <td>3.400000e+06</td>\n",
       "      <td>40.000000</td>\n",
       "      <td>1.000000</td>\n",
       "      <td>2.510000</td>\n",
       "      <td>5.000000</td>\n",
       "      <td>18.400000</td>\n",
       "      <td>2.000000</td>\n",
       "      <td>7.200000</td>\n",
       "      <td>0.000000</td>\n",
       "      <td>18565.000000</td>\n",
       "      <td>10935.000000</td>\n",
       "      <td>0.000000</td>\n",
       "      <td>288.000000</td>\n",
       "      <td>0.000000</td>\n",
       "      <td>293.000000</td>\n",
       "      <td>45.000000</td>\n",
       "    </tr>\n",
       "    <tr>\n",
       "      <th>50%</th>\n",
       "      <td>9.000000</td>\n",
       "      <td>4.646000e+06</td>\n",
       "      <td>52.000000</td>\n",
       "      <td>2.000000</td>\n",
       "      <td>2.650000</td>\n",
       "      <td>9.000000</td>\n",
       "      <td>30.300000</td>\n",
       "      <td>4.000000</td>\n",
       "      <td>9.040000</td>\n",
       "      <td>0.000000</td>\n",
       "      <td>26757.000000</td>\n",
       "      <td>14958.000000</td>\n",
       "      <td>0.000000</td>\n",
       "      <td>455.000000</td>\n",
       "      <td>1.000000</td>\n",
       "      <td>503.000000</td>\n",
       "      <td>95.000000</td>\n",
       "    </tr>\n",
       "    <tr>\n",
       "      <th>75%</th>\n",
       "      <td>14.000000</td>\n",
       "      <td>6.790000e+06</td>\n",
       "      <td>69.700000</td>\n",
       "      <td>3.000000</td>\n",
       "      <td>2.800000</td>\n",
       "      <td>16.000000</td>\n",
       "      <td>42.700000</td>\n",
       "      <td>8.000000</td>\n",
       "      <td>11.500000</td>\n",
       "      <td>1.000000</td>\n",
       "      <td>37273.000000</td>\n",
       "      <td>30308.500000</td>\n",
       "      <td>1.000000</td>\n",
       "      <td>612.000000</td>\n",
       "      <td>1.000000</td>\n",
       "      <td>730.000000</td>\n",
       "      <td>231.000000</td>\n",
       "    </tr>\n",
       "    <tr>\n",
       "      <th>max</th>\n",
       "      <td>50.000000</td>\n",
       "      <td>7.630000e+08</td>\n",
       "      <td>900.000000</td>\n",
       "      <td>19.000000</td>\n",
       "      <td>100.000000</td>\n",
       "      <td>60.000000</td>\n",
       "      <td>409.700000</td>\n",
       "      <td>33.000000</td>\n",
       "      <td>112.000000</td>\n",
       "      <td>5.000000</td>\n",
       "      <td>84869.000000</td>\n",
       "      <td>65968.000000</td>\n",
       "      <td>3.000000</td>\n",
       "      <td>3190.000000</td>\n",
       "      <td>3.000000</td>\n",
       "      <td>1344.000000</td>\n",
       "      <td>1580.000000</td>\n",
       "    </tr>\n",
       "  </tbody>\n",
       "</table>\n",
       "</div>"
      ],
      "text/plain": [
       "       total_images    last_price    total_area         rooms  ceiling_height  \\\n",
       "count  23565.000000  2.356500e+04  23565.000000  23565.000000    14481.000000   \n",
       "mean       9.878421  6.540058e+06     60.322824      2.070656        2.771283   \n",
       "std        5.681156  1.091093e+07     35.657060      1.078591        1.261983   \n",
       "min        0.000000  1.219000e+04     12.000000      0.000000        1.000000   \n",
       "25%        6.000000  3.400000e+06     40.000000      1.000000        2.510000   \n",
       "50%        9.000000  4.646000e+06     52.000000      2.000000        2.650000   \n",
       "75%       14.000000  6.790000e+06     69.700000      3.000000        2.800000   \n",
       "max       50.000000  7.630000e+08    900.000000     19.000000      100.000000   \n",
       "\n",
       "       floors_total   living_area         floor  kitchen_area       balcony  \\\n",
       "count  23565.000000  23565.000000  23565.000000  23565.000000  23565.000000   \n",
       "mean      10.675875     34.324580      5.878124     10.372721      0.593677   \n",
       "std        6.594823     21.721222      4.871485      5.719951      0.960660   \n",
       "min        1.000000      2.000000      1.000000      0.000000      0.000000   \n",
       "25%        5.000000     18.400000      2.000000      7.200000      0.000000   \n",
       "50%        9.000000     30.300000      4.000000      9.040000      0.000000   \n",
       "75%       16.000000     42.700000      8.000000     11.500000      1.000000   \n",
       "max       60.000000    409.700000     33.000000    112.000000      5.000000   \n",
       "\n",
       "       airports_nearest  city_centers_nearest  parks_around3000  \\\n",
       "count      18041.000000          23565.000000      18065.000000   \n",
       "mean       28797.082701          17908.735731          0.611569   \n",
       "std        12632.499735          10150.876277          0.802088   \n",
       "min            0.000000            181.000000          0.000000   \n",
       "25%        18565.000000          10935.000000          0.000000   \n",
       "50%        26757.000000          14958.000000          0.000000   \n",
       "75%        37273.000000          30308.500000          1.000000   \n",
       "max        84869.000000          65968.000000          3.000000   \n",
       "\n",
       "       parks_nearest  ponds_around3000  ponds_nearest  days_exposition  \n",
       "count    8030.000000      18065.000000    9036.000000     20394.000000  \n",
       "mean      490.580448          0.769499     518.289509       180.741395  \n",
       "std       341.572956          0.938669     278.009558       219.732782  \n",
       "min         1.000000          0.000000      13.000000         1.000000  \n",
       "25%       288.000000          0.000000     293.000000        45.000000  \n",
       "50%       455.000000          1.000000     503.000000        95.000000  \n",
       "75%       612.000000          1.000000     730.000000       231.000000  \n",
       "max      3190.000000          3.000000    1344.000000      1580.000000  "
      ]
     },
     "execution_count": 165,
     "metadata": {},
     "output_type": "execute_result"
    }
   ],
   "source": [
    "data.describe() #еще раз посмотрим все столбцы и выделим те, которые необходимо отработать"
   ]
  },
  {
   "cell_type": "markdown",
   "metadata": {},
   "source": [
    "Выделим важные для нашего исследования параметры, где видны аномальные значения:\n",
    "\n",
    "- ceiling_height (высота потолков)\n",
    "- last_price (стоимость объекта)\n",
    "- total_area (общая площад квартиры)\n",
    "- rooms (количество комнат)\n",
    "- floors_total (количество этажей в доме)\n",
    "- living_area (жилая площадь)\n",
    "- kitchen_area (площадь кухни)"
   ]
  },
  {
   "cell_type": "markdown",
   "metadata": {},
   "source": [
    "**Высота потолков**"
   ]
  },
  {
   "cell_type": "code",
   "execution_count": 166,
   "metadata": {},
   "outputs": [
    {
     "data": {
      "text/plain": [
       "array([  1.  ,   1.2 ,   1.75,   2.  ,   2.2 ,   2.25,   2.3 ,   2.34,\n",
       "         2.4 ,   2.45,   2.46,   2.47,   2.48,   2.49,   2.5 ,   2.51,\n",
       "         2.52,   2.53,   2.54,   2.55,   2.56,   2.57,   2.58,   2.59,\n",
       "         2.6 ,   2.61,   2.62,   2.63,   2.64,   2.65,   2.66,   2.67,\n",
       "         2.68,   2.69,   2.7 ,   2.71,   2.72,   2.73,   2.74,   2.75,\n",
       "         2.76,   2.77,   2.78,   2.79,   2.8 ,   2.81,   2.82,   2.83,\n",
       "         2.84,   2.85,   2.86,   2.87,   2.88,   2.89,   2.9 ,   2.91,\n",
       "         2.92,   2.93,   2.94,   2.95,   2.96,   2.97,   2.98,   2.99,\n",
       "         3.  ,   3.01,   3.02,   3.03,   3.04,   3.05,   3.06,   3.07,\n",
       "         3.08,   3.09,   3.1 ,   3.11,   3.12,   3.13,   3.14,   3.15,\n",
       "         3.16,   3.17,   3.18,   3.2 ,   3.21,   3.22,   3.23,   3.24,\n",
       "         3.25,   3.26,   3.27,   3.28,   3.29,   3.3 ,   3.31,   3.32,\n",
       "         3.33,   3.34,   3.35,   3.36,   3.37,   3.38,   3.39,   3.4 ,\n",
       "         3.42,   3.43,   3.44,   3.45,   3.46,   3.47,   3.48,   3.49,\n",
       "         3.5 ,   3.51,   3.52,   3.53,   3.54,   3.55,   3.56,   3.57,\n",
       "         3.58,   3.59,   3.6 ,   3.62,   3.63,   3.65,   3.66,   3.67,\n",
       "         3.68,   3.69,   3.7 ,   3.75,   3.76,   3.78,   3.8 ,   3.82,\n",
       "         3.83,   3.84,   3.85,   3.86,   3.87,   3.88,   3.9 ,   3.93,\n",
       "         3.95,   3.98,   4.  ,   4.06,   4.1 ,   4.14,   4.15,   4.19,\n",
       "         4.2 ,   4.25,   4.3 ,   4.37,   4.4 ,   4.45,   4.5 ,   4.65,\n",
       "         4.7 ,   4.8 ,   4.9 ,   5.  ,   5.2 ,   5.3 ,   5.5 ,   5.6 ,\n",
       "         5.8 ,   6.  ,   8.  ,   8.3 ,  10.3 ,  14.  ,  20.  ,  22.6 ,\n",
       "        24.  ,  25.  ,  26.  ,  27.  ,  27.5 ,  32.  , 100.  ,    nan])"
      ]
     },
     "execution_count": 166,
     "metadata": {},
     "output_type": "execute_result"
    },
    {
     "data": {
      "image/png": "[encoded data removed]",
      "text/plain": [
       "<Figure size 432x288 with 1 Axes>"
      ]
     },
     "metadata": {
      "needs_background": "light"
     },
     "output_type": "display_data"
    }
   ],
   "source": [
    "data.boxplot(column='ceiling_height') #построим диаграмму размаха методом boxplot()\n",
    "plt.ylim(0,40)\n",
    "data['ceiling_height'].sort_values().unique() #отстортируем все значения в порядке возрастания"
   ]
  },
  {
   "cell_type": "markdown",
   "metadata": {},
   "source": [
    "На графике мы видим, что значения до 2 м и выше 6 м (да, в Санкт-Петербурге есть дома дореволюционной постройки и сталинки с высокими потолками, поэтому не стоит удалять значения от 4 до 6 м) являются выбросами. Можем предположить, что значения от 22 до 32 м - это вещественные значения: 2.2: м и 3.2 м, преобразуем их с помощью цикла. Происхождение значений до 2 и выше 32, а также от 6 до 20 - нам неизвестны, поэтому строки с этими значениями мы удалим. После преобразований заменим пропуски на медианное значение."
   ]
  },
  {
   "cell_type": "code",
   "execution_count": 167,
   "metadata": {},
   "outputs": [
    {
     "data": {
      "text/plain": [
       "array([2.2 , 2.25, 2.26, 2.3 , 2.34, 2.4 , 2.45, 2.46, 2.47, 2.48, 2.49,\n",
       "       2.5 , 2.51, 2.52, 2.53, 2.54, 2.55, 2.56, 2.57, 2.58, 2.59, 2.6 ,\n",
       "       2.61, 2.62, 2.63, 2.64, 2.65, 2.66, 2.67, 2.68, 2.69, 2.7 , 2.71,\n",
       "       2.72, 2.73, 2.74, 2.75, 2.76, 2.77, 2.78, 2.79, 2.8 , 2.81, 2.82,\n",
       "       2.83, 2.84, 2.85, 2.86, 2.87, 2.88, 2.89, 2.9 , 2.91, 2.92, 2.93,\n",
       "       2.94, 2.95, 2.96, 2.97, 2.98, 2.99, 3.  , 3.01, 3.02, 3.03, 3.04,\n",
       "       3.05, 3.06, 3.07, 3.08, 3.09, 3.1 , 3.11, 3.12, 3.13, 3.14, 3.15,\n",
       "       3.16, 3.17, 3.18, 3.2 , 3.21, 3.22, 3.23, 3.24, 3.25, 3.26, 3.27,\n",
       "       3.28, 3.29, 3.3 , 3.31, 3.32, 3.33, 3.34, 3.35, 3.36, 3.37, 3.38,\n",
       "       3.39, 3.4 , 3.42, 3.43, 3.44, 3.45, 3.46, 3.47, 3.48, 3.49, 3.5 ,\n",
       "       3.51, 3.52, 3.53, 3.54, 3.55, 3.56, 3.57, 3.58, 3.59, 3.6 , 3.62,\n",
       "       3.63, 3.65, 3.66, 3.67, 3.68, 3.69, 3.7 , 3.75, 3.76, 3.78, 3.8 ,\n",
       "       3.82, 3.83, 3.84, 3.85, 3.86, 3.87, 3.88, 3.9 , 3.93, 3.95, 3.98,\n",
       "       4.  , 4.06, 4.1 , 4.14, 4.15, 4.19, 4.2 , 4.25, 4.3 , 4.37, 4.4 ,\n",
       "       4.45, 4.5 , 4.65, 4.7 , 4.8 , 4.9 , 5.  , 5.2 , 5.3 , 5.5 , 5.6 ,\n",
       "       5.8 , 6.  ])"
      ]
     },
     "execution_count": 167,
     "metadata": {},
     "output_type": "execute_result"
    }
   ],
   "source": [
    "for h in data['ceiling_height']: #с помощью цикла пройдемся по всем значениям столбца ceiling_height \n",
    "    if h > 20:\n",
    "        data['ceiling_height'] = data['ceiling_height'].replace(h, h/10) #и поделим на 10 все значения больше 20\n",
    "data = data.query('2 < ceiling_height <= 6 or ceiling_height.isna()') #оставим только значения от 2 до 6 м и пропуски\n",
    "ceiling_height_median = data['ceiling_height'].median() \n",
    "data['ceiling_height'] = data['ceiling_height'].fillna(ceiling_height_median) #заменим пропуски на медиану\n",
    "data['ceiling_height'].sort_values().unique() #проверим, какие значения остались"
   ]
  },
  {
   "cell_type": "markdown",
   "metadata": {},
   "source": [
    "**Полная стоимость объекта**"
   ]
  },
  {
   "cell_type": "code",
   "execution_count": 168,
   "metadata": {},
   "outputs": [
    {
     "data": {
      "text/plain": [
       "count        23543.0\n",
       "mean       6541974.0\n",
       "std       10915366.0\n",
       "min          12190.0\n",
       "25%        3400000.0\n",
       "50%        4650000.0\n",
       "75%        6799000.0\n",
       "max      763000000.0\n",
       "Name: last_price, dtype: float64"
      ]
     },
     "execution_count": 168,
     "metadata": {},
     "output_type": "execute_result"
    }
   ],
   "source": [
    "data['last_price'].describe().round() #Посмотрим, что у нас с ценами в столбце last_price с помощью метода describe()"
   ]
  },
  {
   "cell_type": "code",
   "execution_count": 169,
   "metadata": {
    "scrolled": true
   },
   "outputs": [
    {
     "data": {
      "text/plain": [
       "<AxesSubplot:>"
      ]
     },
     "execution_count": 169,
     "metadata": {},
     "output_type": "execute_result"
    },
    {
     "data": {
      "image/png": "[encoded data removed]",
      "text/plain": [
       "<Figure size 432x288 with 1 Axes>"
      ]
     },
     "metadata": {
      "needs_background": "light"
     },
     "output_type": "display_data"
    }
   ],
   "source": [
    "data.boxplot(column='last_price') #построим диаграмму размаха по всем ценам в столбце last_price"
   ]
  },
  {
   "cell_type": "markdown",
   "metadata": {},
   "source": [
    "Не очень наглядно. Видно, что есть выбросы, и многие почти до 400 миллионов, один выброс на максимальном расстоянии от остальных- 763 млн. Чтобы лучше разглядеть «ящик с усами», изменим масштаб графика."
   ]
  },
  {
   "cell_type": "code",
   "execution_count": 170,
   "metadata": {},
   "outputs": [
    {
     "data": {
      "text/plain": [
       "(-100000.0, 15000000.0)"
      ]
     },
     "execution_count": 170,
     "metadata": {},
     "output_type": "execute_result"
    },
    {
     "data": {
      "image/png": "[encoded data removed]",
      "text/plain": [
       "<Figure size 432x288 with 1 Axes>"
      ]
     },
     "metadata": {
      "needs_background": "light"
     },
     "output_type": "display_data"
    }
   ],
   "source": [
    "data.boxplot(column='last_price')\n",
    "plt.ylim(-100000,15000000)"
   ]
  },
  {
   "cell_type": "markdown",
   "metadata": {},
   "source": [
    "На диаграмме видно, что нижняя граница около нуля, верхняя на уровне 12 млн. \n",
    "В Санкт-Петербурге есть квартиры за 200, 300, 400 млн, но в данной ценовой категории квартиры редко появляются в продаже,корректно будет удалить их, как выбросы. \n",
    "Что касается нижней границы по стоимости, посмотрим на нее, сделав срез по объектам до 500 тыс."
   ]
  },
  {
   "cell_type": "code",
   "execution_count": 171,
   "metadata": {},
   "outputs": [
    {
     "data": {
      "text/html": [
       "<div>\n",
       "<style scoped>\n",
       "    .dataframe tbody tr th:only-of-type {\n",
       "        vertical-align: middle;\n",
       "    }\n",
       "\n",
       "    .dataframe tbody tr th {\n",
       "        vertical-align: top;\n",
       "    }\n",
       "\n",
       "    .dataframe thead th {\n",
       "        text-align: right;\n",
       "    }\n",
       "</style>\n",
       "<table border=\"1\" class=\"dataframe\">\n",
       "  <thead>\n",
       "    <tr style=\"text-align: right;\">\n",
       "      <th></th>\n",
       "      <th>total_images</th>\n",
       "      <th>last_price</th>\n",
       "      <th>total_area</th>\n",
       "      <th>first_day_exposition</th>\n",
       "      <th>rooms</th>\n",
       "      <th>ceiling_height</th>\n",
       "      <th>floors_total</th>\n",
       "      <th>living_area</th>\n",
       "      <th>floor</th>\n",
       "      <th>is_apartment</th>\n",
       "      <th>...</th>\n",
       "      <th>locality_name</th>\n",
       "      <th>airports_nearest</th>\n",
       "      <th>city_centers_nearest</th>\n",
       "      <th>parks_around3000</th>\n",
       "      <th>parks_nearest</th>\n",
       "      <th>ponds_around3000</th>\n",
       "      <th>ponds_nearest</th>\n",
       "      <th>days_exposition</th>\n",
       "      <th>city_name</th>\n",
       "      <th>days_exposition_missing_value</th>\n",
       "    </tr>\n",
       "  </thead>\n",
       "  <tbody>\n",
       "    <tr>\n",
       "      <th>5698</th>\n",
       "      <td>7</td>\n",
       "      <td>450000</td>\n",
       "      <td>42.0</td>\n",
       "      <td>2017-07-31</td>\n",
       "      <td>2</td>\n",
       "      <td>2.65</td>\n",
       "      <td>1</td>\n",
       "      <td>23.0</td>\n",
       "      <td>1</td>\n",
       "      <td>False</td>\n",
       "      <td>...</td>\n",
       "      <td>поселок городского типа Будогощь</td>\n",
       "      <td>NaN</td>\n",
       "      <td>30308.5</td>\n",
       "      <td>NaN</td>\n",
       "      <td>NaN</td>\n",
       "      <td>NaN</td>\n",
       "      <td>NaN</td>\n",
       "      <td>233.0</td>\n",
       "      <td>другой</td>\n",
       "      <td>False</td>\n",
       "    </tr>\n",
       "    <tr>\n",
       "      <th>6859</th>\n",
       "      <td>6</td>\n",
       "      <td>490000</td>\n",
       "      <td>40.0</td>\n",
       "      <td>2017-12-11</td>\n",
       "      <td>1</td>\n",
       "      <td>2.65</td>\n",
       "      <td>5</td>\n",
       "      <td>17.6</td>\n",
       "      <td>3</td>\n",
       "      <td>False</td>\n",
       "      <td>...</td>\n",
       "      <td>деревня Старополье</td>\n",
       "      <td>NaN</td>\n",
       "      <td>30308.5</td>\n",
       "      <td>NaN</td>\n",
       "      <td>NaN</td>\n",
       "      <td>NaN</td>\n",
       "      <td>NaN</td>\n",
       "      <td>43.0</td>\n",
       "      <td>другой</td>\n",
       "      <td>False</td>\n",
       "    </tr>\n",
       "    <tr>\n",
       "      <th>8793</th>\n",
       "      <td>7</td>\n",
       "      <td>12190</td>\n",
       "      <td>109.0</td>\n",
       "      <td>2019-03-20</td>\n",
       "      <td>2</td>\n",
       "      <td>2.75</td>\n",
       "      <td>25</td>\n",
       "      <td>32.0</td>\n",
       "      <td>25</td>\n",
       "      <td>False</td>\n",
       "      <td>...</td>\n",
       "      <td>Санкт-Петербург</td>\n",
       "      <td>36421.0</td>\n",
       "      <td>9176.0</td>\n",
       "      <td>1.0</td>\n",
       "      <td>805.0</td>\n",
       "      <td>0.0</td>\n",
       "      <td>NaN</td>\n",
       "      <td>8.0</td>\n",
       "      <td>Санкт-Петербург</td>\n",
       "      <td>False</td>\n",
       "    </tr>\n",
       "    <tr>\n",
       "      <th>9581</th>\n",
       "      <td>7</td>\n",
       "      <td>450000</td>\n",
       "      <td>43.4</td>\n",
       "      <td>2018-08-31</td>\n",
       "      <td>2</td>\n",
       "      <td>2.65</td>\n",
       "      <td>5</td>\n",
       "      <td>30.3</td>\n",
       "      <td>3</td>\n",
       "      <td>False</td>\n",
       "      <td>...</td>\n",
       "      <td>деревня Старополье</td>\n",
       "      <td>NaN</td>\n",
       "      <td>30308.5</td>\n",
       "      <td>NaN</td>\n",
       "      <td>NaN</td>\n",
       "      <td>NaN</td>\n",
       "      <td>NaN</td>\n",
       "      <td>96.0</td>\n",
       "      <td>другой</td>\n",
       "      <td>False</td>\n",
       "    </tr>\n",
       "    <tr>\n",
       "      <th>10782</th>\n",
       "      <td>3</td>\n",
       "      <td>490000</td>\n",
       "      <td>29.1</td>\n",
       "      <td>2016-05-05</td>\n",
       "      <td>1</td>\n",
       "      <td>2.50</td>\n",
       "      <td>5</td>\n",
       "      <td>17.0</td>\n",
       "      <td>5</td>\n",
       "      <td>False</td>\n",
       "      <td>...</td>\n",
       "      <td>Сланцы</td>\n",
       "      <td>NaN</td>\n",
       "      <td>30308.5</td>\n",
       "      <td>NaN</td>\n",
       "      <td>NaN</td>\n",
       "      <td>NaN</td>\n",
       "      <td>NaN</td>\n",
       "      <td>719.0</td>\n",
       "      <td>другой</td>\n",
       "      <td>False</td>\n",
       "    </tr>\n",
       "    <tr>\n",
       "      <th>14911</th>\n",
       "      <td>5</td>\n",
       "      <td>430000</td>\n",
       "      <td>54.0</td>\n",
       "      <td>2018-06-26</td>\n",
       "      <td>2</td>\n",
       "      <td>2.65</td>\n",
       "      <td>3</td>\n",
       "      <td>30.5</td>\n",
       "      <td>3</td>\n",
       "      <td>False</td>\n",
       "      <td>...</td>\n",
       "      <td>поселок станции Свирь</td>\n",
       "      <td>NaN</td>\n",
       "      <td>30308.5</td>\n",
       "      <td>NaN</td>\n",
       "      <td>NaN</td>\n",
       "      <td>NaN</td>\n",
       "      <td>NaN</td>\n",
       "      <td>44.0</td>\n",
       "      <td>другой</td>\n",
       "      <td>False</td>\n",
       "    </tr>\n",
       "    <tr>\n",
       "      <th>16032</th>\n",
       "      <td>8</td>\n",
       "      <td>480000</td>\n",
       "      <td>32.0</td>\n",
       "      <td>2019-01-06</td>\n",
       "      <td>1</td>\n",
       "      <td>2.65</td>\n",
       "      <td>2</td>\n",
       "      <td>16.0</td>\n",
       "      <td>1</td>\n",
       "      <td>False</td>\n",
       "      <td>...</td>\n",
       "      <td>Сланцы</td>\n",
       "      <td>NaN</td>\n",
       "      <td>30308.5</td>\n",
       "      <td>NaN</td>\n",
       "      <td>NaN</td>\n",
       "      <td>NaN</td>\n",
       "      <td>NaN</td>\n",
       "      <td>83.0</td>\n",
       "      <td>другой</td>\n",
       "      <td>False</td>\n",
       "    </tr>\n",
       "    <tr>\n",
       "      <th>16219</th>\n",
       "      <td>14</td>\n",
       "      <td>450000</td>\n",
       "      <td>38.5</td>\n",
       "      <td>2018-07-11</td>\n",
       "      <td>2</td>\n",
       "      <td>2.65</td>\n",
       "      <td>2</td>\n",
       "      <td>30.5</td>\n",
       "      <td>1</td>\n",
       "      <td>False</td>\n",
       "      <td>...</td>\n",
       "      <td>деревня Вахнова Кара</td>\n",
       "      <td>NaN</td>\n",
       "      <td>30308.5</td>\n",
       "      <td>NaN</td>\n",
       "      <td>NaN</td>\n",
       "      <td>NaN</td>\n",
       "      <td>NaN</td>\n",
       "      <td>45.0</td>\n",
       "      <td>другой</td>\n",
       "      <td>False</td>\n",
       "    </tr>\n",
       "    <tr>\n",
       "      <th>16274</th>\n",
       "      <td>18</td>\n",
       "      <td>440000</td>\n",
       "      <td>40.0</td>\n",
       "      <td>2018-07-10</td>\n",
       "      <td>1</td>\n",
       "      <td>2.65</td>\n",
       "      <td>5</td>\n",
       "      <td>17.6</td>\n",
       "      <td>1</td>\n",
       "      <td>False</td>\n",
       "      <td>...</td>\n",
       "      <td>деревня Старополье</td>\n",
       "      <td>NaN</td>\n",
       "      <td>30308.5</td>\n",
       "      <td>NaN</td>\n",
       "      <td>NaN</td>\n",
       "      <td>NaN</td>\n",
       "      <td>NaN</td>\n",
       "      <td>45.0</td>\n",
       "      <td>другой</td>\n",
       "      <td>False</td>\n",
       "    </tr>\n",
       "    <tr>\n",
       "      <th>17456</th>\n",
       "      <td>7</td>\n",
       "      <td>430000</td>\n",
       "      <td>30.4</td>\n",
       "      <td>2019-04-22</td>\n",
       "      <td>1</td>\n",
       "      <td>2.65</td>\n",
       "      <td>2</td>\n",
       "      <td>16.0</td>\n",
       "      <td>1</td>\n",
       "      <td>False</td>\n",
       "      <td>...</td>\n",
       "      <td>Сланцы</td>\n",
       "      <td>NaN</td>\n",
       "      <td>30308.5</td>\n",
       "      <td>NaN</td>\n",
       "      <td>NaN</td>\n",
       "      <td>NaN</td>\n",
       "      <td>NaN</td>\n",
       "      <td>NaN</td>\n",
       "      <td>другой</td>\n",
       "      <td>True</td>\n",
       "    </tr>\n",
       "    <tr>\n",
       "      <th>17676</th>\n",
       "      <td>0</td>\n",
       "      <td>450000</td>\n",
       "      <td>36.5</td>\n",
       "      <td>2018-02-01</td>\n",
       "      <td>1</td>\n",
       "      <td>2.65</td>\n",
       "      <td>5</td>\n",
       "      <td>17.3</td>\n",
       "      <td>4</td>\n",
       "      <td>False</td>\n",
       "      <td>...</td>\n",
       "      <td>деревня Ям-Тесово</td>\n",
       "      <td>NaN</td>\n",
       "      <td>30308.5</td>\n",
       "      <td>NaN</td>\n",
       "      <td>NaN</td>\n",
       "      <td>NaN</td>\n",
       "      <td>NaN</td>\n",
       "      <td>120.0</td>\n",
       "      <td>другой</td>\n",
       "      <td>False</td>\n",
       "    </tr>\n",
       "    <tr>\n",
       "      <th>18867</th>\n",
       "      <td>1</td>\n",
       "      <td>470000</td>\n",
       "      <td>41.0</td>\n",
       "      <td>2018-02-11</td>\n",
       "      <td>1</td>\n",
       "      <td>2.65</td>\n",
       "      <td>5</td>\n",
       "      <td>32.0</td>\n",
       "      <td>3</td>\n",
       "      <td>False</td>\n",
       "      <td>...</td>\n",
       "      <td>деревня Выскатка</td>\n",
       "      <td>NaN</td>\n",
       "      <td>30308.5</td>\n",
       "      <td>NaN</td>\n",
       "      <td>NaN</td>\n",
       "      <td>NaN</td>\n",
       "      <td>NaN</td>\n",
       "      <td>46.0</td>\n",
       "      <td>другой</td>\n",
       "      <td>False</td>\n",
       "    </tr>\n",
       "    <tr>\n",
       "      <th>21912</th>\n",
       "      <td>0</td>\n",
       "      <td>470000</td>\n",
       "      <td>37.0</td>\n",
       "      <td>2018-02-18</td>\n",
       "      <td>1</td>\n",
       "      <td>2.65</td>\n",
       "      <td>3</td>\n",
       "      <td>17.6</td>\n",
       "      <td>3</td>\n",
       "      <td>False</td>\n",
       "      <td>...</td>\n",
       "      <td>поселок Совхозный</td>\n",
       "      <td>NaN</td>\n",
       "      <td>30308.5</td>\n",
       "      <td>NaN</td>\n",
       "      <td>NaN</td>\n",
       "      <td>NaN</td>\n",
       "      <td>NaN</td>\n",
       "      <td>45.0</td>\n",
       "      <td>другой</td>\n",
       "      <td>False</td>\n",
       "    </tr>\n",
       "    <tr>\n",
       "      <th>23484</th>\n",
       "      <td>11</td>\n",
       "      <td>470000</td>\n",
       "      <td>44.5</td>\n",
       "      <td>2018-07-02</td>\n",
       "      <td>2</td>\n",
       "      <td>2.65</td>\n",
       "      <td>2</td>\n",
       "      <td>28.0</td>\n",
       "      <td>2</td>\n",
       "      <td>False</td>\n",
       "      <td>...</td>\n",
       "      <td>Сланцы</td>\n",
       "      <td>NaN</td>\n",
       "      <td>30308.5</td>\n",
       "      <td>NaN</td>\n",
       "      <td>NaN</td>\n",
       "      <td>NaN</td>\n",
       "      <td>NaN</td>\n",
       "      <td>298.0</td>\n",
       "      <td>другой</td>\n",
       "      <td>False</td>\n",
       "    </tr>\n",
       "  </tbody>\n",
       "</table>\n",
       "<p>14 rows × 24 columns</p>\n",
       "</div>"
      ],
      "text/plain": [
       "       total_images  last_price  total_area first_day_exposition  rooms  \\\n",
       "5698              7      450000        42.0           2017-07-31      2   \n",
       "6859              6      490000        40.0           2017-12-11      1   \n",
       "8793              7       12190       109.0           2019-03-20      2   \n",
       "9581              7      450000        43.4           2018-08-31      2   \n",
       "10782             3      490000        29.1           2016-05-05      1   \n",
       "14911             5      430000        54.0           2018-06-26      2   \n",
       "16032             8      480000        32.0           2019-01-06      1   \n",
       "16219            14      450000        38.5           2018-07-11      2   \n",
       "16274            18      440000        40.0           2018-07-10      1   \n",
       "17456             7      430000        30.4           2019-04-22      1   \n",
       "17676             0      450000        36.5           2018-02-01      1   \n",
       "18867             1      470000        41.0           2018-02-11      1   \n",
       "21912             0      470000        37.0           2018-02-18      1   \n",
       "23484            11      470000        44.5           2018-07-02      2   \n",
       "\n",
       "       ceiling_height  floors_total  living_area  floor  is_apartment  ...  \\\n",
       "5698             2.65             1         23.0      1         False  ...   \n",
       "6859             2.65             5         17.6      3         False  ...   \n",
       "8793             2.75            25         32.0     25         False  ...   \n",
       "9581             2.65             5         30.3      3         False  ...   \n",
       "10782            2.50             5         17.0      5         False  ...   \n",
       "14911            2.65             3         30.5      3         False  ...   \n",
       "16032            2.65             2         16.0      1         False  ...   \n",
       "16219            2.65             2         30.5      1         False  ...   \n",
       "16274            2.65             5         17.6      1         False  ...   \n",
       "17456            2.65             2         16.0      1         False  ...   \n",
       "17676            2.65             5         17.3      4         False  ...   \n",
       "18867            2.65             5         32.0      3         False  ...   \n",
       "21912            2.65             3         17.6      3         False  ...   \n",
       "23484            2.65             2         28.0      2         False  ...   \n",
       "\n",
       "                          locality_name  airports_nearest  \\\n",
       "5698   поселок городского типа Будогощь               NaN   \n",
       "6859                 деревня Старополье               NaN   \n",
       "8793                    Санкт-Петербург           36421.0   \n",
       "9581                 деревня Старополье               NaN   \n",
       "10782                            Сланцы               NaN   \n",
       "14911             поселок станции Свирь               NaN   \n",
       "16032                            Сланцы               NaN   \n",
       "16219              деревня Вахнова Кара               NaN   \n",
       "16274                деревня Старополье               NaN   \n",
       "17456                            Сланцы               NaN   \n",
       "17676                 деревня Ям-Тесово               NaN   \n",
       "18867                  деревня Выскатка               NaN   \n",
       "21912                 поселок Совхозный               NaN   \n",
       "23484                            Сланцы               NaN   \n",
       "\n",
       "       city_centers_nearest  parks_around3000 parks_nearest  ponds_around3000  \\\n",
       "5698                30308.5               NaN           NaN               NaN   \n",
       "6859                30308.5               NaN           NaN               NaN   \n",
       "8793                 9176.0               1.0         805.0               0.0   \n",
       "9581                30308.5               NaN           NaN               NaN   \n",
       "10782               30308.5               NaN           NaN               NaN   \n",
       "14911               30308.5               NaN           NaN               NaN   \n",
       "16032               30308.5               NaN           NaN               NaN   \n",
       "16219               30308.5               NaN           NaN               NaN   \n",
       "16274               30308.5               NaN           NaN               NaN   \n",
       "17456               30308.5               NaN           NaN               NaN   \n",
       "17676               30308.5               NaN           NaN               NaN   \n",
       "18867               30308.5               NaN           NaN               NaN   \n",
       "21912               30308.5               NaN           NaN               NaN   \n",
       "23484               30308.5               NaN           NaN               NaN   \n",
       "\n",
       "       ponds_nearest  days_exposition        city_name  \\\n",
       "5698             NaN            233.0           другой   \n",
       "6859             NaN             43.0           другой   \n",
       "8793             NaN              8.0  Санкт-Петербург   \n",
       "9581             NaN             96.0           другой   \n",
       "10782            NaN            719.0           другой   \n",
       "14911            NaN             44.0           другой   \n",
       "16032            NaN             83.0           другой   \n",
       "16219            NaN             45.0           другой   \n",
       "16274            NaN             45.0           другой   \n",
       "17456            NaN              NaN           другой   \n",
       "17676            NaN            120.0           другой   \n",
       "18867            NaN             46.0           другой   \n",
       "21912            NaN             45.0           другой   \n",
       "23484            NaN            298.0           другой   \n",
       "\n",
       "       days_exposition_missing_value  \n",
       "5698                           False  \n",
       "6859                           False  \n",
       "8793                           False  \n",
       "9581                           False  \n",
       "10782                          False  \n",
       "14911                          False  \n",
       "16032                          False  \n",
       "16219                          False  \n",
       "16274                          False  \n",
       "17456                           True  \n",
       "17676                          False  \n",
       "18867                          False  \n",
       "21912                          False  \n",
       "23484                          False  \n",
       "\n",
       "[14 rows x 24 columns]"
      ]
     },
     "execution_count": 171,
     "metadata": {},
     "output_type": "execute_result"
    }
   ],
   "source": [
    "min_price = data.query('last_price < 500000')\n",
    "min_price"
   ]
  },
  {
   "cell_type": "markdown",
   "metadata": {},
   "source": [
    "Самые дешевые объекты недвижимости находятся в деревнях и поселках и стоят от 430 тыс. \n",
    "Однако, один объект имеет аномальное значение - квартира в Санкт-Петербурге за 12190 руб, скорее всего стоимость указана с ошибкой, это 12190 тыс. Приведем к корректному виду."
   ]
  },
  {
   "cell_type": "code",
   "execution_count": 172,
   "metadata": {},
   "outputs": [
    {
     "data": {
      "text/plain": [
       "count        23534.0\n",
       "mean       6408232.0\n",
       "std        7912957.0\n",
       "min         430000.0\n",
       "25%        3400000.0\n",
       "50%        4645000.0\n",
       "75%        6790000.0\n",
       "max      190870000.0\n",
       "Name: last_price, dtype: float64"
      ]
     },
     "execution_count": 172,
     "metadata": {},
     "output_type": "execute_result"
    }
   ],
   "source": [
    "data = data.drop(data[data['last_price'] >= 200000000].index) #удаляем строки со стоимостью объекта выше 200 млн\n",
    "data['last_price'] = data['last_price'].replace(12190, 12190000) #заменяем цену квартиры за 12 тыс на 12 млн\n",
    "data['last_price'].describe().round() #проверим, что получилось"
   ]
  },
  {
   "cell_type": "markdown",
   "metadata": {},
   "source": [
    "**Количество комнат**"
   ]
  },
  {
   "cell_type": "code",
   "execution_count": 173,
   "metadata": {},
   "outputs": [
    {
     "data": {
      "text/plain": [
       "count    23534.0\n",
       "mean         2.0\n",
       "std          1.0\n",
       "min          0.0\n",
       "25%          1.0\n",
       "50%          2.0\n",
       "75%          3.0\n",
       "max         19.0\n",
       "Name: rooms, dtype: float64"
      ]
     },
     "execution_count": 173,
     "metadata": {},
     "output_type": "execute_result"
    },
    {
     "data": {
      "image/png": "[encoded data removed]",
      "text/plain": [
       "<Figure size 432x288 with 1 Axes>"
      ]
     },
     "metadata": {
      "needs_background": "light"
     },
     "output_type": "display_data"
    }
   ],
   "source": [
    "data.boxplot(column='rooms') #Посмотрим, что у нас с аномальными значениями в столбце rooms\n",
    "data['rooms'].describe().round()"
   ]
  },
  {
   "cell_type": "markdown",
   "metadata": {},
   "source": [
    "Количество комнат варьируется от 0 до 19. Уберем аномально большие квартиры, где больше 10 комнат, из нашего исследования."
   ]
  },
  {
   "cell_type": "code",
   "execution_count": 174,
   "metadata": {},
   "outputs": [
    {
     "data": {
      "text/plain": [
       "<AxesSubplot:>"
      ]
     },
     "execution_count": 174,
     "metadata": {},
     "output_type": "execute_result"
    },
    {
     "data": {
      "image/png": "[encoded data removed]",
      "text/plain": [
       "<Figure size 432x288 with 1 Axes>"
      ]
     },
     "metadata": {
      "needs_background": "light"
     },
     "output_type": "display_data"
    }
   ],
   "source": [
    "data = data.drop(data[data['rooms'] > 10].index)\n",
    "data.boxplot(column='rooms')"
   ]
  },
  {
   "cell_type": "markdown",
   "metadata": {},
   "source": [
    "**Общая площадь квартиры**"
   ]
  },
  {
   "cell_type": "code",
   "execution_count": 175,
   "metadata": {},
   "outputs": [
    {
     "data": {
      "text/plain": [
       "count    23527.0\n",
       "mean        60.0\n",
       "std         34.0\n",
       "min         12.0\n",
       "25%         40.0\n",
       "50%         52.0\n",
       "75%         70.0\n",
       "max        631.0\n",
       "Name: total_area, dtype: float64"
      ]
     },
     "execution_count": 175,
     "metadata": {},
     "output_type": "execute_result"
    },
    {
     "data": {
      "image/png": "[encoded data removed]",
      "text/plain": [
       "<Figure size 432x288 with 1 Axes>"
      ]
     },
     "metadata": {
      "needs_background": "light"
     },
     "output_type": "display_data"
    }
   ],
   "source": [
    "data.boxplot(column='total_area') #Проверим, какие у нас остались квартиры по общей площади total_area, также построив диаграмму размаха\n",
    "data['total_area'].describe().round()"
   ]
  },
  {
   "cell_type": "markdown",
   "metadata": {},
   "source": [
    "Площадь квартир варьируется от 12 до 631 м. Квартиры больше 110 м мы можем считать выбросами, но удалим строки только с очень большими квартирами от 300 м."
   ]
  },
  {
   "cell_type": "code",
   "execution_count": 176,
   "metadata": {},
   "outputs": [
    {
     "data": {
      "text/plain": [
       "count    23475.0\n",
       "mean        59.0\n",
       "std         30.0\n",
       "min         12.0\n",
       "25%         40.0\n",
       "50%         52.0\n",
       "75%         69.0\n",
       "max        300.0\n",
       "Name: total_area, dtype: float64"
      ]
     },
     "execution_count": 176,
     "metadata": {},
     "output_type": "execute_result"
    }
   ],
   "source": [
    "data = data.drop(data[data['total_area'] > 300].index)\n",
    "data['total_area'].describe().round()"
   ]
  },
  {
   "cell_type": "markdown",
   "metadata": {},
   "source": [
    "**Количество этажей**"
   ]
  },
  {
   "cell_type": "code",
   "execution_count": 177,
   "metadata": {},
   "outputs": [
    {
     "data": {
      "text/plain": [
       "count    23475.0\n",
       "mean        11.0\n",
       "std          7.0\n",
       "min          1.0\n",
       "25%          5.0\n",
       "50%          9.0\n",
       "75%         16.0\n",
       "max         60.0\n",
       "Name: floors_total, dtype: float64"
      ]
     },
     "execution_count": 177,
     "metadata": {},
     "output_type": "execute_result"
    },
    {
     "data": {
      "image/png": "[encoded data removed]",
      "text/plain": [
       "<Figure size 432x288 with 1 Axes>"
      ]
     },
     "metadata": {
      "needs_background": "light"
     },
     "output_type": "display_data"
    }
   ],
   "source": [
    "data.boxplot(column='floors_total') #т.к. в нашем исследовании мы будем использовать этажность дома, посмотрим есть ли аномальные значения в столбце floors_total\n",
    "data['floors_total'].describe().round()"
   ]
  },
  {
   "cell_type": "markdown",
   "metadata": {},
   "source": [
    "Самый высокий жилой дом в Санкт-Петерурге имеет 37 этажей, мы видим значения выше 50 этажа, но не знаем характер происхождения данной аномалии, удалим эти строки."
   ]
  },
  {
   "cell_type": "code",
   "execution_count": 178,
   "metadata": {},
   "outputs": [
    {
     "data": {
      "text/plain": [
       "count    23473.0\n",
       "mean        11.0\n",
       "std          7.0\n",
       "min          1.0\n",
       "25%          5.0\n",
       "50%          9.0\n",
       "75%         16.0\n",
       "max         36.0\n",
       "Name: floors_total, dtype: float64"
      ]
     },
     "execution_count": 178,
     "metadata": {},
     "output_type": "execute_result"
    }
   ],
   "source": [
    "data = data.drop(data[data['floors_total'] > 40].index)\n",
    "data['floors_total'].describe().round()"
   ]
  },
  {
   "cell_type": "markdown",
   "metadata": {},
   "source": [
    "**Площадь кухни**"
   ]
  },
  {
   "cell_type": "code",
   "execution_count": 179,
   "metadata": {},
   "outputs": [
    {
     "data": {
      "text/plain": [
       "count    23473.000000\n",
       "mean        10.309821\n",
       "std          5.493909\n",
       "min          0.000000\n",
       "25%          7.200000\n",
       "50%          9.040000\n",
       "75%         11.500000\n",
       "max        107.000000\n",
       "Name: kitchen_area, dtype: float64"
      ]
     },
     "execution_count": 179,
     "metadata": {},
     "output_type": "execute_result"
    }
   ],
   "source": [
    "data['kitchen_area'].describe()"
   ]
  },
  {
   "cell_type": "code",
   "execution_count": 180,
   "metadata": {},
   "outputs": [
    {
     "data": {
      "text/plain": [
       "<AxesSubplot:>"
      ]
     },
     "execution_count": 180,
     "metadata": {},
     "output_type": "execute_result"
    },
    {
     "data": {
      "image/png": "[encoded data removed]",
      "text/plain": [
       "<Figure size 432x288 with 1 Axes>"
      ]
     },
     "metadata": {
      "needs_background": "light"
     },
     "output_type": "display_data"
    }
   ],
   "source": [
    "data.boxplot(column='kitchen_area') #построим диаграмму размаха по площади кухни"
   ]
  },
  {
   "cell_type": "markdown",
   "metadata": {},
   "source": [
    "Площадь кухни варьируется от 0 (в квартирах - студиях и в квартирах свободной планировки) до 107 м². \n",
    "Мы видим, что в большинстве случаев площадь кухни не превышает 20 м². \n",
    "Удалим из нашего исследования квартиры со слишком большой площадью от 50 м²."
   ]
  },
  {
   "cell_type": "code",
   "execution_count": 181,
   "metadata": {},
   "outputs": [],
   "source": [
    "data = data.drop(data[data['kitchen_area'] > 50].index)"
   ]
  },
  {
   "cell_type": "markdown",
   "metadata": {},
   "source": [
    "**Жилая площадь квартиры**"
   ]
  },
  {
   "cell_type": "code",
   "execution_count": 182,
   "metadata": {},
   "outputs": [
    {
     "data": {
      "text/plain": [
       "count    23437.0\n",
       "mean        34.0\n",
       "std         19.0\n",
       "min          2.0\n",
       "25%         18.0\n",
       "50%         30.0\n",
       "75%         42.0\n",
       "max        250.0\n",
       "Name: living_area, dtype: float64"
      ]
     },
     "execution_count": 182,
     "metadata": {},
     "output_type": "execute_result"
    },
    {
     "data": {
      "image/png": "[encoded data removed]",
      "text/plain": [
       "<Figure size 432x288 with 1 Axes>"
      ]
     },
     "metadata": {
      "needs_background": "light"
     },
     "output_type": "display_data"
    }
   ],
   "source": [
    "data.boxplot(column='living_area') #посмотрим, что там с жилой площадью\n",
    "data['living_area'].describe().round()"
   ]
  },
  {
   "cell_type": "markdown",
   "metadata": {},
   "source": [
    "После чистки аномальных значений по другим столбцам, мы видим, что границы по жилой площади уже сократились с 410 м² до 250 м². Невысокую плотность мы видим от 200 м², но их совсем немного, оставим как есть."
   ]
  },
  {
   "cell_type": "code",
   "execution_count": 183,
   "metadata": {
    "scrolled": true
   },
   "outputs": [
    {
     "data": {
      "text/html": [
       "<div>\n",
       "<style scoped>\n",
       "    .dataframe tbody tr th:only-of-type {\n",
       "        vertical-align: middle;\n",
       "    }\n",
       "\n",
       "    .dataframe tbody tr th {\n",
       "        vertical-align: top;\n",
       "    }\n",
       "\n",
       "    .dataframe thead th {\n",
       "        text-align: right;\n",
       "    }\n",
       "</style>\n",
       "<table border=\"1\" class=\"dataframe\">\n",
       "  <thead>\n",
       "    <tr style=\"text-align: right;\">\n",
       "      <th></th>\n",
       "      <th>total_images</th>\n",
       "      <th>last_price</th>\n",
       "      <th>total_area</th>\n",
       "      <th>rooms</th>\n",
       "      <th>ceiling_height</th>\n",
       "      <th>floors_total</th>\n",
       "      <th>living_area</th>\n",
       "      <th>floor</th>\n",
       "      <th>kitchen_area</th>\n",
       "      <th>balcony</th>\n",
       "      <th>airports_nearest</th>\n",
       "      <th>city_centers_nearest</th>\n",
       "      <th>parks_around3000</th>\n",
       "      <th>parks_nearest</th>\n",
       "      <th>ponds_around3000</th>\n",
       "      <th>ponds_nearest</th>\n",
       "      <th>days_exposition</th>\n",
       "    </tr>\n",
       "  </thead>\n",
       "  <tbody>\n",
       "    <tr>\n",
       "      <th>count</th>\n",
       "      <td>23437.0</td>\n",
       "      <td>23437.0</td>\n",
       "      <td>23437.0</td>\n",
       "      <td>23437.0</td>\n",
       "      <td>23437.0</td>\n",
       "      <td>23437.0</td>\n",
       "      <td>23437.0</td>\n",
       "      <td>23437.0</td>\n",
       "      <td>23437.0</td>\n",
       "      <td>23437.0</td>\n",
       "      <td>17928.0</td>\n",
       "      <td>23437.0</td>\n",
       "      <td>17950.0</td>\n",
       "      <td>7952.0</td>\n",
       "      <td>17950.0</td>\n",
       "      <td>8961.0</td>\n",
       "      <td>20291.0</td>\n",
       "    </tr>\n",
       "    <tr>\n",
       "      <th>mean</th>\n",
       "      <td>10.0</td>\n",
       "      <td>6210419.0</td>\n",
       "      <td>59.0</td>\n",
       "      <td>2.0</td>\n",
       "      <td>3.0</td>\n",
       "      <td>11.0</td>\n",
       "      <td>34.0</td>\n",
       "      <td>6.0</td>\n",
       "      <td>10.0</td>\n",
       "      <td>1.0</td>\n",
       "      <td>28805.0</td>\n",
       "      <td>17947.0</td>\n",
       "      <td>1.0</td>\n",
       "      <td>491.0</td>\n",
       "      <td>1.0</td>\n",
       "      <td>519.0</td>\n",
       "      <td>180.0</td>\n",
       "    </tr>\n",
       "    <tr>\n",
       "      <th>std</th>\n",
       "      <td>6.0</td>\n",
       "      <td>6844179.0</td>\n",
       "      <td>30.0</td>\n",
       "      <td>1.0</td>\n",
       "      <td>0.0</td>\n",
       "      <td>7.0</td>\n",
       "      <td>19.0</td>\n",
       "      <td>5.0</td>\n",
       "      <td>5.0</td>\n",
       "      <td>1.0</td>\n",
       "      <td>12652.0</td>\n",
       "      <td>10139.0</td>\n",
       "      <td>1.0</td>\n",
       "      <td>342.0</td>\n",
       "      <td>1.0</td>\n",
       "      <td>278.0</td>\n",
       "      <td>219.0</td>\n",
       "    </tr>\n",
       "    <tr>\n",
       "      <th>min</th>\n",
       "      <td>0.0</td>\n",
       "      <td>430000.0</td>\n",
       "      <td>12.0</td>\n",
       "      <td>0.0</td>\n",
       "      <td>2.0</td>\n",
       "      <td>1.0</td>\n",
       "      <td>2.0</td>\n",
       "      <td>1.0</td>\n",
       "      <td>0.0</td>\n",
       "      <td>0.0</td>\n",
       "      <td>0.0</td>\n",
       "      <td>181.0</td>\n",
       "      <td>0.0</td>\n",
       "      <td>1.0</td>\n",
       "      <td>0.0</td>\n",
       "      <td>13.0</td>\n",
       "      <td>1.0</td>\n",
       "    </tr>\n",
       "    <tr>\n",
       "      <th>25%</th>\n",
       "      <td>6.0</td>\n",
       "      <td>3400000.0</td>\n",
       "      <td>40.0</td>\n",
       "      <td>1.0</td>\n",
       "      <td>3.0</td>\n",
       "      <td>5.0</td>\n",
       "      <td>18.0</td>\n",
       "      <td>2.0</td>\n",
       "      <td>7.0</td>\n",
       "      <td>0.0</td>\n",
       "      <td>18539.0</td>\n",
       "      <td>10982.0</td>\n",
       "      <td>0.0</td>\n",
       "      <td>288.0</td>\n",
       "      <td>0.0</td>\n",
       "      <td>295.0</td>\n",
       "      <td>45.0</td>\n",
       "    </tr>\n",
       "    <tr>\n",
       "      <th>50%</th>\n",
       "      <td>9.0</td>\n",
       "      <td>4600000.0</td>\n",
       "      <td>52.0</td>\n",
       "      <td>2.0</td>\n",
       "      <td>3.0</td>\n",
       "      <td>9.0</td>\n",
       "      <td>30.0</td>\n",
       "      <td>4.0</td>\n",
       "      <td>9.0</td>\n",
       "      <td>0.0</td>\n",
       "      <td>26769.0</td>\n",
       "      <td>14978.0</td>\n",
       "      <td>0.0</td>\n",
       "      <td>455.0</td>\n",
       "      <td>0.0</td>\n",
       "      <td>503.0</td>\n",
       "      <td>95.0</td>\n",
       "    </tr>\n",
       "    <tr>\n",
       "      <th>75%</th>\n",
       "      <td>14.0</td>\n",
       "      <td>6700000.0</td>\n",
       "      <td>69.0</td>\n",
       "      <td>3.0</td>\n",
       "      <td>3.0</td>\n",
       "      <td>16.0</td>\n",
       "      <td>42.0</td>\n",
       "      <td>8.0</td>\n",
       "      <td>11.0</td>\n",
       "      <td>1.0</td>\n",
       "      <td>37298.0</td>\n",
       "      <td>30308.0</td>\n",
       "      <td>1.0</td>\n",
       "      <td>612.0</td>\n",
       "      <td>1.0</td>\n",
       "      <td>732.0</td>\n",
       "      <td>230.0</td>\n",
       "    </tr>\n",
       "    <tr>\n",
       "      <th>max</th>\n",
       "      <td>50.0</td>\n",
       "      <td>190870000.0</td>\n",
       "      <td>300.0</td>\n",
       "      <td>10.0</td>\n",
       "      <td>6.0</td>\n",
       "      <td>36.0</td>\n",
       "      <td>250.0</td>\n",
       "      <td>33.0</td>\n",
       "      <td>50.0</td>\n",
       "      <td>5.0</td>\n",
       "      <td>84869.0</td>\n",
       "      <td>65968.0</td>\n",
       "      <td>3.0</td>\n",
       "      <td>3190.0</td>\n",
       "      <td>3.0</td>\n",
       "      <td>1344.0</td>\n",
       "      <td>1580.0</td>\n",
       "    </tr>\n",
       "  </tbody>\n",
       "</table>\n",
       "</div>"
      ],
      "text/plain": [
       "       total_images   last_price  total_area    rooms  ceiling_height  \\\n",
       "count       23437.0      23437.0     23437.0  23437.0         23437.0   \n",
       "mean           10.0    6210419.0        59.0      2.0             3.0   \n",
       "std             6.0    6844179.0        30.0      1.0             0.0   \n",
       "min             0.0     430000.0        12.0      0.0             2.0   \n",
       "25%             6.0    3400000.0        40.0      1.0             3.0   \n",
       "50%             9.0    4600000.0        52.0      2.0             3.0   \n",
       "75%            14.0    6700000.0        69.0      3.0             3.0   \n",
       "max            50.0  190870000.0       300.0     10.0             6.0   \n",
       "\n",
       "       floors_total  living_area    floor  kitchen_area  balcony  \\\n",
       "count       23437.0      23437.0  23437.0       23437.0  23437.0   \n",
       "mean           11.0         34.0      6.0          10.0      1.0   \n",
       "std             7.0         19.0      5.0           5.0      1.0   \n",
       "min             1.0          2.0      1.0           0.0      0.0   \n",
       "25%             5.0         18.0      2.0           7.0      0.0   \n",
       "50%             9.0         30.0      4.0           9.0      0.0   \n",
       "75%            16.0         42.0      8.0          11.0      1.0   \n",
       "max            36.0        250.0     33.0          50.0      5.0   \n",
       "\n",
       "       airports_nearest  city_centers_nearest  parks_around3000  \\\n",
       "count           17928.0               23437.0           17950.0   \n",
       "mean            28805.0               17947.0               1.0   \n",
       "std             12652.0               10139.0               1.0   \n",
       "min                 0.0                 181.0               0.0   \n",
       "25%             18539.0               10982.0               0.0   \n",
       "50%             26769.0               14978.0               0.0   \n",
       "75%             37298.0               30308.0               1.0   \n",
       "max             84869.0               65968.0               3.0   \n",
       "\n",
       "       parks_nearest  ponds_around3000  ponds_nearest  days_exposition  \n",
       "count         7952.0           17950.0         8961.0          20291.0  \n",
       "mean           491.0               1.0          519.0            180.0  \n",
       "std            342.0               1.0          278.0            219.0  \n",
       "min              1.0               0.0           13.0              1.0  \n",
       "25%            288.0               0.0          295.0             45.0  \n",
       "50%            455.0               0.0          503.0             95.0  \n",
       "75%            612.0               1.0          732.0            230.0  \n",
       "max           3190.0               3.0         1344.0           1580.0  "
      ]
     },
     "execution_count": 183,
     "metadata": {},
     "output_type": "execute_result"
    }
   ],
   "source": [
    "# выведем общую таблицу и сделаем по ней выводы\n",
    "data.describe().round()"
   ]
  },
  {
   "cell_type": "markdown",
   "metadata": {},
   "source": [
    "**Вывод**\n",
    "\n",
    "Мы почистили датафрейм от выбросов, оставили границы по стоимости объектов до 200 млн, общей площадью до 300 м², количество комнат до 10, убрали огромные кухни от 50 м², тем самым жилая площадь квартир в выборке сократилась до 250 м². Успешно разобрались с высотой потолков, преобразовали значения там, где это было возможно, удалили объекты, где встречались неправдоподобно высокие этажи."
   ]
  },
  {
   "cell_type": "markdown",
   "metadata": {},
   "source": [
    "**Добавим в таблицу новые столбцы со следующими параметрами:**\n",
    "\n",
    "•\tцена одного квадратного метра;\n",
    "\n",
    "•\tдень недели публикации объявления (0 — понедельник, 1 — вторник и так далее);\n",
    "\n",
    "•\tмесяц публикации объявления;\n",
    "\n",
    "•\tгод публикации объявления;\n",
    "\n",
    "•\tтип этажа квартиры (значения — «первый», «последний», «другой»);\n",
    "\n",
    "•\tрасстояние до центра города в километрах (переведите из м в км и округлите до целых значений)."
   ]
  },
  {
   "cell_type": "code",
   "execution_count": 184,
   "metadata": {},
   "outputs": [
    {
     "data": {
      "text/html": [
       "<div>\n",
       "<style scoped>\n",
       "    .dataframe tbody tr th:only-of-type {\n",
       "        vertical-align: middle;\n",
       "    }\n",
       "\n",
       "    .dataframe tbody tr th {\n",
       "        vertical-align: top;\n",
       "    }\n",
       "\n",
       "    .dataframe thead th {\n",
       "        text-align: right;\n",
       "    }\n",
       "</style>\n",
       "<table border=\"1\" class=\"dataframe\">\n",
       "  <thead>\n",
       "    <tr style=\"text-align: right;\">\n",
       "      <th></th>\n",
       "      <th>total_images</th>\n",
       "      <th>last_price</th>\n",
       "      <th>total_area</th>\n",
       "      <th>first_day_exposition</th>\n",
       "      <th>rooms</th>\n",
       "      <th>ceiling_height</th>\n",
       "      <th>floors_total</th>\n",
       "      <th>living_area</th>\n",
       "      <th>floor</th>\n",
       "      <th>is_apartment</th>\n",
       "      <th>...</th>\n",
       "      <th>ponds_nearest</th>\n",
       "      <th>days_exposition</th>\n",
       "      <th>city_name</th>\n",
       "      <th>days_exposition_missing_value</th>\n",
       "      <th>square_price</th>\n",
       "      <th>weekday</th>\n",
       "      <th>month</th>\n",
       "      <th>year</th>\n",
       "      <th>floors_type</th>\n",
       "      <th>city_centers_nearest_km</th>\n",
       "    </tr>\n",
       "  </thead>\n",
       "  <tbody>\n",
       "    <tr>\n",
       "      <th>0</th>\n",
       "      <td>20</td>\n",
       "      <td>13000000</td>\n",
       "      <td>108.0</td>\n",
       "      <td>2019-03-07</td>\n",
       "      <td>3</td>\n",
       "      <td>2.70</td>\n",
       "      <td>16</td>\n",
       "      <td>51.0</td>\n",
       "      <td>8</td>\n",
       "      <td>False</td>\n",
       "      <td>...</td>\n",
       "      <td>755.0</td>\n",
       "      <td>NaN</td>\n",
       "      <td>Санкт-Петербург</td>\n",
       "      <td>True</td>\n",
       "      <td>120370.0</td>\n",
       "      <td>3</td>\n",
       "      <td>3</td>\n",
       "      <td>2019</td>\n",
       "      <td>другой</td>\n",
       "      <td>16.0</td>\n",
       "    </tr>\n",
       "    <tr>\n",
       "      <th>1</th>\n",
       "      <td>7</td>\n",
       "      <td>3350000</td>\n",
       "      <td>40.4</td>\n",
       "      <td>2018-12-04</td>\n",
       "      <td>1</td>\n",
       "      <td>2.65</td>\n",
       "      <td>11</td>\n",
       "      <td>18.6</td>\n",
       "      <td>1</td>\n",
       "      <td>False</td>\n",
       "      <td>...</td>\n",
       "      <td>NaN</td>\n",
       "      <td>81.0</td>\n",
       "      <td>другой</td>\n",
       "      <td>False</td>\n",
       "      <td>82921.0</td>\n",
       "      <td>1</td>\n",
       "      <td>12</td>\n",
       "      <td>2018</td>\n",
       "      <td>первый</td>\n",
       "      <td>19.0</td>\n",
       "    </tr>\n",
       "    <tr>\n",
       "      <th>2</th>\n",
       "      <td>10</td>\n",
       "      <td>5196000</td>\n",
       "      <td>56.0</td>\n",
       "      <td>2015-08-20</td>\n",
       "      <td>2</td>\n",
       "      <td>2.65</td>\n",
       "      <td>5</td>\n",
       "      <td>34.3</td>\n",
       "      <td>4</td>\n",
       "      <td>False</td>\n",
       "      <td>...</td>\n",
       "      <td>574.0</td>\n",
       "      <td>558.0</td>\n",
       "      <td>Санкт-Петербург</td>\n",
       "      <td>False</td>\n",
       "      <td>92786.0</td>\n",
       "      <td>3</td>\n",
       "      <td>8</td>\n",
       "      <td>2015</td>\n",
       "      <td>другой</td>\n",
       "      <td>14.0</td>\n",
       "    </tr>\n",
       "    <tr>\n",
       "      <th>3</th>\n",
       "      <td>0</td>\n",
       "      <td>64900000</td>\n",
       "      <td>159.0</td>\n",
       "      <td>2015-07-24</td>\n",
       "      <td>3</td>\n",
       "      <td>2.65</td>\n",
       "      <td>14</td>\n",
       "      <td>45.0</td>\n",
       "      <td>9</td>\n",
       "      <td>False</td>\n",
       "      <td>...</td>\n",
       "      <td>234.0</td>\n",
       "      <td>424.0</td>\n",
       "      <td>Санкт-Петербург</td>\n",
       "      <td>False</td>\n",
       "      <td>408176.0</td>\n",
       "      <td>4</td>\n",
       "      <td>7</td>\n",
       "      <td>2015</td>\n",
       "      <td>другой</td>\n",
       "      <td>7.0</td>\n",
       "    </tr>\n",
       "    <tr>\n",
       "      <th>4</th>\n",
       "      <td>2</td>\n",
       "      <td>10000000</td>\n",
       "      <td>100.0</td>\n",
       "      <td>2018-06-19</td>\n",
       "      <td>2</td>\n",
       "      <td>3.03</td>\n",
       "      <td>14</td>\n",
       "      <td>32.0</td>\n",
       "      <td>13</td>\n",
       "      <td>False</td>\n",
       "      <td>...</td>\n",
       "      <td>48.0</td>\n",
       "      <td>121.0</td>\n",
       "      <td>Санкт-Петербург</td>\n",
       "      <td>False</td>\n",
       "      <td>100000.0</td>\n",
       "      <td>1</td>\n",
       "      <td>6</td>\n",
       "      <td>2018</td>\n",
       "      <td>другой</td>\n",
       "      <td>8.0</td>\n",
       "    </tr>\n",
       "  </tbody>\n",
       "</table>\n",
       "<p>5 rows × 30 columns</p>\n",
       "</div>"
      ],
      "text/plain": [
       "   total_images  last_price  total_area first_day_exposition  rooms  \\\n",
       "0            20    13000000       108.0           2019-03-07      3   \n",
       "1             7     3350000        40.4           2018-12-04      1   \n",
       "2            10     5196000        56.0           2015-08-20      2   \n",
       "3             0    64900000       159.0           2015-07-24      3   \n",
       "4             2    10000000       100.0           2018-06-19      2   \n",
       "\n",
       "   ceiling_height  floors_total  living_area  floor  is_apartment  ...  \\\n",
       "0            2.70            16         51.0      8         False  ...   \n",
       "1            2.65            11         18.6      1         False  ...   \n",
       "2            2.65             5         34.3      4         False  ...   \n",
       "3            2.65            14         45.0      9         False  ...   \n",
       "4            3.03            14         32.0     13         False  ...   \n",
       "\n",
       "   ponds_nearest  days_exposition        city_name  \\\n",
       "0          755.0              NaN  Санкт-Петербург   \n",
       "1            NaN             81.0           другой   \n",
       "2          574.0            558.0  Санкт-Петербург   \n",
       "3          234.0            424.0  Санкт-Петербург   \n",
       "4           48.0            121.0  Санкт-Петербург   \n",
       "\n",
       "   days_exposition_missing_value square_price  weekday  month  year  \\\n",
       "0                           True     120370.0        3      3  2019   \n",
       "1                          False      82921.0        1     12  2018   \n",
       "2                          False      92786.0        3      8  2015   \n",
       "3                          False     408176.0        4      7  2015   \n",
       "4                          False     100000.0        1      6  2018   \n",
       "\n",
       "   floors_type  city_centers_nearest_km  \n",
       "0       другой                     16.0  \n",
       "1       первый                     19.0  \n",
       "2       другой                     14.0  \n",
       "3       другой                      7.0  \n",
       "4       другой                      8.0  \n",
       "\n",
       "[5 rows x 30 columns]"
      ]
     },
     "execution_count": 184,
     "metadata": {},
     "output_type": "execute_result"
    }
   ],
   "source": [
    "#добавляем столбец со стоимостью квадратного метра \n",
    "data['square_price'] = (data['last_price']/data['total_area']).round()\n",
    "\n",
    "#добавляем столбцы дня недели, месяца, года\n",
    "data['weekday'] = data['first_day_exposition'].dt.weekday\n",
    "data['month'] = data['first_day_exposition'].dt.month\n",
    "data['year'] = data['first_day_exposition'].dt.year\n",
    "\n",
    "#создаем столбец с типом этажа с помощью функции\n",
    "def floors_type(row):\n",
    "    if row['floor'] == 1:\n",
    "        return 'первый'\n",
    "    elif row['floor'] == row['floors_total']:\n",
    "        return 'последний'\n",
    "    else:\n",
    "        return 'другой'\n",
    "data['floors_type'] = data.apply(floors_type, axis=1)\n",
    "\n",
    "#создаем столбец с расстоянием до центра города в км\n",
    "data['city_centers_nearest_km'] = (data['city_centers_nearest']/1000).round()\n",
    "data.head()"
   ]
  },
  {
   "cell_type": "markdown",
   "metadata": {},
   "source": [
    "### Исследовательский анализ данных."
   ]
  },
  {
   "cell_type": "markdown",
   "metadata": {},
   "source": [
    "#### Изучим следующие параметры объектов:\n",
    "\n",
    "- общая площадь;\n",
    "- жилая площадь;\n",
    "- площадь кухни;\n",
    "- цена объекта;\n",
    "- количество комнат;\n",
    "- высота потолков;\n",
    "- этаж квартиры;\n",
    "- тип этажа квартиры («первый», «последний», «другой»);\n",
    "- общее количество этажей в доме;\n",
    "- расстояние до центра города в метрах;\n",
    "- расстояние до ближайшего аэропорта;\n",
    "- расстояние до ближайшего парка;\n",
    "- день и месяц публикации объявления\n"
   ]
  },
  {
   "cell_type": "markdown",
   "metadata": {},
   "source": [
    "**Площадь квартиры**"
   ]
  },
  {
   "cell_type": "code",
   "execution_count": 185,
   "metadata": {
    "scrolled": true
   },
   "outputs": [
    {
     "data": {
      "image/png": "[encoded data removed]",
      "text/plain": [
       "<Figure size 720x360 with 1 Axes>"
      ]
     },
     "metadata": {
      "needs_background": "light"
     },
     "output_type": "display_data"
    }
   ],
   "source": [
    "data['total_area'].hist(bins=100, figsize=(10,5), range=(0,150)) #Построим гистограмму методом hist ( ). \n",
    "plt.xlabel('Площадь кв.м')\n",
    "plt.ylabel('Количество квартир')\n",
    "plt.title('Общая площадь квартиры')\n",
    "plt.show()"
   ]
  },
  {
   "cell_type": "markdown",
   "metadata": {},
   "source": [
    "В нашей выборке мы оставили квартиры общей площадью до 300 м², на графике видно, что квартиры больше 120 м² встречаются редко. Пик приходится на квартиры площадью 30-46м², также часто встречаются квартиры от 50 до 65м².\n"
   ]
  },
  {
   "cell_type": "markdown",
   "metadata": {},
   "source": [
    "**Жилая площадь квартиры**"
   ]
  },
  {
   "cell_type": "code",
   "execution_count": 186,
   "metadata": {},
   "outputs": [
    {
     "data": {
      "image/png": "[encoded data removed]",
      "text/plain": [
       "<Figure size 720x360 with 1 Axes>"
      ]
     },
     "metadata": {
      "needs_background": "light"
     },
     "output_type": "display_data"
    }
   ],
   "source": [
    "data['living_area'].hist(bins=100,figsize=(10,5),range=(0,80))\n",
    "plt.xlabel('Жилая площадь кв.м')\n",
    "plt.ylabel('Количество квартир')\n",
    "plt.title('Жилая площадь квартиры')\n",
    "plt.show()"
   ]
  },
  {
   "cell_type": "markdown",
   "metadata": {},
   "source": [
    "Квартиры с жилой площадью более 65м² встречаются нечасто. Пик приходится на 16-18 м² и 28-32 м², также нередко встречаются квартиры с жилой площадью  44-45 м².\n"
   ]
  },
  {
   "cell_type": "markdown",
   "metadata": {},
   "source": [
    "**Площадь кухни**"
   ]
  },
  {
   "cell_type": "code",
   "execution_count": 187,
   "metadata": {},
   "outputs": [
    {
     "data": {
      "image/png": "[encoded data removed]",
      "text/plain": [
       "<Figure size 720x360 with 1 Axes>"
      ]
     },
     "metadata": {
      "needs_background": "light"
     },
     "output_type": "display_data"
    }
   ],
   "source": [
    "data['kitchen_area'].hist(bins=100,figsize=(10,5),range=(0,30))\n",
    "plt.xlabel('Площадь кв.м')\n",
    "plt.ylabel('Количество квартир')\n",
    "plt.title('Площадь кухни')\n",
    "plt.show()"
   ]
  },
  {
   "cell_type": "markdown",
   "metadata": {},
   "source": [
    "Чаще всего в квартирах встречаются кухни около 8 м². В целом диапазон от 6 до 12 м² является популярным. Большие кухни от 20 м² редки. Также мы видим, что есть квартиры без кухни - это наши студии и квартиры свободной планировки."
   ]
  },
  {
   "cell_type": "markdown",
   "metadata": {},
   "source": [
    "**Цена объекта**"
   ]
  },
  {
   "cell_type": "code",
   "execution_count": 188,
   "metadata": {},
   "outputs": [
    {
     "data": {
      "image/png": "[encoded data removed]",
      "text/plain": [
       "<Figure size 720x360 with 1 Axes>"
      ]
     },
     "metadata": {
      "needs_background": "light"
     },
     "output_type": "display_data"
    }
   ],
   "source": [
    "(data['last_price']/1000000).hist(bins=200,figsize=(10,5),range=(0,20))\n",
    "plt.xlabel('Стоимость млн. руб.')\n",
    "plt.ylabel('Количество квартир')\n",
    "plt.title('Цена объекта')\n",
    "plt.show()"
   ]
  },
  {
   "cell_type": "markdown",
   "metadata": {},
   "source": [
    "Мы выдим, что большинство квартир продаются в диапазоне от 1 до 10 млн, далее начинается резкий спад, квартиры от 40 млн встречаются редко в нашей выборке. Пик стоимости приходится на диапазон от 3 до 5 млн, также часто встречаются квартиры стоимостью 6-8 млн."
   ]
  },
  {
   "cell_type": "markdown",
   "metadata": {},
   "source": [
    "**Количество комнат**"
   ]
  },
  {
   "cell_type": "code",
   "execution_count": 189,
   "metadata": {},
   "outputs": [
    {
     "data": {
      "image/png": "[encoded data removed]",
      "text/plain": [
       "<Figure size 720x360 with 1 Axes>"
      ]
     },
     "metadata": {
      "needs_background": "light"
     },
     "output_type": "display_data"
    }
   ],
   "source": [
    "data['rooms'].hist(bins=100,figsize=(10,5))\n",
    "plt.xlabel('Комнаты')\n",
    "plt.ylabel('Количество квартир')\n",
    "plt.title('Количество комнат')\n",
    "plt.show()"
   ]
  },
  {
   "cell_type": "markdown",
   "metadata": {},
   "source": [
    "Самые популярные, как и ожидалось, однокомнатные и двухкомнатные квартиры. Трехкомнатные тоже встречаются часто, четырехкомнатные уже реже, без комнат (куда попали студии и свободные планировки) и пятикомнатных совсем немного. Большие квартиры, от 6 комнат - единичны."
   ]
  },
  {
   "cell_type": "markdown",
   "metadata": {},
   "source": [
    "**Высота потолков**"
   ]
  },
  {
   "cell_type": "code",
   "execution_count": 190,
   "metadata": {},
   "outputs": [
    {
     "data": {
      "image/png": "[encoded data removed]",
      "text/plain": [
       "<Figure size 720x360 with 1 Axes>"
      ]
     },
     "metadata": {
      "needs_background": "light"
     },
     "output_type": "display_data"
    }
   ],
   "source": [
    "data['ceiling_height'].hist(bins=100,figsize=(10,5), range=(2,4.5))\n",
    "plt.xlabel('Высота (м)')\n",
    "plt.ylabel('Количество квартир')\n",
    "plt.title('Высота потолков')\n",
    "plt.show()"
   ]
  },
  {
   "cell_type": "markdown",
   "metadata": {},
   "source": [
    "В исходных данных по этому столбцу было много пропусков, которые мы заполнили медианой, это и дало нам такой пик на высоте 2.65 м. Чаще всего в квартирах встречаются потолки от 2.5 до 3 м."
   ]
  },
  {
   "cell_type": "markdown",
   "metadata": {},
   "source": [
    "**Этаж квартиры**"
   ]
  },
  {
   "cell_type": "code",
   "execution_count": 191,
   "metadata": {},
   "outputs": [
    {
     "data": {
      "image/png": "[encoded data removed]",
      "text/plain": [
       "<Figure size 720x360 with 1 Axes>"
      ]
     },
     "metadata": {
      "needs_background": "light"
     },
     "output_type": "display_data"
    }
   ],
   "source": [
    "data['floor'].hist(bins=100,figsize=(10,5))\n",
    "plt.xlabel('Номер этажа')\n",
    "plt.ylabel('Количество квартир')\n",
    "plt.title('Этаж квартиры')\n",
    "plt.show()"
   ]
  },
  {
   "cell_type": "markdown",
   "metadata": {},
   "source": [
    "Продаваемые квартиры чаще всего располагаются с 1 по 5 этаж, также часто встречаются 6-9 этаж, дальще идет плавный спад."
   ]
  },
  {
   "cell_type": "markdown",
   "metadata": {},
   "source": [
    "**Тип этажа квартиры**"
   ]
  },
  {
   "cell_type": "code",
   "execution_count": 192,
   "metadata": {},
   "outputs": [
    {
     "data": {
      "image/png": "[encoded data removed]",
      "text/plain": [
       "<Figure size 720x360 with 1 Axes>"
      ]
     },
     "metadata": {
      "needs_background": "light"
     },
     "output_type": "display_data"
    }
   ],
   "source": [
    "data['floors_type'].hist(bins=10,figsize=(10,5))\n",
    "plt.xlabel('Тип этажа')\n",
    "plt.ylabel('Количество квартир')\n",
    "plt.title('Тип этажа квартиры')\n",
    "plt.show()"
   ]
  },
  {
   "cell_type": "markdown",
   "metadata": {},
   "source": [
    "Подавляющее большинство квартир находятся не на первом и не на последнем этаже, соотношение первого и последнего, в свою очередь, имеет примерно одинаковое соотношение."
   ]
  },
  {
   "cell_type": "markdown",
   "metadata": {},
   "source": [
    "**Всего этажей в доме**"
   ]
  },
  {
   "cell_type": "code",
   "execution_count": 193,
   "metadata": {},
   "outputs": [
    {
     "data": {
      "image/png": "[encoded data removed]",
      "text/plain": [
       "<Figure size 720x360 with 1 Axes>"
      ]
     },
     "metadata": {
      "needs_background": "light"
     },
     "output_type": "display_data"
    }
   ],
   "source": [
    "data['floors_total'].hist(bins=100,figsize=(10,5))\n",
    "plt.xlabel('Этажность')\n",
    "plt.ylabel('Количество квартир')\n",
    "plt.title('Всего этажей в доме')\n",
    "plt.show()"
   ]
  },
  {
   "cell_type": "markdown",
   "metadata": {},
   "source": [
    "Чаще всего встречаются пяти и девятиэтажные дома, а выше 25 этажей крайне редко."
   ]
  },
  {
   "cell_type": "markdown",
   "metadata": {},
   "source": [
    "**Расстояние до центра города**"
   ]
  },
  {
   "cell_type": "code",
   "execution_count": 194,
   "metadata": {},
   "outputs": [
    {
     "data": {
      "text/plain": [
       "Санкт-Петербург    15543\n",
       "другой              7894\n",
       "Name: city_name, dtype: int64"
      ]
     },
     "execution_count": 194,
     "metadata": {},
     "output_type": "execute_result"
    }
   ],
   "source": [
    "data['city_name'].value_counts()"
   ]
  },
  {
   "cell_type": "code",
   "execution_count": 195,
   "metadata": {},
   "outputs": [
    {
     "data": {
      "image/png": "[encoded data removed]",
      "text/plain": [
       "<Figure size 720x360 with 1 Axes>"
      ]
     },
     "metadata": {
      "needs_background": "light"
     },
     "output_type": "display_data"
    }
   ],
   "source": [
    "data['city_centers_nearest'].hist(bins=50,figsize=(10,5))\n",
    "plt.xlabel('Расстояние (м)')\n",
    "plt.ylabel('Количество квартир')\n",
    "plt.title('Расстояние до центра города')\n",
    "plt.show()"
   ]
  },
  {
   "cell_type": "markdown",
   "metadata": {},
   "source": [
    "В исходных данных мы имели около 20% пропусков по расстоянию до центра города, отделив квартиры в Петербурге и объединив все остальные населенные пункты, мы заполнили данные двумя медианами. Отсюда взялся пик на расстоянии в 30 км, это означает, что чаще всего пропуски в данных были для населенных пунктов, отличных от Санкт-Петербурга. В Санкт-Петербурге пик приходится на 10-16 км, также часто встречаются квартиры в продаже в радиусе 4-6 км от центра города."
   ]
  },
  {
   "cell_type": "markdown",
   "metadata": {},
   "source": [
    "**Расстояние до аэропорта**"
   ]
  },
  {
   "cell_type": "code",
   "execution_count": 196,
   "metadata": {},
   "outputs": [
    {
     "data": {
      "image/png": "[encoded data removed]",
      "text/plain": [
       "<Figure size 720x360 with 1 Axes>"
      ]
     },
     "metadata": {
      "needs_background": "light"
     },
     "output_type": "display_data"
    }
   ],
   "source": [
    "data['airports_nearest'].hist(bins=50,figsize=(10,5),range=(5000,50000))\n",
    "plt.xlabel('Расстояние (м)')\n",
    "plt.ylabel('Количество квартир')\n",
    "plt.title('Расстояние до аэропорта')\n",
    "plt.show()"
   ]
  },
  {
   "cell_type": "markdown",
   "metadata": {},
   "source": [
    "Большинство квартир распределены равномерно на расстоянии от 10 до 40 км от аэропорта."
   ]
  },
  {
   "cell_type": "markdown",
   "metadata": {},
   "source": [
    "**Расстояние до парка**"
   ]
  },
  {
   "cell_type": "code",
   "execution_count": 197,
   "metadata": {},
   "outputs": [
    {
     "data": {
      "image/png": "[encoded data removed]",
      "text/plain": [
       "<Figure size 720x360 with 1 Axes>"
      ]
     },
     "metadata": {
      "needs_background": "light"
     },
     "output_type": "display_data"
    }
   ],
   "source": [
    "data['parks_nearest'].hist(bins=50,figsize=(10,5))\n",
    "plt.xlabel('Расстояние (м)')\n",
    "plt.ylabel('Количество квартир')\n",
    "plt.title('Расстояние до парка')\n",
    "plt.show()"
   ]
  },
  {
   "cell_type": "markdown",
   "metadata": {},
   "source": [
    "В более чем 70% объявлений по продаже квартир продавцы не указывают расстояние до ближайшего парка. По тем данным, что у нас есть, можно сделать вывод, что расстояние до парка указывается только если он есть в пешей доступности до 1 км."
   ]
  },
  {
   "cell_type": "markdown",
   "metadata": {},
   "source": [
    "**День публикации объявления**"
   ]
  },
  {
   "cell_type": "code",
   "execution_count": 198,
   "metadata": {},
   "outputs": [
    {
     "data": {
      "image/png": "[encoded data removed]",
      "text/plain": [
       "<Figure size 720x360 with 1 Axes>"
      ]
     },
     "metadata": {
      "needs_background": "light"
     },
     "output_type": "display_data"
    }
   ],
   "source": [
    "data['weekday'].hist(bins=50,figsize=(10,5))\n",
    "plt.xlabel('День недели (0 - понедельник, 6 - воскресенье)')\n",
    "plt.ylabel('Количество квартир')\n",
    "plt.title('День публикации объявления')\n",
    "plt.show()"
   ]
  },
  {
   "cell_type": "markdown",
   "metadata": {},
   "source": [
    "Объявления о продаже квартир примерно одинаково публикуются в будние дни, на выходных в два раза реже."
   ]
  },
  {
   "cell_type": "markdown",
   "metadata": {},
   "source": [
    "**Месяц публикации объявления**"
   ]
  },
  {
   "cell_type": "code",
   "execution_count": 199,
   "metadata": {},
   "outputs": [
    {
     "data": {
      "image/png": "[encoded data removed]",
      "text/plain": [
       "<Figure size 720x360 with 1 Axes>"
      ]
     },
     "metadata": {
      "needs_background": "light"
     },
     "output_type": "display_data"
    }
   ],
   "source": [
    "data['month'].hist(bins=50,figsize=(10,5))\n",
    "plt.xlabel('Месяц (1 - январь, 12 - декабрь)')\n",
    "plt.ylabel('Количество квартир')\n",
    "plt.title('Месяц публикации объявления')\n",
    "plt.show()"
   ]
  },
  {
   "cell_type": "markdown",
   "metadata": {},
   "source": [
    "Самыми популярными месяцами публикации объявлений о продаже являются февраль и март, немного им уступают апрель и ноябрь. Реже всего продажей квартир занимаются в январе и мае, скорее всего это связано с длинными праздничными днями в эти месяцы."
   ]
  },
  {
   "cell_type": "markdown",
   "metadata": {},
   "source": [
    "#### Изучим, как быстро продаются квартиры."
   ]
  },
  {
   "cell_type": "markdown",
   "metadata": {},
   "source": [
    "Построим гистограмму по столбцу days_exposition и посмотрим, сколько дней было размещено каждое объявление.\n",
    "Вычислим среднее значение и медиану."
   ]
  },
  {
   "cell_type": "code",
   "execution_count": 200,
   "metadata": {
    "scrolled": true
   },
   "outputs": [
    {
     "data": {
      "text/plain": [
       "count    20291.000000\n",
       "mean       180.276182\n",
       "std        219.276871\n",
       "min          1.000000\n",
       "25%         45.000000\n",
       "50%         95.000000\n",
       "75%        230.000000\n",
       "max       1580.000000\n",
       "Name: days_exposition, dtype: float64"
      ]
     },
     "execution_count": 200,
     "metadata": {},
     "output_type": "execute_result"
    }
   ],
   "source": [
    "data['days_exposition'].describe()#вызовем метод describe() и посмотрим разброс, медиана будет равна значению = 50%"
   ]
  },
  {
   "cell_type": "code",
   "execution_count": 201,
   "metadata": {
    "scrolled": false
   },
   "outputs": [
    {
     "name": "stdout",
     "output_type": "stream",
     "text": [
      "В среднем для продажи квартиры требуется 180 дней\n"
     ]
    }
   ],
   "source": [
    "print('В среднем для продажи квартиры требуется', data['days_exposition'].mean().astype('int'), 'дней') #считаем среднее значение"
   ]
  },
  {
   "cell_type": "code",
   "execution_count": 202,
   "metadata": {},
   "outputs": [
    {
     "data": {
      "text/plain": [
       "<AxesSubplot:>"
      ]
     },
     "execution_count": 202,
     "metadata": {},
     "output_type": "execute_result"
    },
    {
     "data": {
      "image/png": "[encoded data removed]",
      "text/plain": [
       "<Figure size 432x288 with 1 Axes>"
      ]
     },
     "metadata": {
      "needs_background": "light"
     },
     "output_type": "display_data"
    }
   ],
   "source": [
    "data.boxplot(column='days_exposition') #построим диаграмму размаха для наглядности"
   ]
  },
  {
   "cell_type": "code",
   "execution_count": 203,
   "metadata": {},
   "outputs": [
    {
     "data": {
      "image/png": "[encoded data removed]",
      "text/plain": [
       "<Figure size 720x360 with 1 Axes>"
      ]
     },
     "metadata": {
      "needs_background": "light"
     },
     "output_type": "display_data"
    }
   ],
   "source": [
    "#построим гистограмму\n",
    "data['days_exposition'].hist(bins=100,figsize=(10,5),range=(0,500))\n",
    "plt.xlabel('Сколько дней было размещено объявление')\n",
    "plt.ylabel('Количество квартир')\n",
    "plt.title('Скорость продажи квартиры')\n",
    "plt.show()"
   ]
  },
  {
   "cell_type": "code",
   "execution_count": 204,
   "metadata": {},
   "outputs": [
    {
     "data": {
      "image/png": "[encoded data removed]",
      "text/plain": [
       "<Figure size 720x360 with 1 Axes>"
      ]
     },
     "metadata": {
      "needs_background": "light"
     },
     "output_type": "display_data"
    }
   ],
   "source": [
    "#сделаем нагляднее, что лучше рассмотреть пики\n",
    "data['days_exposition'].hist(bins=100,figsize=(10,5),range=(0,100))\n",
    "plt.xlabel('Сколько дней было размещено объявление')\n",
    "plt.ylabel('Количество квартир')\n",
    "plt.title('Скорость продажи квартиры')\n",
    "plt.show()"
   ]
  },
  {
   "cell_type": "markdown",
   "metadata": {},
   "source": [
    "Разброс в скорости продажи квартир от 1 дня до 1580 дней (это больше, чем 4 года).\n",
    "Медиана составляет 95 дней, то есть ровно половина квартир продается быстрее этого срока, а вторая половина дольше, при этом среднее значение скорости продажи - 180 дней, такая разница в этих параметрах обусловлена большим значением стандартного отклонения в данных - 219 дней. Мы можем сделать вывод, что скорость продажи квартиры - максимально индивидуальный показатель. Большая часть квартир продается в срок от 1 до 5 месяцев. \n",
    "На скорость продажи может влиять множество факторов : стоимость квартиры, готов ли продавец к торгу (если он не торопится, то квартира может продаваться и год и два),расположение и инфраструктура района. Необычно быстрыми продажами мы можем назвать те, которые случились в первые дни после публикации объявления, скорее всего это квартиры по сниженной цене для максимально срочной продажи или объявления были опубликованы по ошибке и были сразу удалены. \n",
    "Среди очень долгих объявлений о продаже, которые опубликованы 2-4 года назад, скорее всего есть те, которые просто забыли удалить вовремя, то есть они могут быть давно неактуальными.\n",
    "Мы видим пики на 7, 30, 45 (особенно высокое количество), 60, 90 днях, скорее всего это связано с правилами публикации объявлений, возможно, они снимаются автоматически в эти сроки. "
   ]
  },
  {
   "cell_type": "markdown",
   "metadata": {},
   "source": [
    "#### Что влияет на общую стоимость объекта?"
   ]
  },
  {
   "cell_type": "markdown",
   "metadata": {},
   "source": [
    "Изучим, зависит ли цена от следующих факторов:\n",
    "\n",
    "- общей площади;\n",
    "- жилой площади;\n",
    "- площади кухни;\n",
    "- количества комнат;\n",
    "- этажа, на котором расположена квартира (первый, последний, другой);\n",
    "- даты размещения (день недели, месяц, год).\n",
    "\n",
    "Построим графики, которые покажут зависимость цены от указанных выше параметров. Для подготовки данных перед визуализацией будем использовать сводные таблицы. Также посчитаем корреляцию для количественных переменных.\n"
   ]
  },
  {
   "cell_type": "markdown",
   "metadata": {},
   "source": [
    "**Корреляция стоимости и общей площади квартиры.**"
   ]
  },
  {
   "cell_type": "code",
   "execution_count": 205,
   "metadata": {},
   "outputs": [
    {
     "name": "stdout",
     "output_type": "stream",
     "text": [
      "Коэффицент корреляции равен: 0.7194142579716807\n"
     ]
    },
    {
     "data": {
      "image/png": "[encoded data removed]",
      "text/plain": [
       "<Figure size 864x432 with 1 Axes>"
      ]
     },
     "metadata": {
      "needs_background": "light"
     },
     "output_type": "display_data"
    }
   ],
   "source": [
    "#строим график зависимости стоимости квартиры от ее площади, перед этим создаем сводную таблицу методом pivot_table()\n",
    "\n",
    "(data\n",
    "     .query('last_price < 50000000') #ограничим стоимость до 50 млн для наглядности\n",
    "     .pivot_table(index='total_area', values='last_price', aggfunc='median')\n",
    "     .plot(grid=True, figsize=(12,6),style='o',alpha=0.5)\n",
    ")\n",
    "#считаем коэффицент корреляции Пирсона\n",
    "print('Коэффицент корреляции равен:', data['last_price'].corr(data['total_area']))"
   ]
  },
  {
   "cell_type": "markdown",
   "metadata": {},
   "source": [
    "Мы рассчитали корреляцию и видим прямую зависимость стоимости объекта и его площади, чем больше площадь, тем выше стоимость. Однако мы видим, что такая логика актуальна в большей степени для квартир до 100 м², далее мы видим рассеяние, така как квартиры большой площади уже нестандартный вариант и на стоимость могут влиять сильнее другие факторы, например, престижность района, ремонт, год постройки и класс дома и тд."
   ]
  },
  {
   "cell_type": "markdown",
   "metadata": {},
   "source": []
  },
  {
   "cell_type": "markdown",
   "metadata": {},
   "source": [
    "**Корреляция стоимости и жилой площади квартиры.**"
   ]
  },
  {
   "cell_type": "code",
   "execution_count": 206,
   "metadata": {
    "scrolled": false
   },
   "outputs": [
    {
     "name": "stdout",
     "output_type": "stream",
     "text": [
      "Коэффицент корреляции равен: 0.619850451725671\n"
     ]
    },
    {
     "data": {
      "image/png": "[encoded data removed]",
      "text/plain": [
       "<Figure size 864x432 with 1 Axes>"
      ]
     },
     "metadata": {
      "needs_background": "light"
     },
     "output_type": "display_data"
    }
   ],
   "source": [
    "#строим график зависимости стоимости квартиры от ее жилой площади, перед этим создаем сводную таблицу методом pivot_table()\n",
    "\n",
    "(data\n",
    "     .query('last_price < 50000000')\n",
    "     .pivot_table(index='living_area', values='last_price', aggfunc='median')\n",
    "     .plot(grid=True, figsize=(12,6),style='o',alpha=0.5)\n",
    ")\n",
    "#считаем коэффицент корреляции Пирсона\n",
    "print('Коэффицент корреляции равен:', data['last_price'].corr(data['living_area']))"
   ]
  },
  {
   "cell_type": "markdown",
   "metadata": {},
   "source": [
    "На графике видно, что зависимость стоимости объекта от жилой площади квартиры тоже велика, но коэффицент корреляции уже ниже, чем по общей площади. Рассеяние начинается на 70 м², в просторных квартирах может быть большая площадь кухни, коридоров, санузлов, а не только жилой площади комнат."
   ]
  },
  {
   "cell_type": "markdown",
   "metadata": {},
   "source": [
    "**Корреляция стоимости квартиры и площади кухни.**"
   ]
  },
  {
   "cell_type": "code",
   "execution_count": 207,
   "metadata": {},
   "outputs": [
    {
     "name": "stdout",
     "output_type": "stream",
     "text": [
      "Коэффицент корреляции равен: 0.4983603765008025\n"
     ]
    },
    {
     "data": {
      "image/png": "[encoded data removed]",
      "text/plain": [
       "<Figure size 864x432 with 1 Axes>"
      ]
     },
     "metadata": {
      "needs_background": "light"
     },
     "output_type": "display_data"
    }
   ],
   "source": [
    "#строим график зависимости стоимости квартиры от площади кухни, перед этим создаем сводную таблицу методом pivot_table()\n",
    "\n",
    "(data\n",
    "     .query('last_price < 50000000 and kitchen_area < 60')\n",
    "     .pivot_table(index='kitchen_area', values='last_price', aggfunc='median')\n",
    "     .plot(grid=True, figsize=(12,6),style='o',alpha=0.5)\n",
    ")\n",
    "#считаем коэффицент корреляции Пирсона\n",
    "print('Коэффицент корреляции равен:', data['last_price'].corr(data['kitchen_area']))"
   ]
  },
  {
   "cell_type": "markdown",
   "metadata": {},
   "source": [
    "От площади кухни стоимость квартиры зависит еще меньше, хотя зависимость и существует, это видно по коэффиценнту корреляции, но скорее всего в больших квартирах просто чаще делают просторные кухни, чем в маленьких однушках или двушках."
   ]
  },
  {
   "cell_type": "markdown",
   "metadata": {},
   "source": [
    "**Корреляция стоимости квартиры и количества комнат.**"
   ]
  },
  {
   "cell_type": "code",
   "execution_count": 208,
   "metadata": {},
   "outputs": [
    {
     "name": "stdout",
     "output_type": "stream",
     "text": [
      "Коэффицент корреляции равен: 0.4308412932636443\n"
     ]
    },
    {
     "data": {
      "image/png": "[encoded data removed]",
      "text/plain": [
       "<Figure size 864x432 with 1 Axes>"
      ]
     },
     "metadata": {
      "needs_background": "light"
     },
     "output_type": "display_data"
    }
   ],
   "source": [
    "#строим график зависимости стоимости квартиры от количества комнат, перед этим создаем сводную таблицу методом pivot_table()\n",
    "\n",
    "(data\n",
    "     .pivot_table(index='rooms', values='last_price', aggfunc='median')\n",
    "     .plot(grid=True, figsize=(12,6),style='o-')\n",
    ")\n",
    "#считаем коэффицент корреляции Пирсона\n",
    "print('Коэффицент корреляции равен:', data['last_price'].corr(data['rooms']))"
   ]
  },
  {
   "cell_type": "markdown",
   "metadata": {},
   "source": [
    "В целом на графике видно, что стоимость квартиры обычно зависит от числа комнат и это логично, ведь зачастую чем больше комнат, тем больше метраж квартиры, но это не всегда так. Случается, что маленькие двухкомнатные квартиры меньше по метражу, чем большие однокомнатные. Поэтому зависимость есть (чем больше комнат, тем дороже квартира), но она не так явно прослеживается, как с площадью."
   ]
  },
  {
   "cell_type": "markdown",
   "metadata": {},
   "source": [
    "**Зависисмость стоимости квартиры от типа этажа.**"
   ]
  },
  {
   "cell_type": "code",
   "execution_count": 209,
   "metadata": {},
   "outputs": [
    {
     "data": {
      "text/plain": [
       "<AxesSubplot:xlabel='floors_type'>"
      ]
     },
     "execution_count": 209,
     "metadata": {},
     "output_type": "execute_result"
    },
    {
     "data": {
      "image/png": "[encoded data removed]",
      "text/plain": [
       "<Figure size 720x432 with 1 Axes>"
      ]
     },
     "metadata": {
      "needs_background": "light"
     },
     "output_type": "display_data"
    }
   ],
   "source": [
    "#строим график зависимости стоимости квартиры от этажа, на котором расположена квартира (первый, последний, другой) перед этим создаем сводную таблицу методом pivot_table()\n",
    "(data\n",
    "     .pivot_table(index='floors_type', values='last_price', aggfunc='median')\n",
    "     .plot(kind='bar', grid=True, figsize=(10,6))\n",
    ")"
   ]
  },
  {
   "cell_type": "markdown",
   "metadata": {},
   "source": [
    "Дешевле всего стоят квартиры на первом этаже, их сложнее продать (прохожие могут заглядывать в окна, ворам залезть проще и тд), поэтому на них делают дисконт, квартиры на последнем этаже тоже уступают по стоимости остальным, но уже меньше, у таких квартир тоже бывают свои нюансы (например, протечка крыши, высота потолков), это не всем покупателям может понравиться."
   ]
  },
  {
   "cell_type": "markdown",
   "metadata": {},
   "source": [
    "**Зависимость стоимости квартиры от дня недели публикации объявления.**"
   ]
  },
  {
   "cell_type": "code",
   "execution_count": 210,
   "metadata": {},
   "outputs": [
    {
     "data": {
      "text/plain": [
       "<AxesSubplot:xlabel='weekday'>"
      ]
     },
     "execution_count": 210,
     "metadata": {},
     "output_type": "execute_result"
    },
    {
     "data": {
      "image/png": "[encoded data removed]",
      "text/plain": [
       "<Figure size 864x432 with 1 Axes>"
      ]
     },
     "metadata": {
      "needs_background": "light"
     },
     "output_type": "display_data"
    }
   ],
   "source": [
    "#строим график зависимости стоимости квартиры от дня недели публикации объявления, перед этим создаем сводную таблицу методом pivot_table()\n",
    "\n",
    "(data\n",
    "     .pivot_table(index='weekday', values='last_price', aggfunc='median')\n",
    "     .plot(grid=True, figsize=(12,6),style='o-')\n",
    ")"
   ]
  },
  {
   "cell_type": "markdown",
   "metadata": {},
   "source": [
    "Разница медианной стоимости квартир в зависимости от дня публикации объявления совсем незначительна, но все же чуть дороже квартиры, которые выставляют на продажу в начале недели."
   ]
  },
  {
   "cell_type": "markdown",
   "metadata": {},
   "source": [
    "**Зависимость стоимости квартиры от месяца публикации объявления.**"
   ]
  },
  {
   "cell_type": "code",
   "execution_count": 211,
   "metadata": {},
   "outputs": [
    {
     "data": {
      "text/plain": [
       "<AxesSubplot:xlabel='month'>"
      ]
     },
     "execution_count": 211,
     "metadata": {},
     "output_type": "execute_result"
    },
    {
     "data": {
      "image/png": "[encoded data removed]",
      "text/plain": [
       "<Figure size 864x432 with 1 Axes>"
      ]
     },
     "metadata": {
      "needs_background": "light"
     },
     "output_type": "display_data"
    }
   ],
   "source": [
    "#строим график зависимости стоимости квартиры от месяца публикации объявления, перед этим создаем сводную таблицу методом pivot_table()\n",
    "\n",
    "(data\n",
    "     .pivot_table(index='month', values='last_price', aggfunc='median')\n",
    "     .plot(grid=True, figsize=(12,6),style='o-')\n",
    ")"
   ]
  },
  {
   "cell_type": "markdown",
   "metadata": {},
   "source": [
    "Месяц продажи квартир тоже незначительно влияет на их полную стоимость, но чуть ниже по стоимости недвижимость в июне и мае."
   ]
  },
  {
   "cell_type": "markdown",
   "metadata": {},
   "source": [
    "**Зависимость стоимости квартиры от года публикации объявления.**"
   ]
  },
  {
   "cell_type": "code",
   "execution_count": 212,
   "metadata": {},
   "outputs": [
    {
     "data": {
      "text/plain": [
       "<AxesSubplot:xlabel='year'>"
      ]
     },
     "execution_count": 212,
     "metadata": {},
     "output_type": "execute_result"
    },
    {
     "data": {
      "image/png": "[encoded data removed]",
      "text/plain": [
       "<Figure size 864x432 with 1 Axes>"
      ]
     },
     "metadata": {
      "needs_background": "light"
     },
     "output_type": "display_data"
    }
   ],
   "source": [
    "#строим график зависимости стоимости квартиры от года публикации объявления, перед этим создаем сводную таблицу методом pivot_table()\n",
    "\n",
    "(data\n",
    "     .pivot_table(index='year', values='last_price', aggfunc='median')\n",
    "     .plot(grid=True, figsize=(12,6),style='o-')\n",
    ")"
   ]
  },
  {
   "cell_type": "markdown",
   "metadata": {},
   "source": [
    "Построив график по году публикации объявлений о продаже квартир, мы видим удорожание в 2014 году (это было связано с изменением курса валют, экономичесикими и политическими факторами), в 2015 начался спад, с 2016 по 2018 цены стабилизировались, с 2019 опять начался рост цен."
   ]
  },
  {
   "cell_type": "markdown",
   "metadata": {},
   "source": [
    "**Вывод:**\n",
    "\n",
    "Значительнее всего на стоимость квартиры влияет общая и жилая площадь квартиры, площадь кухни и количество комнат уже в меньшей степени. Квартиры на первом и последнем этаже продают с небольшим дисконтом по стоимости. День и месяц публикации объявления практически не влияет на стоимость квартиры. Что касается года продажи квартиры, тут большое значение имеют экономические и политические факторы, чем стабильнее ситуация в стране, тем меньше инфляция и стабильнее цены на все, в том числе на недвижимость. "
   ]
  },
  {
   "cell_type": "markdown",
   "metadata": {},
   "source": [
    "#### Цена квадратного метра по населенным пунктам."
   ]
  },
  {
   "cell_type": "markdown",
   "metadata": {},
   "source": [
    "Посчитаем среднюю цену одного квадратного метра в 10 населённых пунктах с наибольшим числом объявлений. \n",
    "Выделим населённые пункты с самой высокой и низкой стоимостью квадратного метра. \n",
    "\n",
    "**Топ-10 населенных пунктов:**"
   ]
  },
  {
   "cell_type": "code",
   "execution_count": 213,
   "metadata": {},
   "outputs": [
    {
     "data": {
      "text/plain": [
       "Санкт-Петербург      15543\n",
       "Мурино                 586\n",
       "Кудрово                469\n",
       "поселок Шушары         439\n",
       "Всеволожск             397\n",
       "Пушкин                 364\n",
       "Колпино                337\n",
       "поселок Парголово      327\n",
       "Гатчина                307\n",
       "Выборг                 235\n",
       "Name: locality_name, dtype: int64"
      ]
     },
     "execution_count": 213,
     "metadata": {},
     "output_type": "execute_result"
    }
   ],
   "source": [
    "data['locality_name'].value_counts().head(10)#сделаем сортировку по населенным пунктам с наибольшим количеством объявлений"
   ]
  },
  {
   "cell_type": "code",
   "execution_count": 214,
   "metadata": {},
   "outputs": [
    {
     "data": {
      "text/html": [
       "<div>\n",
       "<style scoped>\n",
       "    .dataframe tbody tr th:only-of-type {\n",
       "        vertical-align: middle;\n",
       "    }\n",
       "\n",
       "    .dataframe tbody tr th {\n",
       "        vertical-align: top;\n",
       "    }\n",
       "\n",
       "    .dataframe thead th {\n",
       "        text-align: right;\n",
       "    }\n",
       "</style>\n",
       "<table border=\"1\" class=\"dataframe\">\n",
       "  <thead>\n",
       "    <tr style=\"text-align: right;\">\n",
       "      <th></th>\n",
       "      <th>total_images</th>\n",
       "      <th>square_price</th>\n",
       "    </tr>\n",
       "    <tr>\n",
       "      <th>locality_name</th>\n",
       "      <th></th>\n",
       "      <th></th>\n",
       "    </tr>\n",
       "  </thead>\n",
       "  <tbody>\n",
       "    <tr>\n",
       "      <th>Санкт-Петербург</th>\n",
       "      <td>15543</td>\n",
       "      <td>113819</td>\n",
       "    </tr>\n",
       "    <tr>\n",
       "      <th>Мурино</th>\n",
       "      <td>586</td>\n",
       "      <td>86041</td>\n",
       "    </tr>\n",
       "    <tr>\n",
       "      <th>Кудрово</th>\n",
       "      <td>469</td>\n",
       "      <td>95261</td>\n",
       "    </tr>\n",
       "    <tr>\n",
       "      <th>поселок Шушары</th>\n",
       "      <td>439</td>\n",
       "      <td>78551</td>\n",
       "    </tr>\n",
       "    <tr>\n",
       "      <th>Всеволожск</th>\n",
       "      <td>397</td>\n",
       "      <td>68719</td>\n",
       "    </tr>\n",
       "    <tr>\n",
       "      <th>Пушкин</th>\n",
       "      <td>364</td>\n",
       "      <td>102929</td>\n",
       "    </tr>\n",
       "    <tr>\n",
       "      <th>Колпино</th>\n",
       "      <td>337</td>\n",
       "      <td>75333</td>\n",
       "    </tr>\n",
       "    <tr>\n",
       "      <th>поселок Парголово</th>\n",
       "      <td>327</td>\n",
       "      <td>90175</td>\n",
       "    </tr>\n",
       "    <tr>\n",
       "      <th>Гатчина</th>\n",
       "      <td>307</td>\n",
       "      <td>68746</td>\n",
       "    </tr>\n",
       "    <tr>\n",
       "      <th>Выборг</th>\n",
       "      <td>235</td>\n",
       "      <td>58238</td>\n",
       "    </tr>\n",
       "  </tbody>\n",
       "</table>\n",
       "</div>"
      ],
      "text/plain": [
       "                   total_images  square_price\n",
       "locality_name                                \n",
       "Санкт-Петербург           15543        113819\n",
       "Мурино                      586         86041\n",
       "Кудрово                     469         95261\n",
       "поселок Шушары              439         78551\n",
       "Всеволожск                  397         68719\n",
       "Пушкин                      364        102929\n",
       "Колпино                     337         75333\n",
       "поселок Парголово           327         90175\n",
       "Гатчина                     307         68746\n",
       "Выборг                      235         58238"
      ]
     },
     "execution_count": 214,
     "metadata": {},
     "output_type": "execute_result"
    }
   ],
   "source": [
    "(data\n",
    "    .groupby('locality_name').agg({'total_images' : 'count', 'square_price': 'mean'}).astype('int')\n",
    "    .sort_values(by='total_images', ascending=False).head(10)\n",
    ")"
   ]
  },
  {
   "cell_type": "markdown",
   "metadata": {},
   "source": [
    "Итак, мы посмотрели Топ-10 населенных пунктов, где больше всего продается квартир. \n",
    "Безусловный лидер - Санкт-Петербург, за ними идет Мурино и Кудрово (это относительно новые районы в непосредственной близости к черте города, с очень плотной застройкой). \n",
    "По стоимости квадратного метра из этой десятки также выходит в лидеры Санкт-Петербург - почти 114 тыс за квадратный метр, дешевле всего обойдется квартира в Выборге (он удален от Санкт-Петербурга дальше остальных населенных пунктов) - 58 тыс за квадрат, а также в Гатчине и Всеволожске - по 68 тыс за квадратный метр."
   ]
  },
  {
   "cell_type": "markdown",
   "metadata": {},
   "source": [
    "#### Зависимость стоимости объекта от расстояния до центра города."
   ]
  },
  {
   "cell_type": "markdown",
   "metadata": {},
   "source": [
    "Ранее мы посчитали расстояние до центра города в километрах и добавили данные в столбец city_centers_nearest_km. Теперь выделим квартиры в Санкт-Петербурге с помощью столбца locality_name и вычислим среднюю цену каждого километра, чтобы понять, как стоимость объектов зависит от расстояния до центра города."
   ]
  },
  {
   "cell_type": "code",
   "execution_count": 215,
   "metadata": {},
   "outputs": [
    {
     "data": {
      "text/plain": [
       "<AxesSubplot:xlabel='city_centers_nearest_km'>"
      ]
     },
     "execution_count": 215,
     "metadata": {},
     "output_type": "execute_result"
    },
    {
     "data": {
      "image/png": "[encoded data removed]",
      "text/plain": [
       "<Figure size 864x432 with 1 Axes>"
      ]
     },
     "metadata": {
      "needs_background": "light"
     },
     "output_type": "display_data"
    }
   ],
   "source": [
    "(data\n",
    "    .query('locality_name == \"Санкт-Петербург\"') #сделаем срез данных по Санкт-Петербургу\n",
    "    .pivot_table(index='city_centers_nearest_km',values='square_price') #создадим сводную таблицу зависимости стоимости квадратного метра от расстояния до центра города\n",
    "    .plot(grid=True, figsize=(12,6),style='o-') #построим график для наглядности\n",
    ")"
   ]
  },
  {
   "cell_type": "markdown",
   "metadata": {},
   "source": [
    "Что касается зависимости стоимости квадратного метра от удаленности от центра города, то мы видим, что в центре цена за квадрат значительно выше. За этим следует резкий спад по стоимости почти в два раза, на расстоянии 3-5 км от центра (обычно там располагаются промзоны, где нет особой инфраструктуры, ты вроде живешь недалеко от центра, но район не очень престижный). На расстоянии 6-7 км виден опять подъем, на это влияют престижные районы города, которые там располагаются (например, недвижимость на Крестовском острове может стоить дороже, чем в центре, что влияет на среднюю стоимость на этом расстоянии). Дальше мы видим постепенное снижение цены (чем дальше от центра, тем дешевле) и в районе 26 км от центра города опять увеличение стоимости, на этот показатель влияют элитные коттеджные поселки, которые там распологаются (например, Репино, Комарово, город Зеленогорск)."
   ]
  },
  {
   "cell_type": "markdown",
   "metadata": {},
   "source": [
    "### Общий вывод"
   ]
  },
  {
   "cell_type": "markdown",
   "metadata": {},
   "source": [
    "Мы обработали и изучили полученный архив данных, а именно: поработали с пропущенными значениями там, где это необходимо, изменили типы данных, устранили неявные дубликаты в названии населенных пунктов, заменили или удалили аномальные значения, предварительно обосновав свои действия. \n",
    "Также посчитали и добавили в таблицу цену квадратного метра жилья, вывели из даты дни недели, месяцы и года размещения объявлений, расстояние до центра города в км, добавили категории по этажам квартир. \n",
    "Изучили следующие параметры:  общая и жилая площадь, площадь кухни, число комнат, цена квартиры, количество этажей, типы этажей,  высота потолков, расстояние до центра, парка, аэропорта.\n",
    "\n",
    "**Факторы, влияющие на стоимость.**\n",
    "Значительнее всего на стоимость квартиры влияет общая и жилая площадь квартиры, площадь кухни и количество комнат уже в меньшей степени. \n",
    "Квартиры на первом и последнем этаже продают с небольшим дисконтом по стоимости. \n",
    "День и месяц публикации объявления практически не влияет на стоимость. \n",
    "Что касается года продажи квартиры, тут большое значение имеют экономические и политические факторы, чем стабильнее ситуация в стране, тем меньше инфляция и стабильнее цены на все, в том числе на недвижимость.\n",
    "Удаленность от центра города является важным фактором, который влияет на ценовую политику. Квартиры в центре Санкт-Петербурга стоят значительно дороже, чем в спальных районах, но есть и престижные районы города, где стоимость квадратного метра высокая, но центром города они не являются. \n",
    "\n",
    "**Сроки продажи квартиры.**\n",
    "Разброс в скорости продажи квартир от 1 дня до 1580 дней (это больше, чем 4 года). Большая часть квартир продается в срок до 3-4 месяцев.\n",
    "Необычно быстрыми продажами мы можем назвать те, которые случились в первые дни после публикации объявления, скорее всего это квартиры по сниженной цене для максимально срочной продажи или ошибочно выставленные. \n",
    "Среди очень долгих объявлений о продаже, которые опубликованы 2-4 года назад, скорее всего есть те, которые просто забыли удалить вовремя, то есть эти данные могут быть неактуальны.\n",
    "Мы видим пики продаж на 7, 30, 45 (особенно высокое количество), 60, 90 день, скорее всего это связано с правилами публикации объявлений, возможно, они снимаются автоматически в эти сроки.\n",
    "\n",
    "**Топ-10.**\n",
    "\n",
    "Рейтинг населенных пунктов по количеству объявлений по продаже квартир выглядит следующим образом:\n",
    "\n",
    "- Санкт-Петербург      \n",
    "- Мурино                 \n",
    "- Кудрово                \n",
    "- поселок Шушары         \n",
    "- Всеволожск             \n",
    "- Пушкин                 \n",
    "- Колпино                \n",
    "- поселок Парголово      \n",
    "- Гатчина                \n",
    "- Выборг   \n",
    "\n",
    "Безусловным лидером является Санкт-Петербург, за ними идут Мурино и Кудрово (это относительно новые районы в непосредственной близости к черте города, с очень плотной застройкой). \n",
    "По стоимости квадратного метра из этой десятки также выходит в лидеры Санкт-Петербург - почти 114 тыс за квадратный метр, дешевле всего обойдется квартира в Выборге (он удален от Санкт-Петербурга дальше остальных населенных пунктов) - 58 тыс за квадрат, а также в Гатчине и Всеволожске - по 68 тыс за квадратный метр.\n",
    "\n",
    "**Рекомендации для площадки Яндекс-Недвижимость.**\n",
    "\n",
    "- уделить внимание системе автоматической обработки картографических значений. Мы видим большое количество пропущенных значений в следующих параметрах: расстояние до центра, аэропорта, ближайшего парка и водоёма\n",
    "\n",
    "- добавить сегментацию рынка недвижимости, чтобы была возможность анализировать данные для каждой категории по отдельности (категоризировать объекты по уровню комфорта и дате постройки). Возможно, что цены на аналогичные квартиры в разных годах вели себя абсолютно по-разному\n",
    "\n",
    "- поработать над системой публикации объявлений, чтобы автоматическое снятие объявления с продажи не приравнивалось к фактической продаже квартиры, т.к. из-за этого возникают неправдоподобные пики продаж через определенное количество дней "
   ]
  }
 ],
 "metadata": {
  "ExecuteTimeLog": [
   {
    "duration": 682,
    "start_time": "2022-10-08T12:26:55.608Z"
   },
   {
    "duration": 93,
    "start_time": "2022-10-08T12:27:15.731Z"
   },
   {
    "duration": 2,
    "start_time": "2022-10-08T12:31:58.852Z"
   },
   {
    "duration": 2,
    "start_time": "2022-10-08T12:43:33.280Z"
   },
   {
    "duration": 86,
    "start_time": "2022-10-08T12:43:38.126Z"
   },
   {
    "duration": 12,
    "start_time": "2022-10-08T12:45:15.407Z"
   },
   {
    "duration": 1283,
    "start_time": "2022-10-08T12:46:23.023Z"
   },
   {
    "duration": 1524,
    "start_time": "2022-10-08T12:46:38.146Z"
   },
   {
    "duration": 92,
    "start_time": "2022-10-08T12:47:52.404Z"
   },
   {
    "duration": 13,
    "start_time": "2022-10-08T12:48:01.655Z"
   },
   {
    "duration": 51,
    "start_time": "2022-10-08T12:53:26.893Z"
   },
   {
    "duration": 32,
    "start_time": "2022-10-08T12:54:40.317Z"
   },
   {
    "duration": 15,
    "start_time": "2022-10-08T12:55:33.171Z"
   },
   {
    "duration": 2144,
    "start_time": "2022-10-08T13:05:49.001Z"
   },
   {
    "duration": 76,
    "start_time": "2022-10-08T14:24:44.626Z"
   },
   {
    "duration": 1782,
    "start_time": "2022-10-08T14:24:55.016Z"
   },
   {
    "duration": 16,
    "start_time": "2022-10-08T14:46:26.157Z"
   },
   {
    "duration": 36,
    "start_time": "2022-10-08T18:28:03.457Z"
   },
   {
    "duration": 5,
    "start_time": "2022-10-08T18:28:48.306Z"
   },
   {
    "duration": 50,
    "start_time": "2022-10-08T18:39:30.130Z"
   },
   {
    "duration": 26,
    "start_time": "2022-10-08T18:41:19.342Z"
   },
   {
    "duration": 32,
    "start_time": "2022-10-08T19:10:29.180Z"
   },
   {
    "duration": 46,
    "start_time": "2022-10-08T19:11:24.754Z"
   },
   {
    "duration": 45,
    "start_time": "2022-10-08T19:16:40.015Z"
   },
   {
    "duration": 27,
    "start_time": "2022-10-08T19:17:35.546Z"
   },
   {
    "duration": 56,
    "start_time": "2022-10-08T19:27:11.112Z"
   },
   {
    "duration": 54,
    "start_time": "2022-10-08T19:27:58.456Z"
   },
   {
    "duration": 54,
    "start_time": "2022-10-08T19:28:11.122Z"
   },
   {
    "duration": 55,
    "start_time": "2022-10-08T19:28:20.754Z"
   },
   {
    "duration": 26,
    "start_time": "2022-10-08T19:30:14.692Z"
   },
   {
    "duration": 4,
    "start_time": "2022-10-08T19:36:03.651Z"
   },
   {
    "duration": 3,
    "start_time": "2022-10-08T19:38:16.727Z"
   },
   {
    "duration": 3,
    "start_time": "2022-10-08T19:38:18.977Z"
   },
   {
    "duration": 30,
    "start_time": "2022-10-08T19:58:14.831Z"
   },
   {
    "duration": 54,
    "start_time": "2022-10-08T19:58:35.128Z"
   },
   {
    "duration": 56,
    "start_time": "2022-10-08T19:59:25.872Z"
   },
   {
    "duration": 53,
    "start_time": "2022-10-08T19:59:45.433Z"
   },
   {
    "duration": 52,
    "start_time": "2022-10-08T20:01:26.945Z"
   },
   {
    "duration": 26,
    "start_time": "2022-10-08T20:01:43.541Z"
   },
   {
    "duration": 26,
    "start_time": "2022-10-08T20:06:15.789Z"
   },
   {
    "duration": 53,
    "start_time": "2022-10-08T20:06:33.338Z"
   },
   {
    "duration": 28,
    "start_time": "2022-10-08T20:07:01.147Z"
   },
   {
    "duration": 9,
    "start_time": "2022-10-08T21:00:36.294Z"
   },
   {
    "duration": 3,
    "start_time": "2022-10-08T21:01:46.121Z"
   },
   {
    "duration": 18,
    "start_time": "2022-10-08T21:42:22.185Z"
   },
   {
    "duration": 10,
    "start_time": "2022-10-08T21:42:48.726Z"
   },
   {
    "duration": 22,
    "start_time": "2022-10-08T21:45:06.460Z"
   },
   {
    "duration": 4,
    "start_time": "2022-10-08T22:00:11.071Z"
   },
   {
    "duration": 4,
    "start_time": "2022-10-08T22:00:18.063Z"
   },
   {
    "duration": 5,
    "start_time": "2022-10-08T22:00:32.277Z"
   },
   {
    "duration": 28,
    "start_time": "2022-10-08T22:01:26.974Z"
   },
   {
    "duration": 24,
    "start_time": "2022-10-08T22:19:52.288Z"
   },
   {
    "duration": 3,
    "start_time": "2022-10-08T22:20:05.770Z"
   },
   {
    "duration": 24,
    "start_time": "2022-10-08T22:21:30.546Z"
   },
   {
    "duration": 5,
    "start_time": "2022-10-08T22:27:00.038Z"
   },
   {
    "duration": 24,
    "start_time": "2022-10-08T22:27:05.279Z"
   },
   {
    "duration": 14,
    "start_time": "2022-10-08T22:29:03.911Z"
   },
   {
    "duration": 23,
    "start_time": "2022-10-08T23:25:36.270Z"
   },
   {
    "duration": 14,
    "start_time": "2022-10-08T23:26:51.233Z"
   },
   {
    "duration": 13,
    "start_time": "2022-10-08T23:32:51.667Z"
   },
   {
    "duration": 9,
    "start_time": "2022-10-08T23:33:15.924Z"
   },
   {
    "duration": 13,
    "start_time": "2022-10-08T23:34:56.454Z"
   },
   {
    "duration": 3,
    "start_time": "2022-10-08T23:35:04.874Z"
   },
   {
    "duration": 3,
    "start_time": "2022-10-08T23:35:20.593Z"
   },
   {
    "duration": 4,
    "start_time": "2022-10-08T23:35:25.696Z"
   },
   {
    "duration": 768,
    "start_time": "2022-10-09T17:32:59.728Z"
   },
   {
    "duration": 298,
    "start_time": "2022-10-09T17:33:21.070Z"
   },
   {
    "duration": 28,
    "start_time": "2022-10-09T17:33:33.049Z"
   },
   {
    "duration": 14,
    "start_time": "2022-10-09T17:33:49.111Z"
   },
   {
    "duration": 63,
    "start_time": "2022-10-09T17:34:19.874Z"
   },
   {
    "duration": 1699,
    "start_time": "2022-10-09T17:34:30.833Z"
   },
   {
    "duration": 9,
    "start_time": "2022-10-09T17:35:37.320Z"
   },
   {
    "duration": 5,
    "start_time": "2022-10-09T17:44:51.570Z"
   },
   {
    "duration": 25,
    "start_time": "2022-10-09T17:45:06.566Z"
   },
   {
    "duration": 28,
    "start_time": "2022-10-09T17:45:26.990Z"
   },
   {
    "duration": 38,
    "start_time": "2022-10-09T18:05:44.619Z"
   },
   {
    "duration": 27,
    "start_time": "2022-10-09T18:06:16.634Z"
   },
   {
    "duration": 3,
    "start_time": "2022-10-09T18:07:07.452Z"
   },
   {
    "duration": 3,
    "start_time": "2022-10-09T18:07:10.016Z"
   },
   {
    "duration": 3,
    "start_time": "2022-10-09T18:07:13.466Z"
   },
   {
    "duration": 18,
    "start_time": "2022-10-09T18:27:32.502Z"
   },
   {
    "duration": 20,
    "start_time": "2022-10-09T18:28:13.766Z"
   },
   {
    "duration": 12,
    "start_time": "2022-10-09T18:29:49.991Z"
   },
   {
    "duration": 14,
    "start_time": "2022-10-09T18:30:05.964Z"
   },
   {
    "duration": 52,
    "start_time": "2022-10-09T18:30:20.909Z"
   },
   {
    "duration": 14,
    "start_time": "2022-10-09T18:31:52.965Z"
   },
   {
    "duration": 14,
    "start_time": "2022-10-09T18:46:35.383Z"
   },
   {
    "duration": 19,
    "start_time": "2022-10-09T18:46:56.430Z"
   },
   {
    "duration": 8,
    "start_time": "2022-10-09T18:47:57.780Z"
   },
   {
    "duration": 6,
    "start_time": "2022-10-09T19:12:10.912Z"
   },
   {
    "duration": 9,
    "start_time": "2022-10-09T19:12:31.628Z"
   },
   {
    "duration": 29,
    "start_time": "2022-10-09T19:12:44.497Z"
   },
   {
    "duration": 3,
    "start_time": "2022-10-09T19:12:58.701Z"
   },
   {
    "duration": 8,
    "start_time": "2022-10-09T19:13:36.303Z"
   },
   {
    "duration": 4,
    "start_time": "2022-10-09T19:13:41.995Z"
   },
   {
    "duration": 4,
    "start_time": "2022-10-09T19:14:57.784Z"
   },
   {
    "duration": 84,
    "start_time": "2022-10-09T19:29:23.201Z"
   },
   {
    "duration": 4,
    "start_time": "2022-10-09T19:29:58.736Z"
   },
   {
    "duration": 16,
    "start_time": "2022-10-09T19:34:11.655Z"
   },
   {
    "duration": 4,
    "start_time": "2022-10-09T19:35:34.785Z"
   },
   {
    "duration": 7,
    "start_time": "2022-10-09T20:30:00.616Z"
   },
   {
    "duration": 43,
    "start_time": "2022-10-10T15:41:38.347Z"
   },
   {
    "duration": 742,
    "start_time": "2022-10-10T15:42:23.538Z"
   },
   {
    "duration": 310,
    "start_time": "2022-10-10T15:42:25.962Z"
   },
   {
    "duration": 32,
    "start_time": "2022-10-10T15:42:29.403Z"
   },
   {
    "duration": 14,
    "start_time": "2022-10-10T15:42:32.639Z"
   },
   {
    "duration": 66,
    "start_time": "2022-10-10T15:42:35.993Z"
   },
   {
    "duration": 1805,
    "start_time": "2022-10-10T15:42:38.788Z"
   },
   {
    "duration": 9,
    "start_time": "2022-10-10T15:42:45.553Z"
   },
   {
    "duration": 5,
    "start_time": "2022-10-10T15:42:52.026Z"
   },
   {
    "duration": 28,
    "start_time": "2022-10-10T15:42:54.181Z"
   },
   {
    "duration": 31,
    "start_time": "2022-10-10T15:42:57.065Z"
   },
   {
    "duration": 4,
    "start_time": "2022-10-10T15:42:59.822Z"
   },
   {
    "duration": 3,
    "start_time": "2022-10-10T15:43:03.057Z"
   },
   {
    "duration": 3,
    "start_time": "2022-10-10T15:43:05.394Z"
   },
   {
    "duration": 4,
    "start_time": "2022-10-10T15:43:07.941Z"
   },
   {
    "duration": 13,
    "start_time": "2022-10-10T15:43:11.330Z"
   },
   {
    "duration": 6,
    "start_time": "2022-10-10T15:43:16.685Z"
   },
   {
    "duration": 7,
    "start_time": "2022-10-10T15:43:19.744Z"
   },
   {
    "duration": 6,
    "start_time": "2022-10-10T15:43:21.384Z"
   },
   {
    "duration": 3,
    "start_time": "2022-10-10T15:43:23.206Z"
   },
   {
    "duration": 7,
    "start_time": "2022-10-10T15:43:25.706Z"
   },
   {
    "duration": 6,
    "start_time": "2022-10-10T15:43:29.881Z"
   },
   {
    "duration": 6,
    "start_time": "2022-10-10T15:44:12.367Z"
   },
   {
    "duration": 66,
    "start_time": "2022-10-10T15:58:04.280Z"
   },
   {
    "duration": 5,
    "start_time": "2022-10-10T15:58:11.077Z"
   },
   {
    "duration": 36,
    "start_time": "2022-10-10T15:58:26.658Z"
   },
   {
    "duration": 6,
    "start_time": "2022-10-10T15:58:36.207Z"
   },
   {
    "duration": 5,
    "start_time": "2022-10-10T16:15:54.078Z"
   },
   {
    "duration": 8,
    "start_time": "2022-10-10T16:16:10.767Z"
   },
   {
    "duration": 15,
    "start_time": "2022-10-10T16:17:03.062Z"
   },
   {
    "duration": 13,
    "start_time": "2022-10-10T16:17:33.085Z"
   },
   {
    "duration": 11,
    "start_time": "2022-10-10T16:18:35.151Z"
   },
   {
    "duration": 12,
    "start_time": "2022-10-10T16:18:51.248Z"
   },
   {
    "duration": 31,
    "start_time": "2022-10-10T16:19:30.155Z"
   },
   {
    "duration": 5,
    "start_time": "2022-10-10T16:19:44.241Z"
   },
   {
    "duration": 8,
    "start_time": "2022-10-10T16:20:06.292Z"
   },
   {
    "duration": 17,
    "start_time": "2022-10-10T16:21:48.608Z"
   },
   {
    "duration": 12,
    "start_time": "2022-10-10T16:23:26.483Z"
   },
   {
    "duration": 6,
    "start_time": "2022-10-10T16:26:08.391Z"
   },
   {
    "duration": 7,
    "start_time": "2022-10-10T16:27:47.567Z"
   },
   {
    "duration": 8,
    "start_time": "2022-10-10T16:28:02.324Z"
   },
   {
    "duration": 6,
    "start_time": "2022-10-10T16:28:12.186Z"
   },
   {
    "duration": 9,
    "start_time": "2022-10-10T16:28:25.322Z"
   },
   {
    "duration": 8,
    "start_time": "2022-10-10T16:33:21.293Z"
   },
   {
    "duration": 30,
    "start_time": "2022-10-10T16:34:16.137Z"
   },
   {
    "duration": 3,
    "start_time": "2022-10-10T16:36:29.385Z"
   },
   {
    "duration": 88,
    "start_time": "2022-10-10T16:36:31.729Z"
   },
   {
    "duration": 27,
    "start_time": "2022-10-10T16:36:34.750Z"
   },
   {
    "duration": 14,
    "start_time": "2022-10-10T16:37:00.190Z"
   },
   {
    "duration": 77,
    "start_time": "2022-10-10T16:37:06.721Z"
   },
   {
    "duration": 1793,
    "start_time": "2022-10-10T16:37:10.952Z"
   },
   {
    "duration": 12,
    "start_time": "2022-10-10T16:37:18.945Z"
   },
   {
    "duration": 5,
    "start_time": "2022-10-10T16:37:35.043Z"
   },
   {
    "duration": 28,
    "start_time": "2022-10-10T16:37:40.329Z"
   },
   {
    "duration": 31,
    "start_time": "2022-10-10T16:37:42.501Z"
   },
   {
    "duration": 4,
    "start_time": "2022-10-10T16:41:15.133Z"
   },
   {
    "duration": 4,
    "start_time": "2022-10-10T16:41:17.146Z"
   },
   {
    "duration": 3,
    "start_time": "2022-10-10T16:41:19.702Z"
   },
   {
    "duration": 50,
    "start_time": "2022-10-10T16:42:37.177Z"
   },
   {
    "duration": 15,
    "start_time": "2022-10-10T16:43:52.949Z"
   },
   {
    "duration": 26,
    "start_time": "2022-10-10T16:44:30.969Z"
   },
   {
    "duration": 15,
    "start_time": "2022-10-10T16:44:50.325Z"
   },
   {
    "duration": 35,
    "start_time": "2022-10-10T16:45:15.432Z"
   },
   {
    "duration": 26,
    "start_time": "2022-10-10T16:46:03.089Z"
   },
   {
    "duration": 11,
    "start_time": "2022-10-10T16:46:34.652Z"
   },
   {
    "duration": 6,
    "start_time": "2022-10-10T16:46:38.313Z"
   },
   {
    "duration": 9,
    "start_time": "2022-10-10T16:46:44.199Z"
   },
   {
    "duration": 4,
    "start_time": "2022-10-10T16:46:51.860Z"
   },
   {
    "duration": 10,
    "start_time": "2022-10-10T16:48:19.293Z"
   },
   {
    "duration": 6,
    "start_time": "2022-10-10T16:48:46.615Z"
   },
   {
    "duration": 7,
    "start_time": "2022-10-10T16:48:52.728Z"
   },
   {
    "duration": 13,
    "start_time": "2022-10-10T16:51:31.696Z"
   },
   {
    "duration": 12,
    "start_time": "2022-10-10T16:52:18.682Z"
   },
   {
    "duration": 9,
    "start_time": "2022-10-10T17:04:11.460Z"
   },
   {
    "duration": 9,
    "start_time": "2022-10-10T17:06:06.146Z"
   },
   {
    "duration": 22,
    "start_time": "2022-10-10T17:06:40.562Z"
   },
   {
    "duration": 12,
    "start_time": "2022-10-10T17:06:42.377Z"
   },
   {
    "duration": 10,
    "start_time": "2022-10-10T17:06:55.447Z"
   },
   {
    "duration": 10,
    "start_time": "2022-10-10T17:10:14.952Z"
   },
   {
    "duration": 8,
    "start_time": "2022-10-10T17:10:38.181Z"
   },
   {
    "duration": 29,
    "start_time": "2022-10-10T17:10:45.599Z"
   },
   {
    "duration": 3,
    "start_time": "2022-10-10T17:11:43.925Z"
   },
   {
    "duration": 91,
    "start_time": "2022-10-10T17:11:46.374Z"
   },
   {
    "duration": 35,
    "start_time": "2022-10-10T17:11:49.127Z"
   },
   {
    "duration": 14,
    "start_time": "2022-10-10T17:11:56.231Z"
   },
   {
    "duration": 66,
    "start_time": "2022-10-10T17:12:00.656Z"
   },
   {
    "duration": 1823,
    "start_time": "2022-10-10T17:12:03.974Z"
   },
   {
    "duration": 9,
    "start_time": "2022-10-10T17:12:10.894Z"
   },
   {
    "duration": 5,
    "start_time": "2022-10-10T17:12:17.064Z"
   },
   {
    "duration": 27,
    "start_time": "2022-10-10T17:12:19.987Z"
   },
   {
    "duration": 29,
    "start_time": "2022-10-10T17:12:22.383Z"
   },
   {
    "duration": 3,
    "start_time": "2022-10-10T17:12:25.521Z"
   },
   {
    "duration": 3,
    "start_time": "2022-10-10T17:12:28.372Z"
   },
   {
    "duration": 3,
    "start_time": "2022-10-10T17:12:30.165Z"
   },
   {
    "duration": 8,
    "start_time": "2022-10-10T17:12:35.875Z"
   },
   {
    "duration": 6,
    "start_time": "2022-10-10T17:12:37.759Z"
   },
   {
    "duration": 7,
    "start_time": "2022-10-10T17:12:42.408Z"
   },
   {
    "duration": 4,
    "start_time": "2022-10-10T17:12:44.180Z"
   },
   {
    "duration": 4,
    "start_time": "2022-10-10T17:12:45.821Z"
   },
   {
    "duration": 7,
    "start_time": "2022-10-10T17:12:49.867Z"
   },
   {
    "duration": 8,
    "start_time": "2022-10-10T17:13:00.565Z"
   },
   {
    "duration": 116,
    "start_time": "2022-10-10T17:30:50.089Z"
   },
   {
    "duration": 120,
    "start_time": "2022-10-10T17:33:21.896Z"
   },
   {
    "duration": 95,
    "start_time": "2022-10-10T17:33:29.614Z"
   },
   {
    "duration": 6,
    "start_time": "2022-10-10T17:57:36.559Z"
   },
   {
    "duration": 858,
    "start_time": "2022-10-10T19:13:27.438Z"
   },
   {
    "duration": 159,
    "start_time": "2022-10-10T19:13:31.855Z"
   },
   {
    "duration": 35,
    "start_time": "2022-10-10T19:13:34.986Z"
   },
   {
    "duration": 16,
    "start_time": "2022-10-10T19:13:38.528Z"
   },
   {
    "duration": 82,
    "start_time": "2022-10-10T19:13:43.104Z"
   },
   {
    "duration": 2027,
    "start_time": "2022-10-10T19:13:46.145Z"
   },
   {
    "duration": 10,
    "start_time": "2022-10-10T19:13:53.472Z"
   },
   {
    "duration": 5,
    "start_time": "2022-10-10T19:14:00.665Z"
   },
   {
    "duration": 32,
    "start_time": "2022-10-10T19:14:03.734Z"
   },
   {
    "duration": 36,
    "start_time": "2022-10-10T19:14:54.369Z"
   },
   {
    "duration": 38,
    "start_time": "2022-10-10T19:15:19.675Z"
   },
   {
    "duration": 37,
    "start_time": "2022-10-10T19:16:10.939Z"
   },
   {
    "duration": 40,
    "start_time": "2022-10-10T19:16:20.740Z"
   },
   {
    "duration": 3,
    "start_time": "2022-10-10T19:16:29.879Z"
   },
   {
    "duration": 4,
    "start_time": "2022-10-10T19:16:31.610Z"
   },
   {
    "duration": 3,
    "start_time": "2022-10-10T19:16:33.434Z"
   },
   {
    "duration": 10,
    "start_time": "2022-10-10T19:16:37.089Z"
   },
   {
    "duration": 6,
    "start_time": "2022-10-10T19:16:40.899Z"
   },
   {
    "duration": 10,
    "start_time": "2022-10-10T19:16:46.649Z"
   },
   {
    "duration": 5,
    "start_time": "2022-10-10T19:16:48.562Z"
   },
   {
    "duration": 4,
    "start_time": "2022-10-10T19:16:51.688Z"
   },
   {
    "duration": 8,
    "start_time": "2022-10-10T19:16:55.848Z"
   },
   {
    "duration": 7,
    "start_time": "2022-10-10T19:17:03.202Z"
   },
   {
    "duration": 14,
    "start_time": "2022-10-10T19:31:50.900Z"
   },
   {
    "duration": 33,
    "start_time": "2022-10-10T19:33:25.788Z"
   },
   {
    "duration": 7,
    "start_time": "2022-10-10T19:34:34.425Z"
   },
   {
    "duration": 89,
    "start_time": "2022-10-10T19:57:15.682Z"
   },
   {
    "duration": 9,
    "start_time": "2022-10-10T19:57:20.110Z"
   },
   {
    "duration": 57,
    "start_time": "2022-10-10T20:07:07.377Z"
   },
   {
    "duration": 8,
    "start_time": "2022-10-10T20:07:18.429Z"
   },
   {
    "duration": 68,
    "start_time": "2022-10-10T20:29:57.712Z"
   },
   {
    "duration": 7,
    "start_time": "2022-10-10T20:30:00.738Z"
   },
   {
    "duration": 10,
    "start_time": "2022-10-10T20:48:13.672Z"
   },
   {
    "duration": 67,
    "start_time": "2022-10-10T21:02:59.049Z"
   },
   {
    "duration": 626,
    "start_time": "2022-10-10T21:20:08.626Z"
   },
   {
    "duration": 79,
    "start_time": "2022-10-10T21:21:25.853Z"
   },
   {
    "duration": 120,
    "start_time": "2022-10-10T21:27:24.201Z"
   },
   {
    "duration": 115,
    "start_time": "2022-10-10T21:30:24.339Z"
   },
   {
    "duration": 210,
    "start_time": "2022-10-10T21:30:38.693Z"
   },
   {
    "duration": 116,
    "start_time": "2022-10-10T21:30:53.065Z"
   },
   {
    "duration": 115,
    "start_time": "2022-10-10T21:31:19.192Z"
   },
   {
    "duration": 136,
    "start_time": "2022-10-10T21:31:30.003Z"
   },
   {
    "duration": 166,
    "start_time": "2022-10-10T21:41:35.732Z"
   },
   {
    "duration": 154,
    "start_time": "2022-10-10T21:56:07.854Z"
   },
   {
    "duration": 16,
    "start_time": "2022-10-10T21:58:10.522Z"
   },
   {
    "duration": 221,
    "start_time": "2022-10-10T22:04:22.600Z"
   },
   {
    "duration": 160,
    "start_time": "2022-10-10T22:09:05.790Z"
   },
   {
    "duration": 3,
    "start_time": "2022-10-10T22:27:02.194Z"
   },
   {
    "duration": 89,
    "start_time": "2022-10-10T22:27:04.556Z"
   },
   {
    "duration": 26,
    "start_time": "2022-10-10T22:27:06.710Z"
   },
   {
    "duration": 14,
    "start_time": "2022-10-10T22:27:11.844Z"
   },
   {
    "duration": 76,
    "start_time": "2022-10-10T22:27:15.339Z"
   },
   {
    "duration": 1835,
    "start_time": "2022-10-10T22:27:18.376Z"
   },
   {
    "duration": 12,
    "start_time": "2022-10-10T22:27:25.253Z"
   },
   {
    "duration": 29,
    "start_time": "2022-10-10T22:27:31.060Z"
   },
   {
    "duration": 31,
    "start_time": "2022-10-10T22:27:34.656Z"
   },
   {
    "duration": 4,
    "start_time": "2022-10-10T22:27:41.212Z"
   },
   {
    "duration": 4,
    "start_time": "2022-10-10T22:27:43.673Z"
   },
   {
    "duration": 3,
    "start_time": "2022-10-10T22:27:45.223Z"
   },
   {
    "duration": 8,
    "start_time": "2022-10-10T22:27:50.697Z"
   },
   {
    "duration": 7,
    "start_time": "2022-10-10T22:27:52.874Z"
   },
   {
    "duration": 8,
    "start_time": "2022-10-10T22:27:56.099Z"
   },
   {
    "duration": 5,
    "start_time": "2022-10-10T22:27:58.418Z"
   },
   {
    "duration": 3,
    "start_time": "2022-10-10T22:28:00.340Z"
   },
   {
    "duration": 7,
    "start_time": "2022-10-10T22:28:02.101Z"
   },
   {
    "duration": 6,
    "start_time": "2022-10-10T22:28:08.248Z"
   },
   {
    "duration": 69,
    "start_time": "2022-10-10T22:28:15.236Z"
   },
   {
    "duration": 18,
    "start_time": "2022-10-10T22:28:18.176Z"
   },
   {
    "duration": 144,
    "start_time": "2022-10-10T22:28:34.001Z"
   },
   {
    "duration": 170,
    "start_time": "2022-10-10T22:30:02.095Z"
   },
   {
    "duration": 153,
    "start_time": "2022-10-10T22:30:42.869Z"
   },
   {
    "duration": 173,
    "start_time": "2022-10-10T22:30:57.889Z"
   },
   {
    "duration": 101,
    "start_time": "2022-10-10T22:59:59.776Z"
   },
   {
    "duration": 114,
    "start_time": "2022-10-10T23:01:04.896Z"
   },
   {
    "duration": 98,
    "start_time": "2022-10-10T23:01:40.477Z"
   },
   {
    "duration": 78,
    "start_time": "2022-10-10T23:01:53.818Z"
   },
   {
    "duration": 11,
    "start_time": "2022-10-10T23:03:57.254Z"
   },
   {
    "duration": 11,
    "start_time": "2022-10-10T23:04:22.319Z"
   },
   {
    "duration": 12,
    "start_time": "2022-10-10T23:25:50.946Z"
   },
   {
    "duration": 18,
    "start_time": "2022-10-10T23:28:30.571Z"
   },
   {
    "duration": 34,
    "start_time": "2022-10-10T23:29:04.526Z"
   },
   {
    "duration": 14,
    "start_time": "2022-10-10T23:32:04.198Z"
   },
   {
    "duration": 19,
    "start_time": "2022-10-10T23:32:11.437Z"
   },
   {
    "duration": 21,
    "start_time": "2022-10-10T23:34:14.580Z"
   },
   {
    "duration": 25,
    "start_time": "2022-10-10T23:34:43.063Z"
   },
   {
    "duration": 38,
    "start_time": "2022-10-10T23:35:49.631Z"
   },
   {
    "duration": 19,
    "start_time": "2022-10-10T23:36:25.977Z"
   },
   {
    "duration": 819,
    "start_time": "2022-10-11T15:57:34.981Z"
   },
   {
    "duration": 149,
    "start_time": "2022-10-11T15:57:37.818Z"
   },
   {
    "duration": 32,
    "start_time": "2022-10-11T15:57:40.339Z"
   },
   {
    "duration": 14,
    "start_time": "2022-10-11T15:57:43.367Z"
   },
   {
    "duration": 67,
    "start_time": "2022-10-11T15:57:46.918Z"
   },
   {
    "duration": 1788,
    "start_time": "2022-10-11T15:57:49.370Z"
   },
   {
    "duration": 9,
    "start_time": "2022-10-11T15:57:56.237Z"
   },
   {
    "duration": 29,
    "start_time": "2022-10-11T15:58:00.923Z"
   },
   {
    "duration": 29,
    "start_time": "2022-10-11T15:58:03.343Z"
   },
   {
    "duration": 3,
    "start_time": "2022-10-11T15:58:06.907Z"
   },
   {
    "duration": 3,
    "start_time": "2022-10-11T15:58:09.061Z"
   },
   {
    "duration": 4,
    "start_time": "2022-10-11T15:58:10.600Z"
   },
   {
    "duration": 9,
    "start_time": "2022-10-11T15:58:12.527Z"
   },
   {
    "duration": 6,
    "start_time": "2022-10-11T15:58:14.155Z"
   },
   {
    "duration": 7,
    "start_time": "2022-10-11T15:58:16.656Z"
   },
   {
    "duration": 6,
    "start_time": "2022-10-11T15:58:18.286Z"
   },
   {
    "duration": 3,
    "start_time": "2022-10-11T15:58:20.130Z"
   },
   {
    "duration": 7,
    "start_time": "2022-10-11T15:58:22.587Z"
   },
   {
    "duration": 7,
    "start_time": "2022-10-11T15:58:24.455Z"
   },
   {
    "duration": 70,
    "start_time": "2022-10-11T15:58:28.187Z"
   },
   {
    "duration": 17,
    "start_time": "2022-10-11T15:58:31.164Z"
   },
   {
    "duration": 122,
    "start_time": "2022-10-11T15:58:38.056Z"
   },
   {
    "duration": 26,
    "start_time": "2022-10-11T15:58:45.030Z"
   },
   {
    "duration": 112,
    "start_time": "2022-10-11T16:12:41.008Z"
   },
   {
    "duration": 191,
    "start_time": "2022-10-11T16:13:07.748Z"
   },
   {
    "duration": 118,
    "start_time": "2022-10-11T16:13:33.014Z"
   },
   {
    "duration": 93,
    "start_time": "2022-10-11T16:13:44.550Z"
   },
   {
    "duration": 105,
    "start_time": "2022-10-11T16:13:57.756Z"
   },
   {
    "duration": 178,
    "start_time": "2022-10-11T16:14:06.637Z"
   },
   {
    "duration": 115,
    "start_time": "2022-10-11T16:15:38.138Z"
   },
   {
    "duration": 111,
    "start_time": "2022-10-11T16:15:52.177Z"
   },
   {
    "duration": 110,
    "start_time": "2022-10-11T16:19:49.171Z"
   },
   {
    "duration": 110,
    "start_time": "2022-10-11T16:21:13.268Z"
   },
   {
    "duration": 135,
    "start_time": "2022-10-11T16:21:59.788Z"
   },
   {
    "duration": 135,
    "start_time": "2022-10-11T16:23:11.918Z"
   },
   {
    "duration": 129,
    "start_time": "2022-10-11T16:23:17.956Z"
   },
   {
    "duration": 121,
    "start_time": "2022-10-11T16:23:25.504Z"
   },
   {
    "duration": 118,
    "start_time": "2022-10-11T16:24:22.129Z"
   },
   {
    "duration": 117,
    "start_time": "2022-10-11T16:24:28.685Z"
   },
   {
    "duration": 119,
    "start_time": "2022-10-11T16:24:43.489Z"
   },
   {
    "duration": 126,
    "start_time": "2022-10-11T16:25:30.221Z"
   },
   {
    "duration": 162,
    "start_time": "2022-10-11T16:25:57.042Z"
   },
   {
    "duration": 103,
    "start_time": "2022-10-11T16:32:34.209Z"
   },
   {
    "duration": 186,
    "start_time": "2022-10-11T16:32:55.403Z"
   },
   {
    "duration": 120,
    "start_time": "2022-10-11T16:34:55.633Z"
   },
   {
    "duration": 120,
    "start_time": "2022-10-11T16:36:17.383Z"
   },
   {
    "duration": 111,
    "start_time": "2022-10-11T16:39:49.762Z"
   },
   {
    "duration": 144,
    "start_time": "2022-10-11T16:41:16.898Z"
   },
   {
    "duration": 95,
    "start_time": "2022-10-11T16:41:53.474Z"
   },
   {
    "duration": 118,
    "start_time": "2022-10-11T16:42:17.727Z"
   },
   {
    "duration": 108,
    "start_time": "2022-10-11T16:42:32.568Z"
   },
   {
    "duration": 144,
    "start_time": "2022-10-11T16:44:44.545Z"
   },
   {
    "duration": 81,
    "start_time": "2022-10-11T16:49:05.766Z"
   },
   {
    "duration": 9,
    "start_time": "2022-10-11T16:49:34.544Z"
   },
   {
    "duration": 112,
    "start_time": "2022-10-11T16:51:09.795Z"
   },
   {
    "duration": 117,
    "start_time": "2022-10-11T16:56:12.595Z"
   },
   {
    "duration": 106,
    "start_time": "2022-10-11T17:04:15.801Z"
   },
   {
    "duration": 101,
    "start_time": "2022-10-11T17:04:24.174Z"
   },
   {
    "duration": 113,
    "start_time": "2022-10-11T17:04:40.575Z"
   },
   {
    "duration": 116,
    "start_time": "2022-10-11T17:04:48.922Z"
   },
   {
    "duration": 201,
    "start_time": "2022-10-11T17:12:18.690Z"
   },
   {
    "duration": 111,
    "start_time": "2022-10-11T17:15:46.211Z"
   },
   {
    "duration": 44,
    "start_time": "2022-10-11T17:18:08.828Z"
   },
   {
    "duration": 9,
    "start_time": "2022-10-11T17:18:33.150Z"
   },
   {
    "duration": 10,
    "start_time": "2022-10-11T17:18:47.614Z"
   },
   {
    "duration": 13,
    "start_time": "2022-10-11T17:19:13.639Z"
   },
   {
    "duration": 7,
    "start_time": "2022-10-11T17:20:36.803Z"
   },
   {
    "duration": 7,
    "start_time": "2022-10-11T17:20:45.056Z"
   },
   {
    "duration": 7,
    "start_time": "2022-10-11T17:20:51.890Z"
   },
   {
    "duration": 6,
    "start_time": "2022-10-11T17:20:59.437Z"
   },
   {
    "duration": 32,
    "start_time": "2022-10-11T17:21:13.836Z"
   },
   {
    "duration": 4,
    "start_time": "2022-10-11T18:11:56.531Z"
   },
   {
    "duration": 10,
    "start_time": "2022-10-11T18:12:11.633Z"
   },
   {
    "duration": 124,
    "start_time": "2022-10-11T18:12:15.706Z"
   },
   {
    "duration": 109,
    "start_time": "2022-10-11T18:12:19.342Z"
   },
   {
    "duration": 29,
    "start_time": "2022-10-11T18:12:24.078Z"
   },
   {
    "duration": 15,
    "start_time": "2022-10-11T18:13:25.886Z"
   },
   {
    "duration": 20,
    "start_time": "2022-10-11T18:13:31.963Z"
   },
   {
    "duration": 7,
    "start_time": "2022-10-11T18:14:12.253Z"
   },
   {
    "duration": 5,
    "start_time": "2022-10-11T18:15:43.080Z"
   },
   {
    "duration": 3,
    "start_time": "2022-10-11T18:16:02.228Z"
   },
   {
    "duration": 10,
    "start_time": "2022-10-11T18:16:17.110Z"
   },
   {
    "duration": 7,
    "start_time": "2022-10-11T18:16:46.776Z"
   },
   {
    "duration": 7,
    "start_time": "2022-10-11T18:16:50.846Z"
   },
   {
    "duration": 2,
    "start_time": "2022-10-11T18:19:16.897Z"
   },
   {
    "duration": 80,
    "start_time": "2022-10-11T18:19:18.782Z"
   },
   {
    "duration": 33,
    "start_time": "2022-10-11T18:19:21.817Z"
   },
   {
    "duration": 15,
    "start_time": "2022-10-11T18:19:24.982Z"
   },
   {
    "duration": 69,
    "start_time": "2022-10-11T18:19:29.522Z"
   },
   {
    "duration": 1788,
    "start_time": "2022-10-11T18:19:32.093Z"
   },
   {
    "duration": 9,
    "start_time": "2022-10-11T18:19:38.455Z"
   },
   {
    "duration": 30,
    "start_time": "2022-10-11T18:19:41.539Z"
   },
   {
    "duration": 29,
    "start_time": "2022-10-11T18:19:43.288Z"
   },
   {
    "duration": 4,
    "start_time": "2022-10-11T18:19:45.913Z"
   },
   {
    "duration": 4,
    "start_time": "2022-10-11T18:19:47.377Z"
   },
   {
    "duration": 3,
    "start_time": "2022-10-11T18:19:48.879Z"
   },
   {
    "duration": 8,
    "start_time": "2022-10-11T18:19:51.015Z"
   },
   {
    "duration": 6,
    "start_time": "2022-10-11T18:19:52.594Z"
   },
   {
    "duration": 7,
    "start_time": "2022-10-11T18:19:55.291Z"
   },
   {
    "duration": 4,
    "start_time": "2022-10-11T18:19:56.879Z"
   },
   {
    "duration": 5,
    "start_time": "2022-10-11T18:20:04.896Z"
   },
   {
    "duration": 3,
    "start_time": "2022-10-11T18:20:07.312Z"
   },
   {
    "duration": 7,
    "start_time": "2022-10-11T18:20:09.803Z"
   },
   {
    "duration": 6,
    "start_time": "2022-10-11T18:20:12.340Z"
   },
   {
    "duration": 66,
    "start_time": "2022-10-11T18:20:16.492Z"
   },
   {
    "duration": 17,
    "start_time": "2022-10-11T18:20:19.277Z"
   },
   {
    "duration": 108,
    "start_time": "2022-10-11T18:20:22.142Z"
   },
   {
    "duration": 27,
    "start_time": "2022-10-11T18:20:27.113Z"
   },
   {
    "duration": 10,
    "start_time": "2022-10-11T18:20:30.196Z"
   },
   {
    "duration": 115,
    "start_time": "2022-10-11T18:20:33.812Z"
   },
   {
    "duration": 113,
    "start_time": "2022-10-11T18:20:36.438Z"
   },
   {
    "duration": 37,
    "start_time": "2022-10-11T18:20:39.983Z"
   },
   {
    "duration": 4,
    "start_time": "2022-10-11T18:20:45.132Z"
   },
   {
    "duration": 9,
    "start_time": "2022-10-11T18:20:56.101Z"
   },
   {
    "duration": 7,
    "start_time": "2022-10-11T18:21:12.754Z"
   },
   {
    "duration": 7,
    "start_time": "2022-10-11T18:21:26.221Z"
   },
   {
    "duration": 7,
    "start_time": "2022-10-11T18:22:24.884Z"
   },
   {
    "duration": 7,
    "start_time": "2022-10-11T18:22:36.751Z"
   },
   {
    "duration": 7,
    "start_time": "2022-10-11T18:23:00.359Z"
   },
   {
    "duration": 3,
    "start_time": "2022-10-11T18:24:27.046Z"
   },
   {
    "duration": 86,
    "start_time": "2022-10-11T18:24:29.030Z"
   },
   {
    "duration": 28,
    "start_time": "2022-10-11T18:24:32.524Z"
   },
   {
    "duration": 13,
    "start_time": "2022-10-11T18:24:36.080Z"
   },
   {
    "duration": 67,
    "start_time": "2022-10-11T18:24:38.958Z"
   },
   {
    "duration": 1854,
    "start_time": "2022-10-11T18:24:49.674Z"
   },
   {
    "duration": 9,
    "start_time": "2022-10-11T18:24:56.582Z"
   },
   {
    "duration": 29,
    "start_time": "2022-10-11T18:25:03.716Z"
   },
   {
    "duration": 31,
    "start_time": "2022-10-11T18:25:05.605Z"
   },
   {
    "duration": 4,
    "start_time": "2022-10-11T18:25:08.073Z"
   },
   {
    "duration": 3,
    "start_time": "2022-10-11T18:25:12.749Z"
   },
   {
    "duration": 3,
    "start_time": "2022-10-11T18:25:14.476Z"
   },
   {
    "duration": 9,
    "start_time": "2022-10-11T18:25:25.849Z"
   },
   {
    "duration": 5,
    "start_time": "2022-10-11T18:25:28.323Z"
   },
   {
    "duration": 7,
    "start_time": "2022-10-11T18:25:34.820Z"
   },
   {
    "duration": 5,
    "start_time": "2022-10-11T18:25:37.123Z"
   },
   {
    "duration": 4,
    "start_time": "2022-10-11T18:25:38.925Z"
   },
   {
    "duration": 3,
    "start_time": "2022-10-11T18:25:45.586Z"
   },
   {
    "duration": 6,
    "start_time": "2022-10-11T18:25:47.731Z"
   },
   {
    "duration": 6,
    "start_time": "2022-10-11T18:25:50.172Z"
   },
   {
    "duration": 69,
    "start_time": "2022-10-11T18:25:52.932Z"
   },
   {
    "duration": 16,
    "start_time": "2022-10-11T18:25:58.208Z"
   },
   {
    "duration": 106,
    "start_time": "2022-10-11T18:26:00.972Z"
   },
   {
    "duration": 22,
    "start_time": "2022-10-11T18:26:04.275Z"
   },
   {
    "duration": 9,
    "start_time": "2022-10-11T18:26:07.835Z"
   },
   {
    "duration": 117,
    "start_time": "2022-10-11T18:26:10.834Z"
   },
   {
    "duration": 112,
    "start_time": "2022-10-11T18:26:13.977Z"
   },
   {
    "duration": 31,
    "start_time": "2022-10-11T18:26:17.917Z"
   },
   {
    "duration": 5,
    "start_time": "2022-10-11T18:26:32.920Z"
   },
   {
    "duration": 16,
    "start_time": "2022-10-11T18:48:59.836Z"
   },
   {
    "duration": 6,
    "start_time": "2022-10-11T18:52:27.958Z"
   },
   {
    "duration": 64,
    "start_time": "2022-10-11T18:52:54.450Z"
   },
   {
    "duration": 91,
    "start_time": "2022-10-11T18:53:06.976Z"
   },
   {
    "duration": 4,
    "start_time": "2022-10-11T19:01:46.442Z"
   },
   {
    "duration": 9,
    "start_time": "2022-10-11T19:03:19.761Z"
   },
   {
    "duration": 8,
    "start_time": "2022-10-11T19:03:30.054Z"
   },
   {
    "duration": 96,
    "start_time": "2022-10-11T19:04:39.533Z"
   },
   {
    "duration": 6,
    "start_time": "2022-10-11T19:54:34.298Z"
   },
   {
    "duration": 5,
    "start_time": "2022-10-11T19:54:36.398Z"
   },
   {
    "duration": 8,
    "start_time": "2022-10-11T19:54:45.456Z"
   },
   {
    "duration": 14,
    "start_time": "2022-10-11T19:55:26.327Z"
   },
   {
    "duration": 111,
    "start_time": "2022-10-11T19:56:46.251Z"
   },
   {
    "duration": 102,
    "start_time": "2022-10-11T19:57:58.250Z"
   },
   {
    "duration": 102,
    "start_time": "2022-10-11T20:01:04.157Z"
   },
   {
    "duration": 97,
    "start_time": "2022-10-11T20:01:13.460Z"
   },
   {
    "duration": 100,
    "start_time": "2022-10-11T20:01:26.022Z"
   },
   {
    "duration": 109,
    "start_time": "2022-10-11T20:02:11.161Z"
   },
   {
    "duration": 114,
    "start_time": "2022-10-11T20:05:42.390Z"
   },
   {
    "duration": 111,
    "start_time": "2022-10-11T20:14:54.214Z"
   },
   {
    "duration": 113,
    "start_time": "2022-10-11T20:22:07.091Z"
   },
   {
    "duration": 125,
    "start_time": "2022-10-11T20:26:38.115Z"
   },
   {
    "duration": 138,
    "start_time": "2022-10-11T20:33:03.298Z"
   },
   {
    "duration": 119,
    "start_time": "2022-10-11T20:33:52.966Z"
   },
   {
    "duration": 242,
    "start_time": "2022-10-11T20:34:43.428Z"
   },
   {
    "duration": 13,
    "start_time": "2022-10-11T20:36:39.158Z"
   },
   {
    "duration": 103,
    "start_time": "2022-10-11T20:43:24.705Z"
   },
   {
    "duration": 12,
    "start_time": "2022-10-11T20:53:05.920Z"
   },
   {
    "duration": 24,
    "start_time": "2022-10-11T21:18:50.328Z"
   },
   {
    "duration": 25,
    "start_time": "2022-10-11T21:19:50.702Z"
   },
   {
    "duration": 27,
    "start_time": "2022-10-11T21:20:06.391Z"
   },
   {
    "duration": 24,
    "start_time": "2022-10-11T21:25:19.530Z"
   },
   {
    "duration": 22,
    "start_time": "2022-10-11T21:25:54.072Z"
   },
   {
    "duration": 17,
    "start_time": "2022-10-11T22:03:53.242Z"
   },
   {
    "duration": 30,
    "start_time": "2022-10-11T22:04:05.277Z"
   },
   {
    "duration": 302,
    "start_time": "2022-10-11T22:25:48.323Z"
   },
   {
    "duration": 304,
    "start_time": "2022-10-11T22:42:59.339Z"
   },
   {
    "duration": 299,
    "start_time": "2022-10-11T22:43:38.528Z"
   },
   {
    "duration": 72,
    "start_time": "2022-10-11T22:43:54.014Z"
   },
   {
    "duration": 15,
    "start_time": "2022-10-11T22:57:00.696Z"
   },
   {
    "duration": 16,
    "start_time": "2022-10-11T22:57:18.828Z"
   },
   {
    "duration": 12,
    "start_time": "2022-10-11T23:01:08.259Z"
   },
   {
    "duration": 1206,
    "start_time": "2022-10-11T23:01:23.226Z"
   },
   {
    "duration": 5,
    "start_time": "2022-10-11T23:09:02.260Z"
   },
   {
    "duration": 10,
    "start_time": "2022-10-11T23:16:52.576Z"
   },
   {
    "duration": 759,
    "start_time": "2022-10-11T23:25:00.056Z"
   },
   {
    "duration": 10,
    "start_time": "2022-10-11T23:25:46.058Z"
   },
   {
    "duration": 197,
    "start_time": "2022-10-11T23:59:12.450Z"
   },
   {
    "duration": 3,
    "start_time": "2022-10-12T00:00:03.955Z"
   },
   {
    "duration": 82,
    "start_time": "2022-10-12T00:00:05.667Z"
   },
   {
    "duration": 27,
    "start_time": "2022-10-12T00:00:08.468Z"
   },
   {
    "duration": 13,
    "start_time": "2022-10-12T00:00:11.426Z"
   },
   {
    "duration": 67,
    "start_time": "2022-10-12T00:00:14.935Z"
   },
   {
    "duration": 1627,
    "start_time": "2022-10-12T00:00:17.824Z"
   },
   {
    "duration": 9,
    "start_time": "2022-10-12T00:00:23.239Z"
   },
   {
    "duration": 27,
    "start_time": "2022-10-12T00:00:28.231Z"
   },
   {
    "duration": 28,
    "start_time": "2022-10-12T00:00:33.762Z"
   },
   {
    "duration": 158,
    "start_time": "2022-10-12T00:00:46.870Z"
   },
   {
    "duration": 165,
    "start_time": "2022-10-12T00:01:08.559Z"
   },
   {
    "duration": 2,
    "start_time": "2022-10-12T00:02:12.899Z"
   },
   {
    "duration": 79,
    "start_time": "2022-10-12T00:02:14.801Z"
   },
   {
    "duration": 29,
    "start_time": "2022-10-12T00:02:16.836Z"
   },
   {
    "duration": 13,
    "start_time": "2022-10-12T00:02:19.629Z"
   },
   {
    "duration": 199,
    "start_time": "2022-10-12T00:02:22.767Z"
   },
   {
    "duration": 1710,
    "start_time": "2022-10-12T00:02:25.675Z"
   },
   {
    "duration": 8,
    "start_time": "2022-10-12T00:02:31.676Z"
   },
   {
    "duration": 31,
    "start_time": "2022-10-12T00:02:36.020Z"
   },
   {
    "duration": 29,
    "start_time": "2022-10-12T00:02:39.689Z"
   },
   {
    "duration": 164,
    "start_time": "2022-10-12T00:02:43.927Z"
   },
   {
    "duration": 184,
    "start_time": "2022-10-12T00:03:38.051Z"
   },
   {
    "duration": 1084,
    "start_time": "2022-10-12T15:59:28.597Z"
   },
   {
    "duration": 15,
    "start_time": "2022-10-12T15:59:49.033Z"
   },
   {
    "duration": 73,
    "start_time": "2022-10-12T16:00:22.979Z"
   },
   {
    "duration": 1744,
    "start_time": "2022-10-12T16:00:58.936Z"
   },
   {
    "duration": 9,
    "start_time": "2022-10-12T16:01:08.135Z"
   },
   {
    "duration": 27,
    "start_time": "2022-10-12T16:01:25.294Z"
   },
   {
    "duration": 32,
    "start_time": "2022-10-12T16:01:29.071Z"
   },
   {
    "duration": 192,
    "start_time": "2022-10-12T16:07:01.138Z"
   },
   {
    "duration": 4,
    "start_time": "2022-10-12T16:07:12.953Z"
   },
   {
    "duration": 9,
    "start_time": "2022-10-12T16:07:22.216Z"
   },
   {
    "duration": 6,
    "start_time": "2022-10-12T16:07:23.914Z"
   },
   {
    "duration": 14,
    "start_time": "2022-10-12T16:10:28.626Z"
   },
   {
    "duration": 16,
    "start_time": "2022-10-12T16:11:22.616Z"
   },
   {
    "duration": 65,
    "start_time": "2022-10-12T16:11:25.745Z"
   },
   {
    "duration": 16,
    "start_time": "2022-10-12T16:11:29.092Z"
   },
   {
    "duration": 105,
    "start_time": "2022-10-12T16:11:38.371Z"
   },
   {
    "duration": 24,
    "start_time": "2022-10-12T16:11:43.744Z"
   },
   {
    "duration": 8,
    "start_time": "2022-10-12T16:11:52.806Z"
   },
   {
    "duration": 136,
    "start_time": "2022-10-12T16:11:56.173Z"
   },
   {
    "duration": 107,
    "start_time": "2022-10-12T16:12:00.030Z"
   },
   {
    "duration": 36,
    "start_time": "2022-10-12T16:12:16.594Z"
   },
   {
    "duration": 14,
    "start_time": "2022-10-12T16:13:04.485Z"
   },
   {
    "duration": 111,
    "start_time": "2022-10-12T16:13:38.960Z"
   },
   {
    "duration": 94,
    "start_time": "2022-10-12T16:13:42.232Z"
   },
   {
    "duration": 178,
    "start_time": "2022-10-12T16:13:55.475Z"
   },
   {
    "duration": 13,
    "start_time": "2022-10-12T16:14:00.103Z"
   },
   {
    "duration": 108,
    "start_time": "2022-10-12T16:14:18.024Z"
   },
   {
    "duration": 14,
    "start_time": "2022-10-12T16:14:33.689Z"
   },
   {
    "duration": 1731,
    "start_time": "2022-10-12T16:15:20.261Z"
   },
   {
    "duration": 313,
    "start_time": "2022-10-12T16:15:42.450Z"
   },
   {
    "duration": 312,
    "start_time": "2022-10-12T16:21:01.129Z"
   },
   {
    "duration": 400,
    "start_time": "2022-10-12T17:05:30.767Z"
   },
   {
    "duration": 114,
    "start_time": "2022-10-12T17:05:53.194Z"
   },
   {
    "duration": 161,
    "start_time": "2022-10-12T17:06:10.327Z"
   },
   {
    "duration": 256,
    "start_time": "2022-10-12T17:07:03.378Z"
   },
   {
    "duration": 259,
    "start_time": "2022-10-12T17:07:17.933Z"
   },
   {
    "duration": 228,
    "start_time": "2022-10-12T17:07:29.269Z"
   },
   {
    "duration": 250,
    "start_time": "2022-10-12T17:07:46.875Z"
   },
   {
    "duration": 395,
    "start_time": "2022-10-12T17:08:06.033Z"
   },
   {
    "duration": 216,
    "start_time": "2022-10-12T17:08:21.494Z"
   },
   {
    "duration": 228,
    "start_time": "2022-10-12T17:08:38.228Z"
   },
   {
    "duration": 272,
    "start_time": "2022-10-12T17:08:54.893Z"
   },
   {
    "duration": 283,
    "start_time": "2022-10-12T17:09:04.200Z"
   },
   {
    "duration": 390,
    "start_time": "2022-10-12T17:10:45.834Z"
   },
   {
    "duration": 223,
    "start_time": "2022-10-12T17:10:58.151Z"
   },
   {
    "duration": 278,
    "start_time": "2022-10-12T17:11:04.885Z"
   },
   {
    "duration": 247,
    "start_time": "2022-10-12T17:11:22.210Z"
   },
   {
    "duration": 219,
    "start_time": "2022-10-12T17:11:49.853Z"
   },
   {
    "duration": 232,
    "start_time": "2022-10-12T17:12:26.822Z"
   },
   {
    "duration": 395,
    "start_time": "2022-10-12T17:12:32.710Z"
   },
   {
    "duration": 276,
    "start_time": "2022-10-12T17:12:58.069Z"
   },
   {
    "duration": 301,
    "start_time": "2022-10-12T17:13:21.939Z"
   },
   {
    "duration": 287,
    "start_time": "2022-10-12T17:18:56.486Z"
   },
   {
    "duration": 304,
    "start_time": "2022-10-12T17:19:19.080Z"
   },
   {
    "duration": 451,
    "start_time": "2022-10-12T17:19:53.126Z"
   },
   {
    "duration": 14,
    "start_time": "2022-10-12T17:22:31.890Z"
   },
   {
    "duration": 268,
    "start_time": "2022-10-12T17:31:42.370Z"
   },
   {
    "duration": 268,
    "start_time": "2022-10-12T17:32:14.633Z"
   },
   {
    "duration": 322,
    "start_time": "2022-10-12T17:32:36.097Z"
   },
   {
    "duration": 277,
    "start_time": "2022-10-12T17:33:13.459Z"
   },
   {
    "duration": 269,
    "start_time": "2022-10-12T17:33:52.035Z"
   },
   {
    "duration": 479,
    "start_time": "2022-10-12T17:34:03.773Z"
   },
   {
    "duration": 283,
    "start_time": "2022-10-12T17:34:45.235Z"
   },
   {
    "duration": 265,
    "start_time": "2022-10-12T17:36:40.404Z"
   },
   {
    "duration": 279,
    "start_time": "2022-10-12T17:37:01.064Z"
   },
   {
    "duration": 294,
    "start_time": "2022-10-12T17:37:47.634Z"
   },
   {
    "duration": 115,
    "start_time": "2022-10-12T17:38:21.850Z"
   },
   {
    "duration": 124,
    "start_time": "2022-10-12T17:38:59.441Z"
   },
   {
    "duration": 384,
    "start_time": "2022-10-12T17:39:16.804Z"
   },
   {
    "duration": 198,
    "start_time": "2022-10-12T17:39:37.511Z"
   },
   {
    "duration": 222,
    "start_time": "2022-10-12T17:39:58.133Z"
   },
   {
    "duration": 245,
    "start_time": "2022-10-12T17:40:17.487Z"
   },
   {
    "duration": 224,
    "start_time": "2022-10-12T17:40:55.539Z"
   },
   {
    "duration": 253,
    "start_time": "2022-10-12T17:41:17.952Z"
   },
   {
    "duration": 210,
    "start_time": "2022-10-12T17:41:28.003Z"
   },
   {
    "duration": 227,
    "start_time": "2022-10-12T17:43:58.075Z"
   },
   {
    "duration": 228,
    "start_time": "2022-10-12T17:44:22.197Z"
   },
   {
    "duration": 428,
    "start_time": "2022-10-12T17:44:32.561Z"
   },
   {
    "duration": 214,
    "start_time": "2022-10-12T17:44:49.489Z"
   },
   {
    "duration": 219,
    "start_time": "2022-10-12T17:47:22.373Z"
   },
   {
    "duration": 247,
    "start_time": "2022-10-12T17:48:20.880Z"
   },
   {
    "duration": 218,
    "start_time": "2022-10-12T17:48:29.400Z"
   },
   {
    "duration": 227,
    "start_time": "2022-10-12T17:48:38.355Z"
   },
   {
    "duration": 1243,
    "start_time": "2022-10-12T17:51:02.118Z"
   },
   {
    "duration": 1138,
    "start_time": "2022-10-12T17:51:11.450Z"
   },
   {
    "duration": 75,
    "start_time": "2022-10-12T17:51:35.141Z"
   },
   {
    "duration": 78,
    "start_time": "2022-10-12T17:51:45.974Z"
   },
   {
    "duration": 266,
    "start_time": "2022-10-12T17:52:09.568Z"
   },
   {
    "duration": 73,
    "start_time": "2022-10-12T17:53:00.944Z"
   },
   {
    "duration": 232,
    "start_time": "2022-10-12T17:53:12.963Z"
   },
   {
    "duration": 422,
    "start_time": "2022-10-12T17:53:29.194Z"
   },
   {
    "duration": 264,
    "start_time": "2022-10-12T17:53:39.171Z"
   },
   {
    "duration": 223,
    "start_time": "2022-10-12T17:53:59.920Z"
   },
   {
    "duration": 217,
    "start_time": "2022-10-12T17:54:12.099Z"
   },
   {
    "duration": 237,
    "start_time": "2022-10-12T17:54:23.021Z"
   },
   {
    "duration": 268,
    "start_time": "2022-10-12T17:54:57.234Z"
   },
   {
    "duration": 143,
    "start_time": "2022-10-12T17:56:08.688Z"
   },
   {
    "duration": 448,
    "start_time": "2022-10-12T17:56:28.056Z"
   },
   {
    "duration": 538,
    "start_time": "2022-10-12T17:56:36.592Z"
   },
   {
    "duration": 80,
    "start_time": "2022-10-12T18:01:07.068Z"
   },
   {
    "duration": 395,
    "start_time": "2022-10-12T18:01:18.558Z"
   },
   {
    "duration": 339,
    "start_time": "2022-10-12T18:01:29.260Z"
   },
   {
    "duration": 134,
    "start_time": "2022-10-12T18:01:59.340Z"
   },
   {
    "duration": 120,
    "start_time": "2022-10-12T18:02:11.152Z"
   },
   {
    "duration": 379,
    "start_time": "2022-10-12T18:02:30.615Z"
   },
   {
    "duration": 555,
    "start_time": "2022-10-12T18:02:50.025Z"
   },
   {
    "duration": 338,
    "start_time": "2022-10-12T18:03:15.106Z"
   },
   {
    "duration": 397,
    "start_time": "2022-10-12T18:04:05.027Z"
   },
   {
    "duration": 345,
    "start_time": "2022-10-12T18:04:44.910Z"
   },
   {
    "duration": 343,
    "start_time": "2022-10-12T18:04:57.921Z"
   },
   {
    "duration": 545,
    "start_time": "2022-10-12T18:05:15.125Z"
   },
   {
    "duration": 129,
    "start_time": "2022-10-12T18:08:35.730Z"
   },
   {
    "duration": 93,
    "start_time": "2022-10-12T18:08:57.262Z"
   },
   {
    "duration": 240,
    "start_time": "2022-10-12T18:09:10.808Z"
   },
   {
    "duration": 224,
    "start_time": "2022-10-12T18:09:24.861Z"
   },
   {
    "duration": 245,
    "start_time": "2022-10-12T18:10:05.345Z"
   },
   {
    "duration": 225,
    "start_time": "2022-10-12T18:11:20.317Z"
   },
   {
    "duration": 237,
    "start_time": "2022-10-12T18:12:21.404Z"
   },
   {
    "duration": 222,
    "start_time": "2022-10-12T18:12:29.087Z"
   },
   {
    "duration": 444,
    "start_time": "2022-10-12T18:12:42.326Z"
   },
   {
    "duration": 214,
    "start_time": "2022-10-12T18:13:45.497Z"
   },
   {
    "duration": 219,
    "start_time": "2022-10-12T18:14:14.171Z"
   },
   {
    "duration": 217,
    "start_time": "2022-10-12T18:15:46.487Z"
   },
   {
    "duration": 223,
    "start_time": "2022-10-12T18:15:54.494Z"
   },
   {
    "duration": 233,
    "start_time": "2022-10-12T18:16:46.965Z"
   },
   {
    "duration": 77,
    "start_time": "2022-10-12T18:18:02.517Z"
   },
   {
    "duration": 213,
    "start_time": "2022-10-12T18:18:24.185Z"
   },
   {
    "duration": 121,
    "start_time": "2022-10-12T18:19:03.966Z"
   },
   {
    "duration": 213,
    "start_time": "2022-10-12T18:20:02.926Z"
   },
   {
    "duration": 436,
    "start_time": "2022-10-12T18:22:01.623Z"
   },
   {
    "duration": 6,
    "start_time": "2022-10-12T18:27:53.055Z"
   },
   {
    "duration": 381,
    "start_time": "2022-10-12T18:28:18.704Z"
   },
   {
    "duration": 171,
    "start_time": "2022-10-12T18:28:46.436Z"
   },
   {
    "duration": 8,
    "start_time": "2022-10-12T18:31:05.509Z"
   },
   {
    "duration": 8,
    "start_time": "2022-10-12T18:31:42.348Z"
   },
   {
    "duration": 79,
    "start_time": "2022-10-12T18:32:44.104Z"
   },
   {
    "duration": 175,
    "start_time": "2022-10-12T18:32:55.780Z"
   },
   {
    "duration": 177,
    "start_time": "2022-10-12T18:33:59.339Z"
   },
   {
    "duration": 250,
    "start_time": "2022-10-12T18:35:43.721Z"
   },
   {
    "duration": 196,
    "start_time": "2022-10-12T18:36:30.348Z"
   },
   {
    "duration": 235,
    "start_time": "2022-10-12T18:37:24.355Z"
   },
   {
    "duration": 176,
    "start_time": "2022-10-12T18:37:51.975Z"
   },
   {
    "duration": 246,
    "start_time": "2022-10-12T18:56:04.781Z"
   },
   {
    "duration": 453,
    "start_time": "2022-10-12T18:56:21.685Z"
   },
   {
    "duration": 250,
    "start_time": "2022-10-12T19:00:11.155Z"
   },
   {
    "duration": 239,
    "start_time": "2022-10-12T19:00:32.033Z"
   },
   {
    "duration": 223,
    "start_time": "2022-10-12T19:02:21.753Z"
   },
   {
    "duration": 233,
    "start_time": "2022-10-12T19:02:49.516Z"
   },
   {
    "duration": 241,
    "start_time": "2022-10-12T19:06:18.274Z"
   },
   {
    "duration": 243,
    "start_time": "2022-10-12T19:08:01.286Z"
   },
   {
    "duration": 238,
    "start_time": "2022-10-12T19:08:21.522Z"
   },
   {
    "duration": 222,
    "start_time": "2022-10-12T19:08:46.359Z"
   },
   {
    "duration": 502,
    "start_time": "2022-10-12T19:10:31.116Z"
   },
   {
    "duration": 437,
    "start_time": "2022-10-12T19:19:07.199Z"
   },
   {
    "duration": 341,
    "start_time": "2022-10-12T19:20:12.206Z"
   },
   {
    "duration": 447,
    "start_time": "2022-10-12T19:20:56.049Z"
   },
   {
    "duration": 352,
    "start_time": "2022-10-12T19:21:02.511Z"
   },
   {
    "duration": 530,
    "start_time": "2022-10-12T19:22:34.816Z"
   },
   {
    "duration": 339,
    "start_time": "2022-10-12T19:22:42.393Z"
   },
   {
    "duration": 334,
    "start_time": "2022-10-12T19:22:53.490Z"
   },
   {
    "duration": 336,
    "start_time": "2022-10-12T19:24:59.939Z"
   },
   {
    "duration": 655,
    "start_time": "2022-10-12T19:25:07.331Z"
   },
   {
    "duration": 190,
    "start_time": "2022-10-12T19:59:18.556Z"
   },
   {
    "duration": 162,
    "start_time": "2022-10-12T19:59:32.039Z"
   },
   {
    "duration": 293,
    "start_time": "2022-10-12T20:21:27.314Z"
   },
   {
    "duration": 243,
    "start_time": "2022-10-12T20:22:06.496Z"
   },
   {
    "duration": 242,
    "start_time": "2022-10-12T20:23:01.300Z"
   },
   {
    "duration": 9,
    "start_time": "2022-10-12T20:23:27.107Z"
   },
   {
    "duration": 231,
    "start_time": "2022-10-12T20:24:10.453Z"
   },
   {
    "duration": 11,
    "start_time": "2022-10-12T20:30:26.057Z"
   },
   {
    "duration": 8,
    "start_time": "2022-10-12T20:30:44.700Z"
   },
   {
    "duration": 5,
    "start_time": "2022-10-12T20:30:46.560Z"
   },
   {
    "duration": 318,
    "start_time": "2022-10-12T20:39:48.715Z"
   },
   {
    "duration": 246,
    "start_time": "2022-10-12T20:49:12.806Z"
   },
   {
    "duration": 115,
    "start_time": "2022-10-12T20:54:01.326Z"
   },
   {
    "duration": 99,
    "start_time": "2022-10-12T20:55:40.347Z"
   },
   {
    "duration": 417,
    "start_time": "2022-10-12T20:55:52.670Z"
   },
   {
    "duration": 208,
    "start_time": "2022-10-12T21:19:40.628Z"
   },
   {
    "duration": 213,
    "start_time": "2022-10-12T21:19:58.276Z"
   },
   {
    "duration": 186,
    "start_time": "2022-10-12T21:45:45.966Z"
   },
   {
    "duration": 155,
    "start_time": "2022-10-12T21:51:55.236Z"
   },
   {
    "duration": 182,
    "start_time": "2022-10-12T21:52:17.692Z"
   },
   {
    "duration": 151,
    "start_time": "2022-10-12T22:03:08.829Z"
   },
   {
    "duration": 150,
    "start_time": "2022-10-12T22:03:32.966Z"
   },
   {
    "duration": 158,
    "start_time": "2022-10-12T22:03:48.808Z"
   },
   {
    "duration": 158,
    "start_time": "2022-10-12T22:04:10.723Z"
   },
   {
    "duration": 174,
    "start_time": "2022-10-12T22:04:25.438Z"
   },
   {
    "duration": 148,
    "start_time": "2022-10-12T22:04:40.509Z"
   },
   {
    "duration": 162,
    "start_time": "2022-10-12T22:04:47.285Z"
   },
   {
    "duration": 162,
    "start_time": "2022-10-12T22:04:56.297Z"
   },
   {
    "duration": 17,
    "start_time": "2022-10-12T22:11:35.496Z"
   },
   {
    "duration": 19,
    "start_time": "2022-10-12T22:12:07.125Z"
   },
   {
    "duration": 155,
    "start_time": "2022-10-12T22:12:46.271Z"
   },
   {
    "duration": 157,
    "start_time": "2022-10-12T22:14:34.616Z"
   },
   {
    "duration": 88,
    "start_time": "2022-10-12T22:15:40.381Z"
   },
   {
    "duration": 83,
    "start_time": "2022-10-12T22:16:05.532Z"
   },
   {
    "duration": 160,
    "start_time": "2022-10-12T22:16:23.097Z"
   },
   {
    "duration": 149,
    "start_time": "2022-10-12T22:22:44.642Z"
   },
   {
    "duration": 10,
    "start_time": "2022-10-12T22:26:58.885Z"
   },
   {
    "duration": 170,
    "start_time": "2022-10-12T22:27:09.766Z"
   },
   {
    "duration": 143,
    "start_time": "2022-10-12T22:29:29.776Z"
   },
   {
    "duration": 165,
    "start_time": "2022-10-12T22:30:22.193Z"
   },
   {
    "duration": 149,
    "start_time": "2022-10-12T22:30:33.457Z"
   },
   {
    "duration": 153,
    "start_time": "2022-10-12T22:33:50.961Z"
   },
   {
    "duration": 17,
    "start_time": "2022-10-12T22:37:13.211Z"
   },
   {
    "duration": 16,
    "start_time": "2022-10-12T22:42:41.812Z"
   },
   {
    "duration": 502,
    "start_time": "2022-10-12T22:46:52.896Z"
   },
   {
    "duration": 490,
    "start_time": "2022-10-12T22:50:40.779Z"
   },
   {
    "duration": 80,
    "start_time": "2022-10-12T22:50:58.017Z"
   },
   {
    "duration": 163,
    "start_time": "2022-10-12T22:51:07.787Z"
   },
   {
    "duration": 66,
    "start_time": "2022-10-12T22:51:29.574Z"
   },
   {
    "duration": 68,
    "start_time": "2022-10-12T22:51:53.478Z"
   },
   {
    "duration": 74,
    "start_time": "2022-10-12T22:52:10.398Z"
   },
   {
    "duration": 74,
    "start_time": "2022-10-12T22:52:22.658Z"
   },
   {
    "duration": 68,
    "start_time": "2022-10-12T22:52:27.394Z"
   },
   {
    "duration": 493,
    "start_time": "2022-10-12T22:52:35.983Z"
   },
   {
    "duration": 17,
    "start_time": "2022-10-12T22:54:17.142Z"
   },
   {
    "duration": 21,
    "start_time": "2022-10-12T22:57:03.506Z"
   },
   {
    "duration": 17,
    "start_time": "2022-10-12T22:57:19.815Z"
   },
   {
    "duration": 7,
    "start_time": "2022-10-12T23:00:37.974Z"
   },
   {
    "duration": 4,
    "start_time": "2022-10-12T23:01:21.781Z"
   },
   {
    "duration": 5,
    "start_time": "2022-10-12T23:01:31.102Z"
   },
   {
    "duration": 4,
    "start_time": "2022-10-12T23:02:06.161Z"
   },
   {
    "duration": 2,
    "start_time": "2022-10-12T23:30:27.010Z"
   },
   {
    "duration": 985,
    "start_time": "2022-10-13T11:18:34.705Z"
   },
   {
    "duration": 17,
    "start_time": "2022-10-13T11:18:39.201Z"
   },
   {
    "duration": 87,
    "start_time": "2022-10-13T11:18:43.323Z"
   },
   {
    "duration": 2045,
    "start_time": "2022-10-13T11:18:46.059Z"
   },
   {
    "duration": 15,
    "start_time": "2022-10-13T11:18:52.958Z"
   },
   {
    "duration": 35,
    "start_time": "2022-10-13T11:19:00.334Z"
   },
   {
    "duration": 32,
    "start_time": "2022-10-13T11:19:02.779Z"
   },
   {
    "duration": 221,
    "start_time": "2022-10-13T11:19:05.244Z"
   },
   {
    "duration": 6,
    "start_time": "2022-10-13T11:19:09.241Z"
   },
   {
    "duration": 12,
    "start_time": "2022-10-13T11:19:11.839Z"
   },
   {
    "duration": 7,
    "start_time": "2022-10-13T11:19:13.503Z"
   },
   {
    "duration": 16,
    "start_time": "2022-10-13T11:19:16.051Z"
   },
   {
    "duration": 18,
    "start_time": "2022-10-13T11:19:18.618Z"
   },
   {
    "duration": 100,
    "start_time": "2022-10-13T11:19:21.314Z"
   },
   {
    "duration": 123,
    "start_time": "2022-10-13T11:19:26.082Z"
   },
   {
    "duration": 19,
    "start_time": "2022-10-13T11:19:36.988Z"
   },
   {
    "duration": 125,
    "start_time": "2022-10-13T11:19:39.746Z"
   },
   {
    "duration": 41,
    "start_time": "2022-10-13T11:19:43.329Z"
   },
   {
    "duration": 13,
    "start_time": "2022-10-13T11:19:46.830Z"
   },
   {
    "duration": 127,
    "start_time": "2022-10-13T11:19:54.907Z"
   },
   {
    "duration": 127,
    "start_time": "2022-10-13T11:19:59.742Z"
   },
   {
    "duration": 35,
    "start_time": "2022-10-13T11:20:02.570Z"
   },
   {
    "duration": 16,
    "start_time": "2022-10-13T11:20:05.344Z"
   },
   {
    "duration": 137,
    "start_time": "2022-10-13T11:20:07.953Z"
   },
   {
    "duration": 114,
    "start_time": "2022-10-13T11:20:11.244Z"
   },
   {
    "duration": 211,
    "start_time": "2022-10-13T11:20:14.157Z"
   },
   {
    "duration": 14,
    "start_time": "2022-10-13T11:20:17.316Z"
   },
   {
    "duration": 125,
    "start_time": "2022-10-13T11:20:19.617Z"
   },
   {
    "duration": 13,
    "start_time": "2022-10-13T11:20:22.772Z"
   },
   {
    "duration": 368,
    "start_time": "2022-10-13T11:20:32.668Z"
   },
   {
    "duration": 378,
    "start_time": "2022-10-13T11:20:40.530Z"
   },
   {
    "duration": 277,
    "start_time": "2022-10-13T11:20:48.338Z"
   },
   {
    "duration": 391,
    "start_time": "2022-10-13T11:20:51.697Z"
   },
   {
    "duration": 269,
    "start_time": "2022-10-13T11:20:54.690Z"
   },
   {
    "duration": 396,
    "start_time": "2022-10-13T11:20:57.583Z"
   },
   {
    "duration": 278,
    "start_time": "2022-10-13T11:21:00.668Z"
   },
   {
    "duration": 265,
    "start_time": "2022-10-13T11:21:06.458Z"
   },
   {
    "duration": 387,
    "start_time": "2022-10-13T11:21:09.263Z"
   },
   {
    "duration": 144,
    "start_time": "2022-10-13T11:21:11.926Z"
   },
   {
    "duration": 265,
    "start_time": "2022-10-13T11:21:14.622Z"
   },
   {
    "duration": 8,
    "start_time": "2022-10-13T11:21:17.700Z"
   },
   {
    "duration": 204,
    "start_time": "2022-10-13T11:21:20.830Z"
   },
   {
    "duration": 208,
    "start_time": "2022-10-13T11:21:23.655Z"
   },
   {
    "duration": 200,
    "start_time": "2022-10-13T11:21:26.685Z"
   },
   {
    "duration": 222,
    "start_time": "2022-10-13T11:21:29.627Z"
   },
   {
    "duration": 201,
    "start_time": "2022-10-13T11:21:32.371Z"
   },
   {
    "duration": 10,
    "start_time": "2022-10-13T11:21:36.539Z"
   },
   {
    "duration": 5,
    "start_time": "2022-10-13T11:21:41.105Z"
   },
   {
    "duration": 135,
    "start_time": "2022-10-13T11:21:43.143Z"
   },
   {
    "duration": 401,
    "start_time": "2022-10-13T11:21:48.557Z"
   },
   {
    "duration": 203,
    "start_time": "2022-10-13T11:21:52.567Z"
   },
   {
    "duration": 191,
    "start_time": "2022-10-13T11:21:55.601Z"
   },
   {
    "duration": 241,
    "start_time": "2022-10-13T11:22:01.636Z"
   },
   {
    "duration": 190,
    "start_time": "2022-10-13T11:22:04.969Z"
   },
   {
    "duration": 90,
    "start_time": "2022-10-13T11:23:01.173Z"
   },
   {
    "duration": 212,
    "start_time": "2022-10-13T11:32:12.125Z"
   },
   {
    "duration": 190,
    "start_time": "2022-10-13T11:35:05.701Z"
   },
   {
    "duration": 189,
    "start_time": "2022-10-13T11:35:19.290Z"
   },
   {
    "duration": 226,
    "start_time": "2022-10-13T11:35:50.882Z"
   },
   {
    "duration": 211,
    "start_time": "2022-10-13T11:36:06.205Z"
   },
   {
    "duration": 228,
    "start_time": "2022-10-13T11:36:17.711Z"
   },
   {
    "duration": 203,
    "start_time": "2022-10-13T11:36:36.254Z"
   },
   {
    "duration": 205,
    "start_time": "2022-10-13T11:42:09.455Z"
   },
   {
    "duration": 186,
    "start_time": "2022-10-13T11:47:41.860Z"
   },
   {
    "duration": 273,
    "start_time": "2022-10-13T11:59:12.365Z"
   },
   {
    "duration": 172,
    "start_time": "2022-10-13T11:59:19.933Z"
   },
   {
    "duration": 65,
    "start_time": "2022-10-13T12:00:21.097Z"
   },
   {
    "duration": 86,
    "start_time": "2022-10-13T12:01:02.142Z"
   },
   {
    "duration": 53,
    "start_time": "2022-10-13T12:01:13.826Z"
   },
   {
    "duration": 52,
    "start_time": "2022-10-13T12:01:33.869Z"
   },
   {
    "duration": 217,
    "start_time": "2022-10-13T12:02:05.500Z"
   },
   {
    "duration": 195,
    "start_time": "2022-10-13T12:02:34.819Z"
   },
   {
    "duration": 179,
    "start_time": "2022-10-13T12:02:57.633Z"
   },
   {
    "duration": 185,
    "start_time": "2022-10-13T12:03:02.888Z"
   },
   {
    "duration": 186,
    "start_time": "2022-10-13T12:08:40.525Z"
   },
   {
    "duration": 175,
    "start_time": "2022-10-13T12:08:49.005Z"
   },
   {
    "duration": 202,
    "start_time": "2022-10-13T12:10:01.268Z"
   },
   {
    "duration": 187,
    "start_time": "2022-10-13T12:11:10.667Z"
   },
   {
    "duration": 192,
    "start_time": "2022-10-13T12:12:29.038Z"
   },
   {
    "duration": 180,
    "start_time": "2022-10-13T12:14:34.004Z"
   },
   {
    "duration": 47,
    "start_time": "2022-10-13T17:56:30.829Z"
   },
   {
    "duration": 7,
    "start_time": "2022-10-13T17:56:41.469Z"
   },
   {
    "duration": 844,
    "start_time": "2022-10-13T17:56:53.071Z"
   },
   {
    "duration": 17,
    "start_time": "2022-10-13T17:56:59.088Z"
   },
   {
    "duration": 75,
    "start_time": "2022-10-13T17:57:02.257Z"
   },
   {
    "duration": 1825,
    "start_time": "2022-10-13T17:57:04.795Z"
   },
   {
    "duration": 9,
    "start_time": "2022-10-13T17:57:08.251Z"
   },
   {
    "duration": 30,
    "start_time": "2022-10-13T17:57:14.406Z"
   },
   {
    "duration": 29,
    "start_time": "2022-10-13T17:57:17.797Z"
   },
   {
    "duration": 184,
    "start_time": "2022-10-13T17:57:20.391Z"
   },
   {
    "duration": 5,
    "start_time": "2022-10-13T17:57:25.100Z"
   },
   {
    "duration": 9,
    "start_time": "2022-10-13T17:57:27.440Z"
   },
   {
    "duration": 6,
    "start_time": "2022-10-13T17:57:29.538Z"
   },
   {
    "duration": 14,
    "start_time": "2022-10-13T17:57:32.047Z"
   },
   {
    "duration": 18,
    "start_time": "2022-10-13T17:57:34.300Z"
   },
   {
    "duration": 69,
    "start_time": "2022-10-13T17:57:37.015Z"
   },
   {
    "duration": 114,
    "start_time": "2022-10-13T17:57:42.209Z"
   },
   {
    "duration": 70,
    "start_time": "2022-10-13T17:57:49.969Z"
   },
   {
    "duration": 17,
    "start_time": "2022-10-13T17:57:53.492Z"
   },
   {
    "duration": 113,
    "start_time": "2022-10-13T17:57:56.067Z"
   },
   {
    "duration": 27,
    "start_time": "2022-10-13T17:58:00.020Z"
   },
   {
    "duration": 9,
    "start_time": "2022-10-13T17:58:02.714Z"
   },
   {
    "duration": 117,
    "start_time": "2022-10-13T17:58:05.329Z"
   },
   {
    "duration": 114,
    "start_time": "2022-10-13T17:58:08.029Z"
   },
   {
    "duration": 36,
    "start_time": "2022-10-13T17:58:10.538Z"
   },
   {
    "duration": 14,
    "start_time": "2022-10-13T17:58:13.115Z"
   },
   {
    "duration": 107,
    "start_time": "2022-10-13T17:58:15.372Z"
   },
   {
    "duration": 99,
    "start_time": "2022-10-13T17:58:18.129Z"
   },
   {
    "duration": 173,
    "start_time": "2022-10-13T17:58:20.707Z"
   },
   {
    "duration": 12,
    "start_time": "2022-10-13T17:58:23.301Z"
   },
   {
    "duration": 106,
    "start_time": "2022-10-13T17:58:25.896Z"
   },
   {
    "duration": 12,
    "start_time": "2022-10-13T17:58:28.373Z"
   },
   {
    "duration": 321,
    "start_time": "2022-10-13T17:58:31.060Z"
   },
   {
    "duration": 245,
    "start_time": "2022-10-13T17:58:37.591Z"
   },
   {
    "duration": 263,
    "start_time": "2022-10-13T17:58:40.199Z"
   },
   {
    "duration": 239,
    "start_time": "2022-10-13T17:58:42.826Z"
   },
   {
    "duration": 448,
    "start_time": "2022-10-13T17:58:46.011Z"
   },
   {
    "duration": 237,
    "start_time": "2022-10-13T17:58:49.434Z"
   },
   {
    "duration": 223,
    "start_time": "2022-10-13T17:58:51.915Z"
   },
   {
    "duration": 237,
    "start_time": "2022-10-13T17:58:54.805Z"
   },
   {
    "duration": 135,
    "start_time": "2022-10-13T17:58:57.400Z"
   },
   {
    "duration": 342,
    "start_time": "2022-10-13T17:59:02.066Z"
   },
   {
    "duration": 7,
    "start_time": "2022-10-13T17:59:07.254Z"
   },
   {
    "duration": 179,
    "start_time": "2022-10-13T17:59:10.617Z"
   },
   {
    "duration": 181,
    "start_time": "2022-10-13T17:59:13.931Z"
   },
   {
    "duration": 175,
    "start_time": "2022-10-13T17:59:16.729Z"
   },
   {
    "duration": 206,
    "start_time": "2022-10-13T17:59:19.040Z"
   },
   {
    "duration": 185,
    "start_time": "2022-10-13T17:59:21.582Z"
   },
   {
    "duration": 9,
    "start_time": "2022-10-13T18:01:52.952Z"
   },
   {
    "duration": 5,
    "start_time": "2022-10-13T18:01:56.465Z"
   },
   {
    "duration": 116,
    "start_time": "2022-10-13T18:01:59.245Z"
   },
   {
    "duration": 242,
    "start_time": "2022-10-13T18:02:02.366Z"
   },
   {
    "duration": 170,
    "start_time": "2022-10-13T18:02:06.855Z"
   },
   {
    "duration": 273,
    "start_time": "2022-10-13T18:02:13.741Z"
   },
   {
    "duration": 167,
    "start_time": "2022-10-13T18:02:17.476Z"
   },
   {
    "duration": 157,
    "start_time": "2022-10-13T18:02:23.869Z"
   },
   {
    "duration": 160,
    "start_time": "2022-10-13T18:02:31.531Z"
   },
   {
    "duration": 165,
    "start_time": "2022-10-13T18:02:46.060Z"
   },
   {
    "duration": 47,
    "start_time": "2022-10-13T18:03:13.555Z"
   },
   {
    "duration": 15,
    "start_time": "2022-10-13T18:03:42.805Z"
   },
   {
    "duration": 24,
    "start_time": "2022-10-13T18:03:57.103Z"
   },
   {
    "duration": 61,
    "start_time": "2022-10-13T18:04:20.508Z"
   },
   {
    "duration": 51,
    "start_time": "2022-10-13T18:04:37.831Z"
   },
   {
    "duration": 41,
    "start_time": "2022-10-13T18:04:56.685Z"
   },
   {
    "duration": 208,
    "start_time": "2022-10-13T18:06:08.902Z"
   },
   {
    "duration": 158,
    "start_time": "2022-10-13T18:06:13.491Z"
   },
   {
    "duration": 67,
    "start_time": "2022-10-13T18:07:56.598Z"
   },
   {
    "duration": 46,
    "start_time": "2022-10-13T18:08:13.503Z"
   },
   {
    "duration": 182,
    "start_time": "2022-10-13T18:10:38.503Z"
   },
   {
    "duration": 149,
    "start_time": "2022-10-13T18:10:53.707Z"
   },
   {
    "duration": 140,
    "start_time": "2022-10-13T18:12:09.805Z"
   },
   {
    "duration": 15,
    "start_time": "2022-10-13T18:12:40.385Z"
   },
   {
    "duration": 15,
    "start_time": "2022-10-13T18:12:53.935Z"
   },
   {
    "duration": 50,
    "start_time": "2022-10-13T18:14:04.828Z"
   },
   {
    "duration": 15,
    "start_time": "2022-10-13T18:14:18.132Z"
   },
   {
    "duration": 148,
    "start_time": "2022-10-13T18:15:13.809Z"
   },
   {
    "duration": 50,
    "start_time": "2022-10-13T18:15:57.653Z"
   },
   {
    "duration": 48,
    "start_time": "2022-10-13T18:17:35.621Z"
   },
   {
    "duration": 134,
    "start_time": "2022-10-13T18:17:46.881Z"
   },
   {
    "duration": 142,
    "start_time": "2022-10-13T18:18:15.445Z"
   },
   {
    "duration": 135,
    "start_time": "2022-10-13T18:18:25.074Z"
   },
   {
    "duration": 445,
    "start_time": "2022-10-13T18:18:54.904Z"
   },
   {
    "duration": 16,
    "start_time": "2022-10-13T18:19:47.183Z"
   },
   {
    "duration": 126,
    "start_time": "2022-10-13T18:19:52.937Z"
   },
   {
    "duration": 175,
    "start_time": "2022-10-13T18:24:55.032Z"
   },
   {
    "duration": 153,
    "start_time": "2022-10-13T18:25:08.244Z"
   },
   {
    "duration": 170,
    "start_time": "2022-10-13T18:25:51.935Z"
   },
   {
    "duration": 19,
    "start_time": "2022-10-13T18:34:38.311Z"
   },
   {
    "duration": 15,
    "start_time": "2022-10-13T18:34:45.350Z"
   },
   {
    "duration": 160,
    "start_time": "2022-10-13T18:34:56.713Z"
   },
   {
    "duration": 50,
    "start_time": "2022-10-13T19:06:47.112Z"
   },
   {
    "duration": 8,
    "start_time": "2022-10-13T19:07:13.441Z"
   },
   {
    "duration": 23,
    "start_time": "2022-10-13T19:39:15.758Z"
   },
   {
    "duration": 29,
    "start_time": "2022-10-13T19:39:28.906Z"
   },
   {
    "duration": 24,
    "start_time": "2022-10-13T19:39:48.562Z"
   },
   {
    "duration": 20,
    "start_time": "2022-10-13T19:40:43.670Z"
   },
   {
    "duration": 27,
    "start_time": "2022-10-13T19:42:17.212Z"
   },
   {
    "duration": 29,
    "start_time": "2022-10-13T19:42:53.689Z"
   },
   {
    "duration": 30,
    "start_time": "2022-10-13T19:43:33.653Z"
   },
   {
    "duration": 29,
    "start_time": "2022-10-13T19:44:28.526Z"
   },
   {
    "duration": 17,
    "start_time": "2022-10-13T19:47:10.453Z"
   },
   {
    "duration": 7,
    "start_time": "2022-10-13T19:47:55.424Z"
   },
   {
    "duration": 13,
    "start_time": "2022-10-13T19:47:58.646Z"
   },
   {
    "duration": 15,
    "start_time": "2022-10-13T19:49:37.416Z"
   },
   {
    "duration": 13,
    "start_time": "2022-10-13T19:51:58.066Z"
   },
   {
    "duration": 18,
    "start_time": "2022-10-13T19:52:38.845Z"
   },
   {
    "duration": 49,
    "start_time": "2022-10-13T19:58:39.370Z"
   },
   {
    "duration": 41,
    "start_time": "2022-10-13T19:58:49.838Z"
   },
   {
    "duration": 24,
    "start_time": "2022-10-13T19:59:01.245Z"
   },
   {
    "duration": 32,
    "start_time": "2022-10-13T19:59:58.858Z"
   },
   {
    "duration": 33,
    "start_time": "2022-10-13T20:01:41.099Z"
   },
   {
    "duration": 24,
    "start_time": "2022-10-13T20:03:14.443Z"
   },
   {
    "duration": 51,
    "start_time": "2022-10-13T20:04:54.290Z"
   },
   {
    "duration": 115,
    "start_time": "2022-10-13T20:05:28.255Z"
   },
   {
    "duration": 61,
    "start_time": "2022-10-13T20:08:30.675Z"
   },
   {
    "duration": 42,
    "start_time": "2022-10-13T20:08:45.928Z"
   },
   {
    "duration": 23,
    "start_time": "2022-10-13T20:09:29.352Z"
   },
   {
    "duration": 23,
    "start_time": "2022-10-13T20:09:45.753Z"
   },
   {
    "duration": 14,
    "start_time": "2022-10-13T20:10:58.730Z"
   },
   {
    "duration": 16,
    "start_time": "2022-10-13T20:22:22.015Z"
   },
   {
    "duration": 18,
    "start_time": "2022-10-13T20:24:52.543Z"
   },
   {
    "duration": 164,
    "start_time": "2022-10-13T20:26:10.112Z"
   },
   {
    "duration": 1110,
    "start_time": "2022-10-14T12:10:12.494Z"
   },
   {
    "duration": 2073,
    "start_time": "2022-10-14T12:26:32.130Z"
   },
   {
    "duration": 96,
    "start_time": "2022-10-14T12:28:09.211Z"
   },
   {
    "duration": 2248,
    "start_time": "2022-10-14T12:29:02.810Z"
   },
   {
    "duration": 15,
    "start_time": "2022-10-14T13:30:13.810Z"
   },
   {
    "duration": 38,
    "start_time": "2022-10-14T13:45:29.859Z"
   },
   {
    "duration": 42,
    "start_time": "2022-10-14T13:45:32.832Z"
   },
   {
    "duration": 212,
    "start_time": "2022-10-14T13:45:35.283Z"
   },
   {
    "duration": 4,
    "start_time": "2022-10-14T13:46:15.055Z"
   },
   {
    "duration": 5,
    "start_time": "2022-10-14T13:47:04.974Z"
   },
   {
    "duration": 223,
    "start_time": "2022-10-14T13:47:07.874Z"
   },
   {
    "duration": 13,
    "start_time": "2022-10-14T13:49:39.791Z"
   },
   {
    "duration": 123,
    "start_time": "2022-10-14T14:20:09.342Z"
   },
   {
    "duration": 225,
    "start_time": "2022-10-14T14:20:26.043Z"
   },
   {
    "duration": 204,
    "start_time": "2022-10-14T14:20:48.285Z"
   },
   {
    "duration": 96,
    "start_time": "2022-10-14T14:21:21.892Z"
   },
   {
    "duration": 15,
    "start_time": "2022-10-14T14:21:45.654Z"
   },
   {
    "duration": 329,
    "start_time": "2022-10-14T14:21:53.882Z"
   },
   {
    "duration": 232,
    "start_time": "2022-10-14T14:22:47.578Z"
   },
   {
    "duration": 246,
    "start_time": "2022-10-14T14:23:07.704Z"
   },
   {
    "duration": 284,
    "start_time": "2022-10-14T14:23:20.476Z"
   },
   {
    "duration": 341,
    "start_time": "2022-10-14T14:23:44.687Z"
   },
   {
    "duration": 254,
    "start_time": "2022-10-14T14:23:50.219Z"
   },
   {
    "duration": 240,
    "start_time": "2022-10-14T14:43:53.270Z"
   },
   {
    "duration": 7,
    "start_time": "2022-10-14T14:46:01.806Z"
   },
   {
    "duration": 16,
    "start_time": "2022-10-14T14:57:36.052Z"
   },
   {
    "duration": 6,
    "start_time": "2022-10-14T14:58:09.684Z"
   },
   {
    "duration": 14,
    "start_time": "2022-10-14T14:58:17.264Z"
   },
   {
    "duration": 27,
    "start_time": "2022-10-14T15:05:34.735Z"
   },
   {
    "duration": 50,
    "start_time": "2022-10-14T15:10:37.225Z"
   },
   {
    "duration": 20,
    "start_time": "2022-10-14T15:11:53.591Z"
   },
   {
    "duration": 16,
    "start_time": "2022-10-14T15:12:08.119Z"
   },
   {
    "duration": 81,
    "start_time": "2022-10-14T15:12:17.804Z"
   },
   {
    "duration": 20,
    "start_time": "2022-10-14T15:12:21.805Z"
   },
   {
    "duration": 137,
    "start_time": "2022-10-14T15:12:29.225Z"
   },
   {
    "duration": 26,
    "start_time": "2022-10-14T15:12:37.380Z"
   },
   {
    "duration": 9,
    "start_time": "2022-10-14T15:14:36.916Z"
   },
   {
    "duration": 134,
    "start_time": "2022-10-14T15:15:05.288Z"
   },
   {
    "duration": 159,
    "start_time": "2022-10-14T15:17:37.095Z"
   },
   {
    "duration": 36,
    "start_time": "2022-10-14T15:17:41.192Z"
   },
   {
    "duration": 20,
    "start_time": "2022-10-14T15:17:46.574Z"
   },
   {
    "duration": 136,
    "start_time": "2022-10-14T15:18:23.828Z"
   },
   {
    "duration": 142,
    "start_time": "2022-10-14T15:18:38.766Z"
   },
   {
    "duration": 144,
    "start_time": "2022-10-14T15:20:11.918Z"
   },
   {
    "duration": 72,
    "start_time": "2022-10-14T15:26:10.394Z"
   },
   {
    "duration": 69,
    "start_time": "2022-10-14T15:28:02.831Z"
   },
   {
    "duration": 151,
    "start_time": "2022-10-14T15:32:19.028Z"
   },
   {
    "duration": 99,
    "start_time": "2022-10-14T15:32:22.647Z"
   },
   {
    "duration": 10,
    "start_time": "2022-10-14T15:32:25.422Z"
   },
   {
    "duration": 137,
    "start_time": "2022-10-14T15:32:29.372Z"
   },
   {
    "duration": 119,
    "start_time": "2022-10-14T15:32:32.243Z"
   },
   {
    "duration": 29,
    "start_time": "2022-10-14T15:32:35.450Z"
   },
   {
    "duration": 15,
    "start_time": "2022-10-14T15:32:39.553Z"
   },
   {
    "duration": 113,
    "start_time": "2022-10-14T15:32:42.848Z"
   },
   {
    "duration": 114,
    "start_time": "2022-10-14T15:32:49.634Z"
   },
   {
    "duration": 119,
    "start_time": "2022-10-14T15:32:52.234Z"
   },
   {
    "duration": 13,
    "start_time": "2022-10-14T15:32:56.662Z"
   },
   {
    "duration": 116,
    "start_time": "2022-10-14T15:32:59.468Z"
   },
   {
    "duration": 13,
    "start_time": "2022-10-14T15:33:04.725Z"
   },
   {
    "duration": 66,
    "start_time": "2022-10-14T15:34:05.364Z"
   },
   {
    "duration": 111,
    "start_time": "2022-10-14T15:35:54.258Z"
   },
   {
    "duration": 116,
    "start_time": "2022-10-14T15:42:48.336Z"
   },
   {
    "duration": 10,
    "start_time": "2022-10-14T15:43:14.720Z"
   },
   {
    "duration": 124,
    "start_time": "2022-10-14T15:43:18.055Z"
   },
   {
    "duration": 10,
    "start_time": "2022-10-14T15:53:13.614Z"
   },
   {
    "duration": 130,
    "start_time": "2022-10-14T15:53:49.521Z"
   },
   {
    "duration": 12,
    "start_time": "2022-10-14T15:55:21.912Z"
   },
   {
    "duration": 134,
    "start_time": "2022-10-14T15:56:55.443Z"
   },
   {
    "duration": 89,
    "start_time": "2022-10-14T16:08:28.432Z"
   },
   {
    "duration": 103,
    "start_time": "2022-10-14T16:11:37.122Z"
   },
   {
    "duration": 90,
    "start_time": "2022-10-14T16:11:41.347Z"
   },
   {
    "duration": 1955,
    "start_time": "2022-10-14T16:11:46.240Z"
   },
   {
    "duration": 8,
    "start_time": "2022-10-14T16:11:53.581Z"
   },
   {
    "duration": 32,
    "start_time": "2022-10-14T16:12:01.920Z"
   },
   {
    "duration": 34,
    "start_time": "2022-10-14T16:12:06.421Z"
   },
   {
    "duration": 203,
    "start_time": "2022-10-14T16:12:12.185Z"
   },
   {
    "duration": 14,
    "start_time": "2022-10-14T16:12:16.296Z"
   },
   {
    "duration": 233,
    "start_time": "2022-10-14T16:12:20.471Z"
   },
   {
    "duration": 8,
    "start_time": "2022-10-14T16:12:24.585Z"
   },
   {
    "duration": 20,
    "start_time": "2022-10-14T16:12:28.998Z"
   },
   {
    "duration": 76,
    "start_time": "2022-10-14T16:12:32.339Z"
   },
   {
    "duration": 17,
    "start_time": "2022-10-14T16:12:36.903Z"
   },
   {
    "duration": 72,
    "start_time": "2022-10-14T16:12:43.119Z"
   },
   {
    "duration": 132,
    "start_time": "2022-10-14T16:18:30.364Z"
   },
   {
    "duration": 25,
    "start_time": "2022-10-14T16:18:34.401Z"
   },
   {
    "duration": 9,
    "start_time": "2022-10-14T16:18:37.282Z"
   },
   {
    "duration": 132,
    "start_time": "2022-10-14T16:18:41.157Z"
   },
   {
    "duration": 240,
    "start_time": "2022-10-14T16:18:44.183Z"
   },
   {
    "duration": 45,
    "start_time": "2022-10-14T16:18:48.968Z"
   },
   {
    "duration": 13,
    "start_time": "2022-10-14T16:18:55.187Z"
   },
   {
    "duration": 139,
    "start_time": "2022-10-14T16:18:58.379Z"
   },
   {
    "duration": 121,
    "start_time": "2022-10-14T16:19:01.978Z"
   },
   {
    "duration": 137,
    "start_time": "2022-10-14T16:19:05.146Z"
   },
   {
    "duration": 13,
    "start_time": "2022-10-14T16:19:13.228Z"
   },
   {
    "duration": 122,
    "start_time": "2022-10-14T16:19:16.207Z"
   },
   {
    "duration": 13,
    "start_time": "2022-10-14T16:19:19.463Z"
   },
   {
    "duration": 11,
    "start_time": "2022-10-14T16:19:22.499Z"
   },
   {
    "duration": 115,
    "start_time": "2022-10-14T16:19:30.307Z"
   },
   {
    "duration": 126,
    "start_time": "2022-10-14T16:19:36.917Z"
   },
   {
    "duration": 79,
    "start_time": "2022-10-14T16:19:44.209Z"
   },
   {
    "duration": 7,
    "start_time": "2022-10-14T16:30:40.047Z"
   },
   {
    "duration": 76,
    "start_time": "2022-10-14T16:31:01.163Z"
   },
   {
    "duration": 381,
    "start_time": "2022-10-14T16:35:22.444Z"
   },
   {
    "duration": 66,
    "start_time": "2022-10-14T16:36:46.945Z"
   },
   {
    "duration": 357,
    "start_time": "2022-10-14T16:38:01.470Z"
   },
   {
    "duration": 290,
    "start_time": "2022-10-14T16:41:47.750Z"
   },
   {
    "duration": 293,
    "start_time": "2022-10-14T16:42:43.633Z"
   },
   {
    "duration": 404,
    "start_time": "2022-10-14T16:43:19.549Z"
   },
   {
    "duration": 278,
    "start_time": "2022-10-14T16:44:49.770Z"
   },
   {
    "duration": 375,
    "start_time": "2022-10-14T16:45:45.458Z"
   },
   {
    "duration": 281,
    "start_time": "2022-10-14T16:46:20.618Z"
   },
   {
    "duration": 152,
    "start_time": "2022-10-14T16:46:57.364Z"
   },
   {
    "duration": 269,
    "start_time": "2022-10-14T16:47:41.361Z"
   },
   {
    "duration": 7,
    "start_time": "2022-10-14T16:49:17.699Z"
   },
   {
    "duration": 194,
    "start_time": "2022-10-14T16:49:22.064Z"
   },
   {
    "duration": 202,
    "start_time": "2022-10-14T16:50:21.729Z"
   },
   {
    "duration": 190,
    "start_time": "2022-10-14T16:51:15.435Z"
   },
   {
    "duration": 209,
    "start_time": "2022-10-14T16:51:50.342Z"
   },
   {
    "duration": 203,
    "start_time": "2022-10-14T16:52:18.354Z"
   },
   {
    "duration": 11,
    "start_time": "2022-10-14T16:52:39.286Z"
   },
   {
    "duration": 5,
    "start_time": "2022-10-14T16:52:46.918Z"
   },
   {
    "duration": 248,
    "start_time": "2022-10-14T16:52:52.755Z"
   },
   {
    "duration": 309,
    "start_time": "2022-10-14T16:52:57.611Z"
   },
   {
    "duration": 244,
    "start_time": "2022-10-14T16:53:33.047Z"
   },
   {
    "duration": 248,
    "start_time": "2022-10-14T16:55:46.667Z"
   },
   {
    "duration": 248,
    "start_time": "2022-10-14T16:55:54.372Z"
   },
   {
    "duration": 184,
    "start_time": "2022-10-14T17:00:05.494Z"
   },
   {
    "duration": 174,
    "start_time": "2022-10-14T17:10:10.169Z"
   },
   {
    "duration": 329,
    "start_time": "2022-10-14T17:51:28.814Z"
   },
   {
    "duration": 208,
    "start_time": "2022-10-14T17:55:28.983Z"
   },
   {
    "duration": 142,
    "start_time": "2022-10-14T18:03:56.864Z"
   },
   {
    "duration": 182,
    "start_time": "2022-10-14T18:09:33.367Z"
   },
   {
    "duration": 184,
    "start_time": "2022-10-14T18:09:49.302Z"
   },
   {
    "duration": 183,
    "start_time": "2022-10-14T18:11:04.733Z"
   },
   {
    "duration": 177,
    "start_time": "2022-10-14T18:11:47.511Z"
   },
   {
    "duration": 232,
    "start_time": "2022-10-14T18:12:09.026Z"
   },
   {
    "duration": 234,
    "start_time": "2022-10-14T18:12:31.686Z"
   },
   {
    "duration": 194,
    "start_time": "2022-10-14T18:12:52.347Z"
   },
   {
    "duration": 1063,
    "start_time": "2022-10-14T18:23:19.034Z"
   },
   {
    "duration": 182,
    "start_time": "2022-10-14T18:24:20.375Z"
   },
   {
    "duration": 183,
    "start_time": "2022-10-14T18:27:52.774Z"
   },
   {
    "duration": 48,
    "start_time": "2022-10-14T18:34:13.790Z"
   },
   {
    "duration": 192,
    "start_time": "2022-10-14T18:34:29.883Z"
   },
   {
    "duration": 7,
    "start_time": "2022-10-14T18:46:59.599Z"
   },
   {
    "duration": 13,
    "start_time": "2022-10-14T18:47:06.881Z"
   },
   {
    "duration": 181,
    "start_time": "2022-10-14T18:58:31.366Z"
   },
   {
    "duration": 272,
    "start_time": "2022-10-14T18:59:45.229Z"
   },
   {
    "duration": 218,
    "start_time": "2022-10-14T19:00:31.558Z"
   },
   {
    "duration": 42,
    "start_time": "2022-10-14T19:01:09.616Z"
   },
   {
    "duration": 308,
    "start_time": "2022-10-14T19:01:13.690Z"
   },
   {
    "duration": 105,
    "start_time": "2022-10-14T21:02:39.668Z"
   },
   {
    "duration": 110,
    "start_time": "2022-10-14T21:08:00.136Z"
   },
   {
    "duration": 95,
    "start_time": "2022-10-14T21:08:09.828Z"
   },
   {
    "duration": 1863,
    "start_time": "2022-10-14T21:08:14.125Z"
   },
   {
    "duration": 14,
    "start_time": "2022-10-14T21:08:21.732Z"
   },
   {
    "duration": 32,
    "start_time": "2022-10-14T21:08:27.656Z"
   },
   {
    "duration": 32,
    "start_time": "2022-10-14T21:08:30.920Z"
   },
   {
    "duration": 197,
    "start_time": "2022-10-14T21:08:33.154Z"
   },
   {
    "duration": 14,
    "start_time": "2022-10-14T21:08:36.486Z"
   },
   {
    "duration": 243,
    "start_time": "2022-10-14T21:08:38.652Z"
   },
   {
    "duration": 12,
    "start_time": "2022-10-14T21:08:42.719Z"
   },
   {
    "duration": 18,
    "start_time": "2022-10-14T21:08:45.288Z"
   },
   {
    "duration": 78,
    "start_time": "2022-10-14T21:08:48.247Z"
   },
   {
    "duration": 17,
    "start_time": "2022-10-14T21:08:51.116Z"
   },
   {
    "duration": 218,
    "start_time": "2022-10-14T21:08:55.941Z"
   },
   {
    "duration": 147,
    "start_time": "2022-10-14T21:08:58.863Z"
   },
   {
    "duration": 26,
    "start_time": "2022-10-14T21:09:02.312Z"
   },
   {
    "duration": 9,
    "start_time": "2022-10-14T21:09:05.210Z"
   },
   {
    "duration": 127,
    "start_time": "2022-10-14T21:09:07.728Z"
   },
   {
    "duration": 130,
    "start_time": "2022-10-14T21:09:10.213Z"
   },
   {
    "duration": 38,
    "start_time": "2022-10-14T21:09:12.550Z"
   },
   {
    "duration": 14,
    "start_time": "2022-10-14T21:09:15.481Z"
   },
   {
    "duration": 127,
    "start_time": "2022-10-14T21:09:17.997Z"
   },
   {
    "duration": 115,
    "start_time": "2022-10-14T21:09:20.419Z"
   },
   {
    "duration": 129,
    "start_time": "2022-10-14T21:09:22.674Z"
   },
   {
    "duration": 13,
    "start_time": "2022-10-14T21:09:25.052Z"
   },
   {
    "duration": 119,
    "start_time": "2022-10-14T21:09:28.443Z"
   },
   {
    "duration": 14,
    "start_time": "2022-10-14T21:09:32.740Z"
   },
   {
    "duration": 10,
    "start_time": "2022-10-14T21:09:35.720Z"
   },
   {
    "duration": 114,
    "start_time": "2022-10-14T21:09:38.478Z"
   },
   {
    "duration": 8,
    "start_time": "2022-10-14T21:09:40.912Z"
   },
   {
    "duration": 122,
    "start_time": "2022-10-14T21:09:42.776Z"
   },
   {
    "duration": 78,
    "start_time": "2022-10-14T21:09:45.756Z"
   },
   {
    "duration": 346,
    "start_time": "2022-10-14T21:09:49.106Z"
   },
   {
    "duration": 274,
    "start_time": "2022-10-14T21:09:54.111Z"
   },
   {
    "duration": 250,
    "start_time": "2022-10-14T21:09:56.835Z"
   },
   {
    "duration": 406,
    "start_time": "2022-10-14T21:09:59.576Z"
   },
   {
    "duration": 387,
    "start_time": "2022-10-14T21:10:02.745Z"
   },
   {
    "duration": 266,
    "start_time": "2022-10-14T21:10:05.718Z"
   },
   {
    "duration": 293,
    "start_time": "2022-10-14T21:10:08.732Z"
   },
   {
    "duration": 271,
    "start_time": "2022-10-14T21:10:11.652Z"
   },
   {
    "duration": 291,
    "start_time": "2022-10-14T21:10:13.989Z"
   },
   {
    "duration": 262,
    "start_time": "2022-10-14T21:10:16.409Z"
   },
   {
    "duration": 10,
    "start_time": "2022-10-14T21:10:18.875Z"
   },
   {
    "duration": 206,
    "start_time": "2022-10-14T21:10:21.691Z"
   },
   {
    "duration": 195,
    "start_time": "2022-10-14T21:10:24.435Z"
   },
   {
    "duration": 190,
    "start_time": "2022-10-14T21:10:27.614Z"
   },
   {
    "duration": 213,
    "start_time": "2022-10-14T21:10:30.334Z"
   },
   {
    "duration": 188,
    "start_time": "2022-10-14T21:10:32.893Z"
   },
   {
    "duration": 10,
    "start_time": "2022-10-14T21:10:35.445Z"
   },
   {
    "duration": 4,
    "start_time": "2022-10-14T21:10:39.927Z"
   },
   {
    "duration": 126,
    "start_time": "2022-10-14T21:10:41.429Z"
   },
   {
    "duration": 260,
    "start_time": "2022-10-14T21:10:44.922Z"
   },
   {
    "duration": 408,
    "start_time": "2022-10-14T21:10:48.402Z"
   },
   {
    "duration": 178,
    "start_time": "2022-10-14T21:10:55.308Z"
   },
   {
    "duration": 166,
    "start_time": "2022-10-14T21:10:58.477Z"
   },
   {
    "duration": 161,
    "start_time": "2022-10-14T21:11:01.663Z"
   },
   {
    "duration": 171,
    "start_time": "2022-10-14T21:11:04.816Z"
   },
   {
    "duration": 137,
    "start_time": "2022-10-14T21:11:07.985Z"
   },
   {
    "duration": 174,
    "start_time": "2022-10-14T21:11:32.132Z"
   },
   {
    "duration": 215,
    "start_time": "2022-10-14T21:12:06.920Z"
   },
   {
    "duration": 192,
    "start_time": "2022-10-14T21:12:24.751Z"
   },
   {
    "duration": 8,
    "start_time": "2022-10-14T21:12:30.347Z"
   },
   {
    "duration": 21,
    "start_time": "2022-10-14T21:12:32.818Z"
   },
   {
    "duration": 204,
    "start_time": "2022-10-14T21:12:38.109Z"
   }
  ],
  "kernelspec": {
   "display_name": "Python 3 (ipykernel)",
   "language": "python",
   "name": "python3"
  },
  "language_info": {
   "codemirror_mode": {
    "name": "ipython",
    "version": 3
   },
   "file_extension": ".py",
   "mimetype": "text/x-python",
   "name": "python",
   "nbconvert_exporter": "python",
   "pygments_lexer": "ipython3",
   "version": "3.9.12"
  },
  "toc": {
   "base_numbering": 1,
   "nav_menu": {},
   "number_sections": true,
   "sideBar": true,
   "skip_h1_title": true,
   "title_cell": "Table of Contents",
   "title_sidebar": "Contents",
   "toc_cell": false,
   "toc_position": {},
   "toc_section_display": true,
   "toc_window_display": false
  }
 },
 "nbformat": 4,
 "nbformat_minor": 2
}
